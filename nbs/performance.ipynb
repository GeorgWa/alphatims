{
 "cells": [
  {
   "cell_type": "markdown",
   "metadata": {},
   "source": [
    "# Performance"
   ]
  },
  {
   "cell_type": "markdown",
   "metadata": {},
   "source": [
    "This notebook is intended to demonstrate the performance of AlphaTIMS.\n",
    "It contains the following information:\n",
    "1. [**Samples**](#Samples)\n",
    "2. [**Reading raw Bruker .d folders**](#Reading-raw-Bruker-.d-folders)\n",
    "3. [**Saving HDF files**](#Saving-HDF-files)\n",
    "4. [**Reading HDF files**](#Reading-HDF-files)\n",
    "5. [**Slicing data**](#Slicing-data)\n",
    "6. [**Final overview**](#Final-overview)"
   ]
  },
  {
   "cell_type": "markdown",
   "metadata": {},
   "source": [
    "The following system was used:"
   ]
  },
  {
   "cell_type": "code",
   "execution_count": 1,
   "metadata": {
    "execution": {
     "iopub.execute_input": "2021-05-05T07:39:16.200564Z",
     "iopub.status.busy": "2021-05-05T07:39:16.199764Z",
     "iopub.status.idle": "2021-05-05T07:39:16.443047Z",
     "shell.execute_reply": "2021-05-05T07:39:16.441655Z"
    }
   },
   "outputs": [
    {
     "name": "stdout",
     "output_type": "stream",
     "text": [
      "2021-05-05 09:39:16> Platform information:\n",
      "2021-05-05 09:39:16> system        - Darwin\n",
      "2021-05-05 09:39:16> release       - 19.6.0\n",
      "2021-05-05 09:39:16> version       - 10.15.7\n",
      "2021-05-05 09:39:16> machine       - x86_64\n",
      "2021-05-05 09:39:16> processor     - i386\n",
      "2021-05-05 09:39:16> cpu count     - 8\n",
      "2021-05-05 09:39:16> cpu frequency - 2300.00 Mhz\n",
      "2021-05-05 09:39:16> ram           - 22.0/32.0 Gb (available/total)\n",
      "2021-05-05 09:39:16> \n",
      "2021-05-05 09:39:16> Python information:\n",
      "2021-05-05 09:39:16> alphatims  - 0.2.6\n",
      "2021-05-05 09:39:16> bokeh      - 2.2.3\n",
      "2021-05-05 09:39:16> click      - 7.1.2\n",
      "2021-05-05 09:39:16> datashader - 0.12.1\n",
      "2021-05-05 09:39:16> h5py       - 3.2.1\n",
      "2021-05-05 09:39:16> hvplot     - 0.7.1\n",
      "2021-05-05 09:39:16> numba      - 0.53.1\n",
      "2021-05-05 09:39:16> pandas     - 1.2.3\n",
      "2021-05-05 09:39:16> psutil     - 5.8.0\n",
      "2021-05-05 09:39:16> python     - 3.8.8\n",
      "2021-05-05 09:39:16> pyzstd     - 0.14.4\n",
      "2021-05-05 09:39:16> selenium   - 3.141.0\n",
      "2021-05-05 09:39:16> tqdm       - 4.60.0\n",
      "2021-05-05 09:39:16> \n"
     ]
    }
   ],
   "source": [
    "import alphatims.utils\n",
    "import pandas as pd\n",
    "import numpy as np\n",
    "\n",
    "alphatims.utils.set_threads(8)\n",
    "log_file_name = alphatims.utils.set_logger(\n",
    "    log_file_name=\"performance_log.txt\",\n",
    "    overwrite=True\n",
    ")\n",
    "alphatims.utils.show_platform_info()\n",
    "alphatims.utils.show_python_info()\n",
    "alphatims.utils.set_progress_callback(None)"
   ]
  },
  {
   "cell_type": "markdown",
   "metadata": {},
   "source": [
    "## Samples"
   ]
  },
  {
   "cell_type": "markdown",
   "metadata": {},
   "source": [
    "Five samples are used and compared:"
   ]
  },
  {
   "cell_type": "code",
   "execution_count": 2,
   "metadata": {
    "execution": {
     "iopub.execute_input": "2021-05-05T07:39:16.449097Z",
     "iopub.status.busy": "2021-05-05T07:39:16.448461Z",
     "iopub.status.idle": "2021-05-05T07:39:16.450374Z",
     "shell.execute_reply": "2021-05-05T07:39:16.450850Z"
    }
   },
   "outputs": [],
   "source": [
    "file_names = {\n",
    "    \"DDA_6\": \"/Users/swillems/Data/alphatims_testing/20201016_tims03_Evo03_PS_MA_HeLa_200ng_DDA_06-15_5_6min_4cm_S1-A1_1_21717.d\",\n",
    "    \"DIA_6\": \"/Users/swillems/Data/alphatims_testing/20201016_tims03_Evo03_PS_SA_HeLa_200ng_300-1200_2steps_16scans_06-15_5_6min_4cm_S1-A4_1_21720.d\",\n",
    "    \"DDA_21\": \"/Users/swillems/Data/alphatims_testing/20201207_tims03_Evo03_PS_SA_HeLa_200ng_EvoSep_prot_DDA_21min_8cm_S1-C10_1_22476.d\",\n",
    "    \"DIA_21\": \"/Users/swillems/Data/alphatims_testing/20201207_tims03_Evo03_PS_SA_HeLa_200ng_EvoSep_prot_high_speed_21min_8cm_S1-C8_1_22474.d\",\n",
    "    \"DDA_120\": \"/Users/swillems/Data/alphatims_testing/HeLa_200ng_1428.d\"\n",
    "}\n",
    "overview = pd.DataFrame(index=file_names.keys())\n",
    "overview[\"Type\"] = pd.Series({x: x.split(\"_\")[0] for x in file_names})\n",
    "overview[\"Gradient (min)\"] = pd.Series({x: x.split(\"_\")[1] for x in file_names})"
   ]
  },
  {
   "cell_type": "markdown",
   "metadata": {},
   "source": [
    "We first load all these files to show their basic statistics before we do the actual timing:"
   ]
  },
  {
   "cell_type": "code",
   "execution_count": 3,
   "metadata": {
    "execution": {
     "iopub.execute_input": "2021-05-05T07:39:16.455200Z",
     "iopub.status.busy": "2021-05-05T07:39:16.454654Z",
     "iopub.status.idle": "2021-05-05T07:39:59.250314Z",
     "shell.execute_reply": "2021-05-05T07:39:59.250732Z"
    }
   },
   "outputs": [
    {
     "name": "stdout",
     "output_type": "stream",
     "text": [
      "2021-05-05 09:39:16> WARNING: No Bruker libraries are available for this operating system. Intensities are uncalibrated, resulting in (very) small differences. However, mobility and m/z values need to be estimated. While this estimation often returns acceptable results with errors < 0.02 Th, huge errors (e.g. offsets of 6 Th) have already been observed for some samples!\n",
      "2021-05-05 09:39:16> \n",
      "2021-05-05 09:39:16> Initial loading of DDA_6\n",
      "2021-05-05 09:39:16> Importing data from /Users/swillems/Data/alphatims_testing/20201016_tims03_Evo03_PS_MA_HeLa_200ng_DDA_06-15_5_6min_4cm_S1-A1_1_21717.d\n",
      "2021-05-05 09:39:16> Reading frame metadata for /Users/swillems/Data/alphatims_testing/20201016_tims03_Evo03_PS_MA_HeLa_200ng_DDA_06-15_5_6min_4cm_S1-A1_1_21717.d\n",
      "2021-05-05 09:39:17> Reading 2,978 frames with 214,172,697 detector strikes for /Users/swillems/Data/alphatims_testing/20201016_tims03_Evo03_PS_MA_HeLa_200ng_DDA_06-15_5_6min_4cm_S1-A1_1_21717.d\n",
      "2021-05-05 09:39:18> Indexing /Users/swillems/Data/alphatims_testing/20201016_tims03_Evo03_PS_MA_HeLa_200ng_DDA_06-15_5_6min_4cm_S1-A1_1_21717.d...\n",
      "2021-05-05 09:39:18> Succesfully imported data from /Users/swillems/Data/alphatims_testing/20201016_tims03_Evo03_PS_MA_HeLa_200ng_DDA_06-15_5_6min_4cm_S1-A1_1_21717.d\n",
      "2021-05-05 09:39:18> \n",
      "2021-05-05 09:39:18> Initial loading of DIA_6\n",
      "2021-05-05 09:39:18> Importing data from /Users/swillems/Data/alphatims_testing/20201016_tims03_Evo03_PS_SA_HeLa_200ng_300-1200_2steps_16scans_06-15_5_6min_4cm_S1-A4_1_21720.d\n",
      "2021-05-05 09:39:18> Reading frame metadata for /Users/swillems/Data/alphatims_testing/20201016_tims03_Evo03_PS_SA_HeLa_200ng_300-1200_2steps_16scans_06-15_5_6min_4cm_S1-A4_1_21720.d\n",
      "2021-05-05 09:39:18> Reading 3,182 frames with 158,552,099 detector strikes for /Users/swillems/Data/alphatims_testing/20201016_tims03_Evo03_PS_SA_HeLa_200ng_300-1200_2steps_16scans_06-15_5_6min_4cm_S1-A4_1_21720.d\n",
      "2021-05-05 09:39:19> Indexing /Users/swillems/Data/alphatims_testing/20201016_tims03_Evo03_PS_SA_HeLa_200ng_300-1200_2steps_16scans_06-15_5_6min_4cm_S1-A4_1_21720.d...\n",
      "2021-05-05 09:39:19> Succesfully imported data from /Users/swillems/Data/alphatims_testing/20201016_tims03_Evo03_PS_SA_HeLa_200ng_300-1200_2steps_16scans_06-15_5_6min_4cm_S1-A4_1_21720.d\n",
      "2021-05-05 09:39:19> \n",
      "2021-05-05 09:39:19> Initial loading of DDA_21\n",
      "2021-05-05 09:39:19> Importing data from /Users/swillems/Data/alphatims_testing/20201207_tims03_Evo03_PS_SA_HeLa_200ng_EvoSep_prot_DDA_21min_8cm_S1-C10_1_22476.d\n",
      "2021-05-05 09:39:19> Reading frame metadata for /Users/swillems/Data/alphatims_testing/20201207_tims03_Evo03_PS_SA_HeLa_200ng_EvoSep_prot_DDA_21min_8cm_S1-C10_1_22476.d\n",
      "2021-05-05 09:39:20> Reading 11,886 frames with 295,251,252 detector strikes for /Users/swillems/Data/alphatims_testing/20201207_tims03_Evo03_PS_SA_HeLa_200ng_EvoSep_prot_DDA_21min_8cm_S1-C10_1_22476.d\n",
      "2021-05-05 09:39:22> Indexing /Users/swillems/Data/alphatims_testing/20201207_tims03_Evo03_PS_SA_HeLa_200ng_EvoSep_prot_DDA_21min_8cm_S1-C10_1_22476.d...\n",
      "2021-05-05 09:39:22> Succesfully imported data from /Users/swillems/Data/alphatims_testing/20201207_tims03_Evo03_PS_SA_HeLa_200ng_EvoSep_prot_DDA_21min_8cm_S1-C10_1_22476.d\n",
      "2021-05-05 09:39:22> \n",
      "2021-05-05 09:39:22> Initial loading of DIA_21\n",
      "2021-05-05 09:39:22> Importing data from /Users/swillems/Data/alphatims_testing/20201207_tims03_Evo03_PS_SA_HeLa_200ng_EvoSep_prot_high_speed_21min_8cm_S1-C8_1_22474.d\n",
      "2021-05-05 09:39:22> Reading frame metadata for /Users/swillems/Data/alphatims_testing/20201207_tims03_Evo03_PS_SA_HeLa_200ng_EvoSep_prot_high_speed_21min_8cm_S1-C8_1_22474.d\n",
      "2021-05-05 09:39:22> Reading 11,868 frames with 730,564,765 detector strikes for /Users/swillems/Data/alphatims_testing/20201207_tims03_Evo03_PS_SA_HeLa_200ng_EvoSep_prot_high_speed_21min_8cm_S1-C8_1_22474.d\n",
      "2021-05-05 09:39:26> Indexing /Users/swillems/Data/alphatims_testing/20201207_tims03_Evo03_PS_SA_HeLa_200ng_EvoSep_prot_high_speed_21min_8cm_S1-C8_1_22474.d...\n",
      "2021-05-05 09:39:27> Succesfully imported data from /Users/swillems/Data/alphatims_testing/20201207_tims03_Evo03_PS_SA_HeLa_200ng_EvoSep_prot_high_speed_21min_8cm_S1-C8_1_22474.d\n",
      "2021-05-05 09:39:27> \n",
      "2021-05-05 09:39:27> Initial loading of DDA_120\n",
      "2021-05-05 09:39:27> Importing data from /Users/swillems/Data/alphatims_testing/HeLa_200ng_1428.d\n",
      "2021-05-05 09:39:27> Reading frame metadata for /Users/swillems/Data/alphatims_testing/HeLa_200ng_1428.d\n",
      "2021-05-05 09:39:31> Reading 68,114 frames with 2,074,019,899 detector strikes for /Users/swillems/Data/alphatims_testing/HeLa_200ng_1428.d\n",
      "2021-05-05 09:39:53> Indexing /Users/swillems/Data/alphatims_testing/HeLa_200ng_1428.d...\n",
      "2021-05-05 09:39:59> Succesfully imported data from /Users/swillems/Data/alphatims_testing/HeLa_200ng_1428.d\n",
      "2021-05-05 09:39:59> \n"
     ]
    }
   ],
   "source": [
    "import logging\n",
    "import alphatims.bruker\n",
    "\n",
    "timstof_objects = {}\n",
    "detector_strikes = {}\n",
    "for sample_id, file_name in file_names.items():\n",
    "    logging.info(f\"Initial loading of {sample_id}\")\n",
    "    timstof_objects[sample_id] = alphatims.bruker.TimsTOF(file_name)\n",
    "    detector_strikes[sample_id] = len(timstof_objects[sample_id])\n",
    "    logging.info(\"\")"
   ]
  },
  {
   "cell_type": "code",
   "execution_count": 4,
   "metadata": {
    "execution": {
     "iopub.execute_input": "2021-05-05T07:39:59.256143Z",
     "iopub.status.busy": "2021-05-05T07:39:59.255475Z",
     "iopub.status.idle": "2021-05-05T07:39:59.257039Z",
     "shell.execute_reply": "2021-05-05T07:39:59.257471Z"
    }
   },
   "outputs": [],
   "source": [
    "overview[\"Detector strikes\"] = pd.Series(detector_strikes).apply(\n",
    "    lambda x : f\"{x:,}\"\n",
    ")"
   ]
  },
  {
   "cell_type": "markdown",
   "metadata": {},
   "source": [
    "In summary, we thus consider the following samples:"
   ]
  },
  {
   "cell_type": "code",
   "execution_count": 5,
   "metadata": {
    "execution": {
     "iopub.execute_input": "2021-05-05T07:39:59.264286Z",
     "iopub.status.busy": "2021-05-05T07:39:59.263777Z",
     "iopub.status.idle": "2021-05-05T07:39:59.272233Z",
     "shell.execute_reply": "2021-05-05T07:39:59.272729Z"
    }
   },
   "outputs": [
    {
     "data": {
      "text/html": [
       "<div>\n",
       "<style scoped>\n",
       "    .dataframe tbody tr th:only-of-type {\n",
       "        vertical-align: middle;\n",
       "    }\n",
       "\n",
       "    .dataframe tbody tr th {\n",
       "        vertical-align: top;\n",
       "    }\n",
       "\n",
       "    .dataframe thead th {\n",
       "        text-align: right;\n",
       "    }\n",
       "</style>\n",
       "<table border=\"1\" class=\"dataframe\">\n",
       "  <thead>\n",
       "    <tr style=\"text-align: right;\">\n",
       "      <th></th>\n",
       "      <th>Type</th>\n",
       "      <th>Gradient (min)</th>\n",
       "      <th>Detector strikes</th>\n",
       "    </tr>\n",
       "  </thead>\n",
       "  <tbody>\n",
       "    <tr>\n",
       "      <th>DDA_6</th>\n",
       "      <td>DDA</td>\n",
       "      <td>6</td>\n",
       "      <td>214,172,697</td>\n",
       "    </tr>\n",
       "    <tr>\n",
       "      <th>DIA_6</th>\n",
       "      <td>DIA</td>\n",
       "      <td>6</td>\n",
       "      <td>158,552,099</td>\n",
       "    </tr>\n",
       "    <tr>\n",
       "      <th>DDA_21</th>\n",
       "      <td>DDA</td>\n",
       "      <td>21</td>\n",
       "      <td>295,251,252</td>\n",
       "    </tr>\n",
       "    <tr>\n",
       "      <th>DIA_21</th>\n",
       "      <td>DIA</td>\n",
       "      <td>21</td>\n",
       "      <td>730,564,765</td>\n",
       "    </tr>\n",
       "    <tr>\n",
       "      <th>DDA_120</th>\n",
       "      <td>DDA</td>\n",
       "      <td>120</td>\n",
       "      <td>2,074,019,899</td>\n",
       "    </tr>\n",
       "  </tbody>\n",
       "</table>\n",
       "</div>"
      ],
      "text/plain": [
       "        Type Gradient (min) Detector strikes\n",
       "DDA_6    DDA              6      214,172,697\n",
       "DIA_6    DIA              6      158,552,099\n",
       "DDA_21   DDA             21      295,251,252\n",
       "DIA_21   DIA             21      730,564,765\n",
       "DDA_120  DDA            120    2,074,019,899"
      ]
     },
     "execution_count": 1,
     "metadata": {},
     "output_type": "execute_result"
    }
   ],
   "source": [
    "overview"
   ]
  },
  {
   "cell_type": "markdown",
   "metadata": {},
   "source": [
    "## Reading raw Bruker .d folders"
   ]
  },
  {
   "cell_type": "markdown",
   "metadata": {},
   "source": [
    "To avoid unwanted system inferences, we perform a `timeit` function to get a robust estimate of loading times for raw Bruker .d folders:"
   ]
  },
  {
   "cell_type": "code",
   "execution_count": 6,
   "metadata": {
    "execution": {
     "iopub.execute_input": "2021-05-05T07:39:59.277990Z",
     "iopub.status.busy": "2021-05-05T07:39:59.277439Z",
     "iopub.status.idle": "2021-05-05T07:44:34.671964Z",
     "shell.execute_reply": "2021-05-05T07:44:34.672528Z"
    }
   },
   "outputs": [
    {
     "name": "stdout",
     "output_type": "stream",
     "text": [
      "Time to load DDA_6 raw Bruker .d folder:\n",
      "1.48 s ± 7.67 ms per loop (mean ± std. dev. of 7 runs, 1 loop each)\n",
      "\n",
      "Time to load DIA_6 raw Bruker .d folder:\n",
      "1.05 s ± 14.3 ms per loop (mean ± std. dev. of 7 runs, 1 loop each)\n",
      "\n",
      "Time to load DDA_21 raw Bruker .d folder:\n",
      "2.95 s ± 23.4 ms per loop (mean ± std. dev. of 7 runs, 1 loop each)\n",
      "\n",
      "Time to load DIA_21 raw Bruker .d folder:\n",
      "4.5 s ± 83.4 ms per loop (mean ± std. dev. of 7 runs, 1 loop each)\n",
      "\n",
      "Time to load DDA_120 raw Bruker .d folder:\n",
      "21 s ± 1.78 s per loop (mean ± std. dev. of 7 runs, 1 loop each)\n",
      "\n"
     ]
    }
   ],
   "source": [
    "alphatims.utils.set_logger(stream=False)\n",
    "raw_load_times = {}\n",
    "for sample_id, file_name in file_names.items():\n",
    "    print(f\"Time to load {sample_id} raw Bruker .d folder:\")\n",
    "    raw_load_time = %timeit -o tmp = alphatims.bruker.TimsTOF(file_name)\n",
    "    raw_load_times[sample_id] = np.average(raw_load_time.timings)\n",
    "    print(\"\")\n",
    "overview[\"Load .d (s)\"] = pd.Series(raw_load_times).apply(\n",
    "    lambda x : f\"{x:#.3g}\"\n",
    ")"
   ]
  },
  {
   "cell_type": "code",
   "execution_count": 7,
   "metadata": {
    "execution": {
     "iopub.execute_input": "2021-05-05T07:44:34.679963Z",
     "iopub.status.busy": "2021-05-05T07:44:34.679340Z",
     "iopub.status.idle": "2021-05-05T07:44:34.680883Z",
     "shell.execute_reply": "2021-05-05T07:44:34.681208Z"
    }
   },
   "outputs": [],
   "source": [
    "overview[\"Load .d (s)\"] = pd.Series(raw_load_times).apply(\n",
    "    lambda x : f\"{x:#.3g}\"\n",
    ")"
   ]
  },
  {
   "cell_type": "markdown",
   "metadata": {},
   "source": [
    "## Saving HDF files"
   ]
  },
  {
   "cell_type": "markdown",
   "metadata": {},
   "source": [
    "Each of the data files can also be exported to HDF files:"
   ]
  },
  {
   "cell_type": "code",
   "execution_count": 8,
   "metadata": {
    "execution": {
     "iopub.execute_input": "2021-05-05T07:44:34.689424Z",
     "iopub.status.busy": "2021-05-05T07:44:34.686403Z",
     "iopub.status.idle": "2021-05-05T07:46:54.611948Z",
     "shell.execute_reply": "2021-05-05T07:46:54.613145Z"
    }
   },
   "outputs": [
    {
     "name": "stdout",
     "output_type": "stream",
     "text": [
      "Time to export DDA_6 to HDF file:\n",
      "562 ms ± 17.3 ms per loop (mean ± std. dev. of 7 runs, 1 loop each)\n",
      "\n",
      "Time to export DIA_6 to HDF file:\n",
      "407 ms ± 23.6 ms per loop (mean ± std. dev. of 7 runs, 1 loop each)\n",
      "\n",
      "Time to export DDA_21 to HDF file:\n",
      "761 ms ± 29.3 ms per loop (mean ± std. dev. of 7 runs, 1 loop each)\n",
      "\n",
      "Time to export DIA_21 to HDF file:\n",
      "1.83 s ± 70.3 ms per loop (mean ± std. dev. of 7 runs, 1 loop each)\n",
      "\n",
      "Time to export DDA_120 to HDF file:\n",
      "4.93 s ± 122 ms per loop (mean ± std. dev. of 7 runs, 1 loop each)\n",
      "\n"
     ]
    }
   ],
   "source": [
    "save_hdf_times = {}\n",
    "for sample_id, data in timstof_objects.items():\n",
    "    print(f\"Time to export {sample_id} to HDF file:\")\n",
    "    path = data.directory\n",
    "    file_name = f\"{data.sample_name}.hdf\"\n",
    "    save_hdf_time = %timeit -o tmp = data.save_as_hdf(path, file_name, overwrite=True)\n",
    "    save_hdf_times[sample_id] = np.average(save_hdf_time.timings)\n",
    "    print(\"\")"
   ]
  },
  {
   "cell_type": "code",
   "execution_count": 9,
   "metadata": {
    "execution": {
     "iopub.execute_input": "2021-05-05T07:46:54.622985Z",
     "iopub.status.busy": "2021-05-05T07:46:54.621808Z",
     "iopub.status.idle": "2021-05-05T07:46:54.625269Z",
     "shell.execute_reply": "2021-05-05T07:46:54.624472Z"
    }
   },
   "outputs": [],
   "source": [
    "overview[\"Save .hdf (s)\"] = pd.Series(save_hdf_times).apply(\n",
    "    lambda x : f\"{x:#.3g}\"\n",
    ")"
   ]
  },
  {
   "cell_type": "markdown",
   "metadata": {},
   "source": [
    "## Reading HDF files"
   ]
  },
  {
   "cell_type": "markdown",
   "metadata": {},
   "source": [
    "Once these HDF files are created, they can be loaded much faster than raw Bruker .d folders:"
   ]
  },
  {
   "cell_type": "code",
   "execution_count": 10,
   "metadata": {
    "execution": {
     "iopub.execute_input": "2021-05-05T07:46:54.781221Z",
     "iopub.status.busy": "2021-05-05T07:46:54.747436Z",
     "iopub.status.idle": "2021-05-05T07:49:09.246468Z",
     "shell.execute_reply": "2021-05-05T07:49:09.246913Z"
    }
   },
   "outputs": [
    {
     "name": "stdout",
     "output_type": "stream",
     "text": [
      "Time to load DDA_6 HDF file:\n",
      "458 ms ± 7.63 ms per loop (mean ± std. dev. of 7 runs, 1 loop each)\n",
      "\n",
      "Time to load DIA_6 HDF file:\n",
      "307 ms ± 2.46 ms per loop (mean ± std. dev. of 7 runs, 1 loop each)\n",
      "\n",
      "Time to load DDA_21 HDF file:\n",
      "731 ms ± 5.42 ms per loop (mean ± std. dev. of 7 runs, 1 loop each)\n",
      "\n",
      "Time to load DIA_21 HDF file:\n",
      "1.89 s ± 116 ms per loop (mean ± std. dev. of 7 runs, 1 loop each)\n",
      "\n",
      "Time to load DDA_120 HDF file:\n",
      "10 s ± 170 ms per loop (mean ± std. dev. of 7 runs, 1 loop each)\n",
      "\n"
     ]
    }
   ],
   "source": [
    "import os\n",
    "load_hdf_times = {}\n",
    "for sample_id, data in timstof_objects.items():\n",
    "    print(f\"Time to load {sample_id} HDF file:\")\n",
    "    file_name = os.path.join(data.directory, f\"{data.sample_name}.hdf\")\n",
    "    load_hdf_time = %timeit -o tmp = alphatims.bruker.TimsTOF(file_name)\n",
    "    load_hdf_times[sample_id] = np.average(load_hdf_time.timings)\n",
    "    print(\"\")"
   ]
  },
  {
   "cell_type": "code",
   "execution_count": 11,
   "metadata": {
    "execution": {
     "iopub.execute_input": "2021-05-05T07:49:09.252345Z",
     "iopub.status.busy": "2021-05-05T07:49:09.251668Z",
     "iopub.status.idle": "2021-05-05T07:49:09.253132Z",
     "shell.execute_reply": "2021-05-05T07:49:09.253547Z"
    }
   },
   "outputs": [],
   "source": [
    "overview[\"Load .hdf (s)\"] = pd.Series(load_hdf_times).apply(\n",
    "    lambda x : f\"{x:#.3g}\"\n",
    ")"
   ]
  },
  {
   "cell_type": "markdown",
   "metadata": {},
   "source": [
    "## Slicing data"
   ]
  },
  {
   "cell_type": "markdown",
   "metadata": {},
   "source": [
    "Lastly, we can slice this data. Since this uses Numba JIT compilation, we first compile the relevant functions with an initial slice call:"
   ]
  },
  {
   "cell_type": "code",
   "execution_count": 12,
   "metadata": {
    "execution": {
     "iopub.execute_input": "2021-05-05T07:49:09.261187Z",
     "iopub.status.busy": "2021-05-05T07:49:09.260512Z",
     "iopub.status.idle": "2021-05-05T07:49:09.273220Z",
     "shell.execute_reply": "2021-05-05T07:49:09.273602Z"
    }
   },
   "outputs": [],
   "source": [
    "tmp = timstof_objects[\"DDA_6\"][0]"
   ]
  },
  {
   "cell_type": "markdown",
   "metadata": {},
   "source": [
    "Now we can time how long it takes to slice in different dimensions:\n",
    "   * **LC:** $100.0 \\leq \\textrm{retention_time} \\lt 100.5$\n",
    "   * **TIMS:** $\\textrm{scan_index} = 450$\n",
    "   * **Quadrupole:** $700.0 \\leq \\textrm{quad_mz_values} \\lt 710.0$\n",
    "   * **TOF:** $621.9 \\leq \\textrm{tof_mz_values} \\lt 622.1$"
   ]
  },
  {
   "cell_type": "code",
   "execution_count": 13,
   "metadata": {
    "execution": {
     "iopub.execute_input": "2021-05-05T07:49:09.295533Z",
     "iopub.status.busy": "2021-05-05T07:49:09.292083Z",
     "iopub.status.idle": "2021-05-05T07:52:37.641148Z",
     "shell.execute_reply": "2021-05-05T07:52:37.641607Z"
    }
   },
   "outputs": [
    {
     "name": "stdout",
     "output_type": "stream",
     "text": [
      "Time to slice DDA_6:\n",
      "Testing LC slice data[100.0: 100.5] (18,034 detector hits).\n",
      "1.66 ms ± 68.3 µs per loop (mean ± std. dev. of 7 runs, 1000 loops each)\n",
      "Testing TIMS slice data[:, 450] (393,184 detector hits).\n",
      "36.5 ms ± 3.18 ms per loop (mean ± std. dev. of 7 runs, 10 loops each)\n",
      "Testing QUAD slice data[:, :, 700.0: 710] (185,235 detector hits).\n",
      "26.4 ms ± 645 µs per loop (mean ± std. dev. of 7 runs, 10 loops each)\n",
      "Testing TOF slice data[:, :, :, 621.9: 622.1] (52,422 detector hits).\n",
      "76 ms ± 874 µs per loop (mean ± std. dev. of 7 runs, 10 loops each)\n",
      "\n",
      "Time to slice DIA_6:\n",
      "Testing LC slice data[100.0: 100.5] (86,623 detector hits).\n",
      "6.18 ms ± 63.9 µs per loop (mean ± std. dev. of 7 runs, 100 loops each)\n",
      "Testing TIMS slice data[:, 450] (277,025 detector hits).\n",
      "23 ms ± 969 µs per loop (mean ± std. dev. of 7 runs, 10 loops each)\n",
      "Testing QUAD slice data[:, :, 700.0: 710] (8,346,135 detector hits).\n",
      "692 ms ± 11.1 ms per loop (mean ± std. dev. of 7 runs, 1 loop each)\n",
      "Testing TOF slice data[:, :, :, 621.9: 622.1] (23,165 detector hits).\n",
      "94.4 ms ± 631 µs per loop (mean ± std. dev. of 7 runs, 10 loops each)\n",
      "\n",
      "Time to slice DDA_21:\n",
      "Testing LC slice data[100.0: 100.5] (20,923 detector hits).\n",
      "1.7 ms ± 14.9 µs per loop (mean ± std. dev. of 7 runs, 1000 loops each)\n",
      "Testing TIMS slice data[:, 450] (658,010 detector hits).\n",
      "63.8 ms ± 1.85 ms per loop (mean ± std. dev. of 7 runs, 10 loops each)\n",
      "Testing QUAD slice data[:, :, 700.0: 710] (759,187 detector hits).\n",
      "104 ms ± 2.97 ms per loop (mean ± std. dev. of 7 runs, 10 loops each)\n",
      "Testing TOF slice data[:, :, :, 621.9: 622.1] (69,405 detector hits).\n",
      "176 ms ± 1.23 ms per loop (mean ± std. dev. of 7 runs, 10 loops each)\n",
      "\n",
      "Time to slice DIA_21:\n",
      "Testing LC slice data[100.0: 100.5] (5,098 detector hits).\n",
      "870 µs ± 7.07 µs per loop (mean ± std. dev. of 7 runs, 1000 loops each)\n",
      "Testing TIMS slice data[:, 450] (1,353,926 detector hits).\n",
      "128 ms ± 2.69 ms per loop (mean ± std. dev. of 7 runs, 10 loops each)\n",
      "Testing QUAD slice data[:, :, 700.0: 710] (47,439,349 detector hits).\n",
      "5.02 s ± 71.9 ms per loop (mean ± std. dev. of 7 runs, 1 loop each)\n",
      "Testing TOF slice data[:, :, :, 621.9: 622.1] (116,658 detector hits).\n",
      "393 ms ± 4.87 ms per loop (mean ± std. dev. of 7 runs, 1 loop each)\n",
      "\n",
      "Time to slice DDA_120:\n",
      "Testing LC slice data[100.0: 100.5] (2,331 detector hits).\n",
      "698 µs ± 3.64 µs per loop (mean ± std. dev. of 7 runs, 1000 loops each)\n",
      "Testing TIMS slice data[:, 450] (3,988,021 detector hits).\n",
      "342 ms ± 5.86 ms per loop (mean ± std. dev. of 7 runs, 1 loop each)\n",
      "Testing QUAD slice data[:, :, 700.0: 710] (4,618,589 detector hits).\n",
      "580 ms ± 7.93 ms per loop (mean ± std. dev. of 7 runs, 1 loop each)\n",
      "Testing TOF slice data[:, :, :, 621.9: 622.1] (611,802 detector hits).\n",
      "1.13 s ± 29.3 ms per loop (mean ± std. dev. of 7 runs, 1 loop each)\n",
      "\n"
     ]
    }
   ],
   "source": [
    "import os\n",
    "\n",
    "frame_slice_times = {}\n",
    "scan_slice_times = {}\n",
    "quad_slice_times = {}\n",
    "tof_slice_times = {}\n",
    "\n",
    "frame_slice_counts = {}\n",
    "scan_slice_counts = {}\n",
    "quad_slice_counts = {}\n",
    "tof_slice_counts = {}\n",
    "\n",
    "for sample_id, data in timstof_objects.items():\n",
    "    print(f\"Time to slice {sample_id}:\")\n",
    "    \n",
    "    count = len(data[100.:100.5])\n",
    "    print(\n",
    "        f\"Testing LC slice data[100.0: 100.5] ({count:,} detector hits).\"\n",
    "    )\n",
    "    frame_slice_time = %timeit -o tmp = data[100.:100.5]\n",
    "    frame_slice_counts[sample_id] = count\n",
    "    frame_slice_times[sample_id] = np.average(frame_slice_time.timings)\n",
    "    \n",
    "    count = len(data[:, 450])\n",
    "    print(\n",
    "        f\"Testing TIMS slice data[:, 450] ({count:,} detector hits).\"\n",
    "    )\n",
    "    scan_slice_time = %timeit -o tmp = data[:, 450]\n",
    "    scan_slice_counts[sample_id] = count\n",
    "    scan_slice_times[sample_id] = np.average(scan_slice_time.timings)\n",
    "    \n",
    "    count = len(data[:, :, 700.0: 710])\n",
    "    print(\n",
    "        f\"Testing QUAD slice data[:, :, 700.0: 710] ({count:,} detector hits).\"\n",
    "    )\n",
    "    quad_slice_time = %timeit -o tmp = data[:, :, 700.0: 710]\n",
    "    quad_slice_counts[sample_id] = count\n",
    "    quad_slice_times[sample_id] = np.average(quad_slice_time.timings)\n",
    "    \n",
    "    count = len(data[:, :, :, 621.9: 622.1])\n",
    "    print(\n",
    "        f\"Testing TOF slice data[:, :, :, 621.9: 622.1] ({count:,} detector hits).\"\n",
    "    )\n",
    "    tof_slice_time = %timeit -o tmp = data[:, :, :, 621.9: 622.1]\n",
    "    tof_slice_counts[sample_id] = count\n",
    "    tof_slice_times[sample_id] = np.average(tof_slice_time.timings)\n",
    "    \n",
    "    print(\"\")"
   ]
  },
  {
   "cell_type": "code",
   "execution_count": 14,
   "metadata": {
    "execution": {
     "iopub.execute_input": "2021-05-05T07:52:37.652914Z",
     "iopub.status.busy": "2021-05-05T07:52:37.652411Z",
     "iopub.status.idle": "2021-05-05T07:52:37.654107Z",
     "shell.execute_reply": "2021-05-05T07:52:37.654602Z"
    }
   },
   "outputs": [],
   "source": [
    "overview[\"Slice LC (s)\"] = pd.Series(frame_slice_times).apply(\n",
    "    lambda x : f\"{x:#.3g}\"\n",
    ")\n",
    "overview[\"Slice LC (hits)\"] = pd.Series(frame_slice_counts).apply(\n",
    "    lambda x : f\"{x:,}\"\n",
    ")\n",
    "overview[\"Slice TIMS (s)\"] = pd.Series(scan_slice_times).apply(\n",
    "    lambda x : f\"{x:#.3g}\"\n",
    ")\n",
    "overview[\"Slice TIMS (hits)\"] = pd.Series(scan_slice_counts).apply(\n",
    "    lambda x : f\"{x:,}\"\n",
    ")\n",
    "overview[\"Slice QUAD (s)\"] = pd.Series(quad_slice_times).apply(\n",
    "    lambda x : f\"{x:#.3g}\"\n",
    ")\n",
    "overview[\"Slice QUAD (hits)\"] = pd.Series(quad_slice_counts).apply(\n",
    "    lambda x : f\"{x:,}\"\n",
    ")\n",
    "overview[\"Slice TOF (s)\"] = pd.Series(tof_slice_times).apply(\n",
    "    lambda x : f\"{x:#.3g}\"\n",
    ")\n",
    "overview[\"Slice TOF (hits)\"] = pd.Series(tof_slice_counts).apply(\n",
    "    lambda x : f\"{x:,}\"\n",
    ")"
   ]
  },
  {
   "cell_type": "markdown",
   "metadata": {},
   "source": [
    "## Final overview"
   ]
  },
  {
   "cell_type": "markdown",
   "metadata": {},
   "source": [
    "The final time performance can thus be summarized as follows:"
   ]
  },
  {
   "cell_type": "code",
   "execution_count": 15,
   "metadata": {
    "execution": {
     "iopub.execute_input": "2021-05-05T07:52:37.665299Z",
     "iopub.status.busy": "2021-05-05T07:52:37.664747Z",
     "iopub.status.idle": "2021-05-05T07:52:37.671858Z",
     "shell.execute_reply": "2021-05-05T07:52:37.672346Z"
    }
   },
   "outputs": [
    {
     "data": {
      "text/html": [
       "<div>\n",
       "<style scoped>\n",
       "    .dataframe tbody tr th:only-of-type {\n",
       "        vertical-align: middle;\n",
       "    }\n",
       "\n",
       "    .dataframe tbody tr th {\n",
       "        vertical-align: top;\n",
       "    }\n",
       "\n",
       "    .dataframe thead th {\n",
       "        text-align: right;\n",
       "    }\n",
       "</style>\n",
       "<table border=\"1\" class=\"dataframe\">\n",
       "  <thead>\n",
       "    <tr style=\"text-align: right;\">\n",
       "      <th></th>\n",
       "      <th>DDA_6</th>\n",
       "      <th>DIA_6</th>\n",
       "      <th>DDA_21</th>\n",
       "      <th>DIA_21</th>\n",
       "      <th>DDA_120</th>\n",
       "    </tr>\n",
       "  </thead>\n",
       "  <tbody>\n",
       "    <tr>\n",
       "      <th>Type</th>\n",
       "      <td>DDA</td>\n",
       "      <td>DIA</td>\n",
       "      <td>DDA</td>\n",
       "      <td>DIA</td>\n",
       "      <td>DDA</td>\n",
       "    </tr>\n",
       "    <tr>\n",
       "      <th>Gradient (min)</th>\n",
       "      <td>6</td>\n",
       "      <td>6</td>\n",
       "      <td>21</td>\n",
       "      <td>21</td>\n",
       "      <td>120</td>\n",
       "    </tr>\n",
       "    <tr>\n",
       "      <th>Detector strikes</th>\n",
       "      <td>214,172,697</td>\n",
       "      <td>158,552,099</td>\n",
       "      <td>295,251,252</td>\n",
       "      <td>730,564,765</td>\n",
       "      <td>2,074,019,899</td>\n",
       "    </tr>\n",
       "    <tr>\n",
       "      <th>Load .d (s)</th>\n",
       "      <td>1.48</td>\n",
       "      <td>1.05</td>\n",
       "      <td>2.95</td>\n",
       "      <td>4.50</td>\n",
       "      <td>21.0</td>\n",
       "    </tr>\n",
       "    <tr>\n",
       "      <th>Save .hdf (s)</th>\n",
       "      <td>0.562</td>\n",
       "      <td>0.407</td>\n",
       "      <td>0.761</td>\n",
       "      <td>1.83</td>\n",
       "      <td>4.93</td>\n",
       "    </tr>\n",
       "    <tr>\n",
       "      <th>Load .hdf (s)</th>\n",
       "      <td>0.458</td>\n",
       "      <td>0.307</td>\n",
       "      <td>0.731</td>\n",
       "      <td>1.89</td>\n",
       "      <td>10.0</td>\n",
       "    </tr>\n",
       "    <tr>\n",
       "      <th>Slice LC (s)</th>\n",
       "      <td>0.00166</td>\n",
       "      <td>0.00618</td>\n",
       "      <td>0.00170</td>\n",
       "      <td>0.000870</td>\n",
       "      <td>0.000698</td>\n",
       "    </tr>\n",
       "    <tr>\n",
       "      <th>Slice LC (hits)</th>\n",
       "      <td>18,034</td>\n",
       "      <td>86,623</td>\n",
       "      <td>20,923</td>\n",
       "      <td>5,098</td>\n",
       "      <td>2,331</td>\n",
       "    </tr>\n",
       "    <tr>\n",
       "      <th>Slice TIMS (s)</th>\n",
       "      <td>0.0365</td>\n",
       "      <td>0.0230</td>\n",
       "      <td>0.0638</td>\n",
       "      <td>0.128</td>\n",
       "      <td>0.342</td>\n",
       "    </tr>\n",
       "    <tr>\n",
       "      <th>Slice TIMS (hits)</th>\n",
       "      <td>393,184</td>\n",
       "      <td>277,025</td>\n",
       "      <td>658,010</td>\n",
       "      <td>1,353,926</td>\n",
       "      <td>3,988,021</td>\n",
       "    </tr>\n",
       "    <tr>\n",
       "      <th>Slice QUAD (s)</th>\n",
       "      <td>0.0264</td>\n",
       "      <td>0.692</td>\n",
       "      <td>0.104</td>\n",
       "      <td>5.02</td>\n",
       "      <td>0.580</td>\n",
       "    </tr>\n",
       "    <tr>\n",
       "      <th>Slice QUAD (hits)</th>\n",
       "      <td>185,235</td>\n",
       "      <td>8,346,135</td>\n",
       "      <td>759,187</td>\n",
       "      <td>47,439,349</td>\n",
       "      <td>4,618,589</td>\n",
       "    </tr>\n",
       "    <tr>\n",
       "      <th>Slice TOF (s)</th>\n",
       "      <td>0.0760</td>\n",
       "      <td>0.0944</td>\n",
       "      <td>0.176</td>\n",
       "      <td>0.393</td>\n",
       "      <td>1.13</td>\n",
       "    </tr>\n",
       "    <tr>\n",
       "      <th>Slice TOF (hits)</th>\n",
       "      <td>52,422</td>\n",
       "      <td>23,165</td>\n",
       "      <td>69,405</td>\n",
       "      <td>116,658</td>\n",
       "      <td>611,802</td>\n",
       "    </tr>\n",
       "  </tbody>\n",
       "</table>\n",
       "</div>"
      ],
      "text/plain": [
       "                         DDA_6        DIA_6       DDA_21       DIA_21  \\\n",
       "Type                       DDA          DIA          DDA          DIA   \n",
       "Gradient (min)               6            6           21           21   \n",
       "Detector strikes   214,172,697  158,552,099  295,251,252  730,564,765   \n",
       "Load .d (s)               1.48         1.05         2.95         4.50   \n",
       "Save .hdf (s)            0.562        0.407        0.761         1.83   \n",
       "Load .hdf (s)            0.458        0.307        0.731         1.89   \n",
       "Slice LC (s)           0.00166      0.00618      0.00170     0.000870   \n",
       "Slice LC (hits)         18,034       86,623       20,923        5,098   \n",
       "Slice TIMS (s)          0.0365       0.0230       0.0638        0.128   \n",
       "Slice TIMS (hits)      393,184      277,025      658,010    1,353,926   \n",
       "Slice QUAD (s)          0.0264        0.692        0.104         5.02   \n",
       "Slice QUAD (hits)      185,235    8,346,135      759,187   47,439,349   \n",
       "Slice TOF (s)           0.0760       0.0944        0.176        0.393   \n",
       "Slice TOF (hits)        52,422       23,165       69,405      116,658   \n",
       "\n",
       "                         DDA_120  \n",
       "Type                         DDA  \n",
       "Gradient (min)               120  \n",
       "Detector strikes   2,074,019,899  \n",
       "Load .d (s)                 21.0  \n",
       "Save .hdf (s)               4.93  \n",
       "Load .hdf (s)               10.0  \n",
       "Slice LC (s)            0.000698  \n",
       "Slice LC (hits)            2,331  \n",
       "Slice TIMS (s)             0.342  \n",
       "Slice TIMS (hits)      3,988,021  \n",
       "Slice QUAD (s)             0.580  \n",
       "Slice QUAD (hits)      4,618,589  \n",
       "Slice TOF (s)               1.13  \n",
       "Slice TOF (hits)         611,802  "
      ]
     },
     "execution_count": 1,
     "metadata": {},
     "output_type": "execute_result"
    }
   ],
   "source": [
    "overview.T"
   ]
  },
  {
   "cell_type": "code",
   "execution_count": null,
   "metadata": {},
   "outputs": [],
   "source": []
  }
 ],
 "metadata": {
  "kernelspec": {
   "display_name": "Python [conda env:alphatims]",
   "language": "python",
   "name": "conda-env-alphatims-py"
  },
  "language_info": {
   "codemirror_mode": {
    "name": "ipython",
    "version": 3
   },
   "file_extension": ".py",
   "mimetype": "text/x-python",
   "name": "python",
   "nbconvert_exporter": "python",
   "pygments_lexer": "ipython3",
   "version": "3.8.8"
  },
  "toc": {
   "base_numbering": 1,
   "nav_menu": {},
   "number_sections": true,
   "sideBar": true,
   "skip_h1_title": false,
   "title_cell": "Table of Contents",
   "title_sidebar": "Contents",
   "toc_cell": false,
   "toc_position": {},
   "toc_section_display": true,
   "toc_window_display": true
  },
  "varInspector": {
   "cols": {
    "lenName": 16,
    "lenType": 16,
    "lenVar": 40
   },
   "kernels_config": {
    "python": {
     "delete_cmd_postfix": "",
     "delete_cmd_prefix": "del ",
     "library": "var_list.py",
     "varRefreshCmd": "print(var_dic_list())"
    },
    "r": {
     "delete_cmd_postfix": ") ",
     "delete_cmd_prefix": "rm(",
     "library": "var_list.r",
     "varRefreshCmd": "cat(var_dic_list()) "
    }
   },
   "types_to_exclude": [
    "module",
    "function",
    "builtin_function_or_method",
    "instance",
    "_Feature"
   ],
   "window_display": false
  }
 },
 "nbformat": 4,
 "nbformat_minor": 4
}
