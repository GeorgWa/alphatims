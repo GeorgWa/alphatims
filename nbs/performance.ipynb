{
 "cells": [
  {
   "cell_type": "markdown",
   "metadata": {},
   "source": [
    "# Performance"
   ]
  },
  {
   "cell_type": "markdown",
   "metadata": {},
   "source": [
    "This notebook is intended to demonstrate the performance of AlphaTIMS.\n",
    "It contains the following information:\n",
    "1. [**Samples**](#Samples)\n",
    "2. [**Reading raw Bruker .d folders**](#Reading-raw-Bruker-.d-folders)\n",
    "3. [**Saving HDF files**](#Saving-HDF-files)\n",
    "4. [**Reading HDF files**](#Reading-HDF-files)\n",
    "5. [**Slicing data**](#Slicing-data)\n",
    "6. [**Final overview**](#Final-overview)"
   ]
  },
  {
   "cell_type": "markdown",
   "metadata": {},
   "source": [
    "The following system was used:"
   ]
  },
  {
   "cell_type": "code",
   "execution_count": 1,
   "metadata": {
    "execution": {
     "iopub.execute_input": "2021-04-22T14:59:43.307584Z",
     "iopub.status.busy": "2021-04-22T14:59:43.306747Z",
     "iopub.status.idle": "2021-04-22T14:59:43.553814Z",
     "shell.execute_reply": "2021-04-22T14:59:43.552183Z"
    }
   },
   "outputs": [
    {
     "name": "stdout",
     "output_type": "stream",
     "text": [
      "2021-04-22 16:59:43> Platform information:\n",
      "2021-04-22 16:59:43> system        - Darwin\n",
      "2021-04-22 16:59:43> release       - 19.6.0\n",
      "2021-04-22 16:59:43> version       - 10.15.7\n",
      "2021-04-22 16:59:43> machine       - x86_64\n",
      "2021-04-22 16:59:43> processor     - i386\n",
      "2021-04-22 16:59:43> cpu count     - 8\n",
      "2021-04-22 16:59:43> cpu frequency - 2300.00 Mhz\n",
      "2021-04-22 16:59:43> ram           - 23.5/32.0 Gb (available/total)\n",
      "2021-04-22 16:59:43> \n",
      "2021-04-22 16:59:43> Python information:\n",
      "2021-04-22 16:59:43> alphatims  - 0.2.5\n",
      "2021-04-22 16:59:43> bokeh      - 2.2.3\n",
      "2021-04-22 16:59:43> click      - 7.1.2\n",
      "2021-04-22 16:59:43> datashader - 0.12.1\n",
      "2021-04-22 16:59:43> h5py       - 3.2.1\n",
      "2021-04-22 16:59:43> hvplot     - 0.7.1\n",
      "2021-04-22 16:59:43> numba      - 0.53.1\n",
      "2021-04-22 16:59:43> pandas     - 1.2.3\n",
      "2021-04-22 16:59:43> psutil     - 5.8.0\n",
      "2021-04-22 16:59:43> python     - 3.8.8\n",
      "2021-04-22 16:59:43> pyzstd     - 0.14.4\n",
      "2021-04-22 16:59:43> selenium   - 3.141.0\n",
      "2021-04-22 16:59:43> tqdm       - 4.60.0\n",
      "2021-04-22 16:59:43> \n"
     ]
    }
   ],
   "source": [
    "import alphatims.utils\n",
    "import pandas as pd\n",
    "import numpy as np\n",
    "\n",
    "alphatims.utils.set_threads(8)\n",
    "log_file_name = alphatims.utils.set_logger(\n",
    "    log_file_name=\"performance_log.txt\",\n",
    "    overwrite=True\n",
    ")\n",
    "alphatims.utils.show_platform_info()\n",
    "alphatims.utils.show_python_info()\n",
    "alphatims.utils.set_progress_callback(None)"
   ]
  },
  {
   "cell_type": "markdown",
   "metadata": {},
   "source": [
    "## Samples"
   ]
  },
  {
   "cell_type": "markdown",
   "metadata": {},
   "source": [
    "Five samples are used and compared:"
   ]
  },
  {
   "cell_type": "code",
   "execution_count": 2,
   "metadata": {
    "execution": {
     "iopub.execute_input": "2021-04-22T14:59:43.560125Z",
     "iopub.status.busy": "2021-04-22T14:59:43.559502Z",
     "iopub.status.idle": "2021-04-22T14:59:43.561090Z",
     "shell.execute_reply": "2021-04-22T14:59:43.561489Z"
    }
   },
   "outputs": [],
   "source": [
    "file_names = {\n",
    "    \"DDA_6\": \"/Users/swillems/Data/alphatims_testing/20201016_tims03_Evo03_PS_MA_HeLa_200ng_DDA_06-15_5_6min_4cm_S1-A1_1_21717.d\",\n",
    "    \"DIA_6\": \"/Users/swillems/Data/alphatims_testing/20201016_tims03_Evo03_PS_SA_HeLa_200ng_300-1200_2steps_16scans_06-15_5_6min_4cm_S1-A4_1_21720.d\",\n",
    "    \"DDA_21\": \"/Users/swillems/Data/alphatims_testing/20201207_tims03_Evo03_PS_SA_HeLa_200ng_EvoSep_prot_DDA_21min_8cm_S1-C10_1_22476.d\",\n",
    "    \"DIA_21\": \"/Users/swillems/Data/alphatims_testing/20201207_tims03_Evo03_PS_SA_HeLa_200ng_EvoSep_prot_high_speed_21min_8cm_S1-C8_1_22474.d\",\n",
    "    \"DDA_120\": \"/Users/swillems/Data/alphatims_testing/HeLa_200ng_1428.d\"\n",
    "}\n",
    "overview = pd.DataFrame(index=file_names.keys())\n",
    "overview[\"Type\"] = pd.Series({x: x.split(\"_\")[0] for x in file_names})\n",
    "overview[\"Gradient (min)\"] = pd.Series({x: x.split(\"_\")[1] for x in file_names})"
   ]
  },
  {
   "cell_type": "markdown",
   "metadata": {},
   "source": [
    "We first load all these files to show their basic statistics before we do the actual timing:"
   ]
  },
  {
   "cell_type": "code",
   "execution_count": 3,
   "metadata": {
    "execution": {
     "iopub.execute_input": "2021-04-22T14:59:43.565287Z",
     "iopub.status.busy": "2021-04-22T14:59:43.564829Z",
     "iopub.status.idle": "2021-04-22T15:00:23.837695Z",
     "shell.execute_reply": "2021-04-22T15:00:23.838181Z"
    }
   },
   "outputs": [
    {
     "name": "stdout",
     "output_type": "stream",
     "text": [
      "2021-04-22 16:59:43> WARNING: No Bruker libraries are available for this operating system. Intensities are uncalibrated, resulting in (very) small differences. However, mobility and m/z values need to be estimated. While this estimation often returns acceptable results with errors < 0.02 Th, huge errors (e.g. offsets of 6 Th) have already been observed for some samples!\n",
      "2021-04-22 16:59:43> \n",
      "2021-04-22 16:59:43> Initial loading of DDA_6\n",
      "2021-04-22 16:59:43> Importing data from /Users/swillems/Data/alphatims_testing/20201016_tims03_Evo03_PS_MA_HeLa_200ng_DDA_06-15_5_6min_4cm_S1-A1_1_21717.d\n",
      "2021-04-22 16:59:43> Reading frame metadata for /Users/swillems/Data/alphatims_testing/20201016_tims03_Evo03_PS_MA_HeLa_200ng_DDA_06-15_5_6min_4cm_S1-A1_1_21717.d\n",
      "2021-04-22 16:59:44> Reading 2,978 frames with 214,172,697 detector strikes for /Users/swillems/Data/alphatims_testing/20201016_tims03_Evo03_PS_MA_HeLa_200ng_DDA_06-15_5_6min_4cm_S1-A1_1_21717.d\n",
      "2021-04-22 16:59:45> Indexing /Users/swillems/Data/alphatims_testing/20201016_tims03_Evo03_PS_MA_HeLa_200ng_DDA_06-15_5_6min_4cm_S1-A1_1_21717.d...\n",
      "2021-04-22 16:59:45> Succesfully imported data from /Users/swillems/Data/alphatims_testing/20201016_tims03_Evo03_PS_MA_HeLa_200ng_DDA_06-15_5_6min_4cm_S1-A1_1_21717.d\n",
      "2021-04-22 16:59:45> \n",
      "2021-04-22 16:59:45> Initial loading of DIA_6\n",
      "2021-04-22 16:59:45> Importing data from /Users/swillems/Data/alphatims_testing/20201016_tims03_Evo03_PS_SA_HeLa_200ng_300-1200_2steps_16scans_06-15_5_6min_4cm_S1-A4_1_21720.d\n",
      "2021-04-22 16:59:45> Reading frame metadata for /Users/swillems/Data/alphatims_testing/20201016_tims03_Evo03_PS_SA_HeLa_200ng_300-1200_2steps_16scans_06-15_5_6min_4cm_S1-A4_1_21720.d\n",
      "2021-04-22 16:59:45> Reading 3,182 frames with 158,552,099 detector strikes for /Users/swillems/Data/alphatims_testing/20201016_tims03_Evo03_PS_SA_HeLa_200ng_300-1200_2steps_16scans_06-15_5_6min_4cm_S1-A4_1_21720.d\n",
      "2021-04-22 16:59:46> Indexing /Users/swillems/Data/alphatims_testing/20201016_tims03_Evo03_PS_SA_HeLa_200ng_300-1200_2steps_16scans_06-15_5_6min_4cm_S1-A4_1_21720.d...\n",
      "2021-04-22 16:59:46> Succesfully imported data from /Users/swillems/Data/alphatims_testing/20201016_tims03_Evo03_PS_SA_HeLa_200ng_300-1200_2steps_16scans_06-15_5_6min_4cm_S1-A4_1_21720.d\n",
      "2021-04-22 16:59:46> \n",
      "2021-04-22 16:59:46> Initial loading of DDA_21\n",
      "2021-04-22 16:59:46> Importing data from /Users/swillems/Data/alphatims_testing/20201207_tims03_Evo03_PS_SA_HeLa_200ng_EvoSep_prot_DDA_21min_8cm_S1-C10_1_22476.d\n",
      "2021-04-22 16:59:46> Reading frame metadata for /Users/swillems/Data/alphatims_testing/20201207_tims03_Evo03_PS_SA_HeLa_200ng_EvoSep_prot_DDA_21min_8cm_S1-C10_1_22476.d\n",
      "2021-04-22 16:59:47> Reading 11,886 frames with 295,251,252 detector strikes for /Users/swillems/Data/alphatims_testing/20201207_tims03_Evo03_PS_SA_HeLa_200ng_EvoSep_prot_DDA_21min_8cm_S1-C10_1_22476.d\n",
      "2021-04-22 16:59:49> Indexing /Users/swillems/Data/alphatims_testing/20201207_tims03_Evo03_PS_SA_HeLa_200ng_EvoSep_prot_DDA_21min_8cm_S1-C10_1_22476.d...\n",
      "2021-04-22 16:59:49> Succesfully imported data from /Users/swillems/Data/alphatims_testing/20201207_tims03_Evo03_PS_SA_HeLa_200ng_EvoSep_prot_DDA_21min_8cm_S1-C10_1_22476.d\n",
      "2021-04-22 16:59:49> \n",
      "2021-04-22 16:59:49> Initial loading of DIA_21\n",
      "2021-04-22 16:59:49> Importing data from /Users/swillems/Data/alphatims_testing/20201207_tims03_Evo03_PS_SA_HeLa_200ng_EvoSep_prot_high_speed_21min_8cm_S1-C8_1_22474.d\n",
      "2021-04-22 16:59:49> Reading frame metadata for /Users/swillems/Data/alphatims_testing/20201207_tims03_Evo03_PS_SA_HeLa_200ng_EvoSep_prot_high_speed_21min_8cm_S1-C8_1_22474.d\n",
      "2021-04-22 16:59:49> Reading 11,868 frames with 730,564,765 detector strikes for /Users/swillems/Data/alphatims_testing/20201207_tims03_Evo03_PS_SA_HeLa_200ng_EvoSep_prot_high_speed_21min_8cm_S1-C8_1_22474.d\n",
      "2021-04-22 16:59:53> Indexing /Users/swillems/Data/alphatims_testing/20201207_tims03_Evo03_PS_SA_HeLa_200ng_EvoSep_prot_high_speed_21min_8cm_S1-C8_1_22474.d...\n",
      "2021-04-22 16:59:54> Succesfully imported data from /Users/swillems/Data/alphatims_testing/20201207_tims03_Evo03_PS_SA_HeLa_200ng_EvoSep_prot_high_speed_21min_8cm_S1-C8_1_22474.d\n",
      "2021-04-22 16:59:54> \n",
      "2021-04-22 16:59:54> Initial loading of DDA_120\n",
      "2021-04-22 16:59:54> Importing data from /Users/swillems/Data/alphatims_testing/HeLa_200ng_1428.d\n",
      "2021-04-22 16:59:54> Reading frame metadata for /Users/swillems/Data/alphatims_testing/HeLa_200ng_1428.d\n",
      "2021-04-22 17:00:00> Reading 68,114 frames with 2,074,019,899 detector strikes for /Users/swillems/Data/alphatims_testing/HeLa_200ng_1428.d\n",
      "2021-04-22 17:00:20> Indexing /Users/swillems/Data/alphatims_testing/HeLa_200ng_1428.d...\n",
      "2021-04-22 17:00:23> Succesfully imported data from /Users/swillems/Data/alphatims_testing/HeLa_200ng_1428.d\n",
      "2021-04-22 17:00:23> \n"
     ]
    }
   ],
   "source": [
    "import logging\n",
    "import alphatims.bruker\n",
    "\n",
    "timstof_objects = {}\n",
    "detector_strikes = {}\n",
    "for sample_id, file_name in file_names.items():\n",
    "    logging.info(f\"Initial loading of {sample_id}\")\n",
    "    timstof_objects[sample_id] = alphatims.bruker.TimsTOF(file_name)\n",
    "    detector_strikes[sample_id] = len(timstof_objects[sample_id])\n",
    "    logging.info(\"\")"
   ]
  },
  {
   "cell_type": "code",
   "execution_count": 4,
   "metadata": {
    "execution": {
     "iopub.execute_input": "2021-04-22T15:00:23.844364Z",
     "iopub.status.busy": "2021-04-22T15:00:23.843855Z",
     "iopub.status.idle": "2021-04-22T15:00:23.845441Z",
     "shell.execute_reply": "2021-04-22T15:00:23.845912Z"
    }
   },
   "outputs": [],
   "source": [
    "overview[\"Detector strikes\"] = pd.Series(detector_strikes).apply(\n",
    "    lambda x : f\"{x:,}\"\n",
    ")"
   ]
  },
  {
   "cell_type": "markdown",
   "metadata": {},
   "source": [
    "In summary, we thus consider the following samples:"
   ]
  },
  {
   "cell_type": "code",
   "execution_count": 5,
   "metadata": {
    "execution": {
     "iopub.execute_input": "2021-04-22T15:00:23.852758Z",
     "iopub.status.busy": "2021-04-22T15:00:23.852271Z",
     "iopub.status.idle": "2021-04-22T15:00:23.860970Z",
     "shell.execute_reply": "2021-04-22T15:00:23.861327Z"
    }
   },
   "outputs": [
    {
     "data": {
      "text/html": [
       "<div>\n",
       "<style scoped>\n",
       "    .dataframe tbody tr th:only-of-type {\n",
       "        vertical-align: middle;\n",
       "    }\n",
       "\n",
       "    .dataframe tbody tr th {\n",
       "        vertical-align: top;\n",
       "    }\n",
       "\n",
       "    .dataframe thead th {\n",
       "        text-align: right;\n",
       "    }\n",
       "</style>\n",
       "<table border=\"1\" class=\"dataframe\">\n",
       "  <thead>\n",
       "    <tr style=\"text-align: right;\">\n",
       "      <th></th>\n",
       "      <th>Type</th>\n",
       "      <th>Gradient (min)</th>\n",
       "      <th>Detector strikes</th>\n",
       "    </tr>\n",
       "  </thead>\n",
       "  <tbody>\n",
       "    <tr>\n",
       "      <th>DDA_6</th>\n",
       "      <td>DDA</td>\n",
       "      <td>6</td>\n",
       "      <td>214,172,697</td>\n",
       "    </tr>\n",
       "    <tr>\n",
       "      <th>DIA_6</th>\n",
       "      <td>DIA</td>\n",
       "      <td>6</td>\n",
       "      <td>158,552,099</td>\n",
       "    </tr>\n",
       "    <tr>\n",
       "      <th>DDA_21</th>\n",
       "      <td>DDA</td>\n",
       "      <td>21</td>\n",
       "      <td>295,251,252</td>\n",
       "    </tr>\n",
       "    <tr>\n",
       "      <th>DIA_21</th>\n",
       "      <td>DIA</td>\n",
       "      <td>21</td>\n",
       "      <td>730,564,765</td>\n",
       "    </tr>\n",
       "    <tr>\n",
       "      <th>DDA_120</th>\n",
       "      <td>DDA</td>\n",
       "      <td>120</td>\n",
       "      <td>2,074,019,899</td>\n",
       "    </tr>\n",
       "  </tbody>\n",
       "</table>\n",
       "</div>"
      ],
      "text/plain": [
       "        Type Gradient (min) Detector strikes\n",
       "DDA_6    DDA              6      214,172,697\n",
       "DIA_6    DIA              6      158,552,099\n",
       "DDA_21   DDA             21      295,251,252\n",
       "DIA_21   DIA             21      730,564,765\n",
       "DDA_120  DDA            120    2,074,019,899"
      ]
     },
     "execution_count": 1,
     "metadata": {},
     "output_type": "execute_result"
    }
   ],
   "source": [
    "overview"
   ]
  },
  {
   "cell_type": "markdown",
   "metadata": {},
   "source": [
    "## Reading raw Bruker .d folders"
   ]
  },
  {
   "cell_type": "markdown",
   "metadata": {},
   "source": [
    "To avoid unwanted system inferences, we perform a `timeit` function to get a robust estimate of loading times for raw Bruker .d folders:"
   ]
  },
  {
   "cell_type": "code",
   "execution_count": 6,
   "metadata": {
    "execution": {
     "iopub.execute_input": "2021-04-22T15:00:23.866095Z",
     "iopub.status.busy": "2021-04-22T15:00:23.865555Z",
     "iopub.status.idle": "2021-04-22T15:05:20.182347Z",
     "shell.execute_reply": "2021-04-22T15:05:20.182975Z"
    }
   },
   "outputs": [
    {
     "name": "stdout",
     "output_type": "stream",
     "text": [
      "Time to load DDA_6 raw Bruker .d folder:\n",
      "1.6 s ± 49.2 ms per loop (mean ± std. dev. of 7 runs, 1 loop each)\n",
      "\n",
      "Time to load DIA_6 raw Bruker .d folder:\n",
      "1.14 s ± 9.95 ms per loop (mean ± std. dev. of 7 runs, 1 loop each)\n",
      "\n",
      "Time to load DDA_21 raw Bruker .d folder:\n",
      "3.35 s ± 154 ms per loop (mean ± std. dev. of 7 runs, 1 loop each)\n",
      "\n",
      "Time to load DIA_21 raw Bruker .d folder:\n",
      "5.01 s ± 364 ms per loop (mean ± std. dev. of 7 runs, 1 loop each)\n",
      "\n",
      "Time to load DDA_120 raw Bruker .d folder:\n",
      "22.2 s ± 3.03 s per loop (mean ± std. dev. of 7 runs, 1 loop each)\n",
      "\n"
     ]
    }
   ],
   "source": [
    "alphatims.utils.set_logger(stream=False)\n",
    "raw_load_times = {}\n",
    "for sample_id, file_name in file_names.items():\n",
    "    print(f\"Time to load {sample_id} raw Bruker .d folder:\")\n",
    "    raw_load_time = %timeit -o tmp = alphatims.bruker.TimsTOF(file_name)\n",
    "    raw_load_times[sample_id] = np.average(raw_load_time.timings)\n",
    "    print(\"\")\n",
    "overview[\"Load .d (s)\"] = pd.Series(raw_load_times).apply(\n",
    "    lambda x : f\"{x:#.3g}\"\n",
    ")"
   ]
  },
  {
   "cell_type": "code",
   "execution_count": 7,
   "metadata": {
    "execution": {
     "iopub.execute_input": "2021-04-22T15:05:20.190177Z",
     "iopub.status.busy": "2021-04-22T15:05:20.189582Z",
     "iopub.status.idle": "2021-04-22T15:05:20.191210Z",
     "shell.execute_reply": "2021-04-22T15:05:20.191606Z"
    }
   },
   "outputs": [],
   "source": [
    "overview[\"Load .d (s)\"] = pd.Series(raw_load_times).apply(\n",
    "    lambda x : f\"{x:#.3g}\"\n",
    ")"
   ]
  },
  {
   "cell_type": "markdown",
   "metadata": {},
   "source": [
    "## Saving HDF files"
   ]
  },
  {
   "cell_type": "markdown",
   "metadata": {},
   "source": [
    "Each of the data files can also be exported to HDF files:"
   ]
  },
  {
   "cell_type": "code",
   "execution_count": 8,
   "metadata": {
    "execution": {
     "iopub.execute_input": "2021-04-22T15:05:20.201946Z",
     "iopub.status.busy": "2021-04-22T15:05:20.201396Z",
     "iopub.status.idle": "2021-04-22T15:07:59.912241Z",
     "shell.execute_reply": "2021-04-22T15:07:59.913333Z"
    }
   },
   "outputs": [
    {
     "name": "stdout",
     "output_type": "stream",
     "text": [
      "Time to export DDA_6 to HDF file:\n",
      "569 ms ± 42.8 ms per loop (mean ± std. dev. of 7 runs, 1 loop each)\n",
      "\n",
      "Time to export DIA_6 to HDF file:\n",
      "392 ms ± 29.6 ms per loop (mean ± std. dev. of 7 runs, 1 loop each)\n",
      "\n",
      "Time to export DDA_21 to HDF file:\n",
      "758 ms ± 20.7 ms per loop (mean ± std. dev. of 7 runs, 1 loop each)\n",
      "\n",
      "Time to export DIA_21 to HDF file:\n",
      "1.77 s ± 51.5 ms per loop (mean ± std. dev. of 7 runs, 1 loop each)\n",
      "\n",
      "Time to export DDA_120 to HDF file:\n",
      "5.23 s ± 367 ms per loop (mean ± std. dev. of 7 runs, 1 loop each)\n",
      "\n"
     ]
    }
   ],
   "source": [
    "save_hdf_times = {}\n",
    "for sample_id, data in timstof_objects.items():\n",
    "    print(f\"Time to export {sample_id} to HDF file:\")\n",
    "    path = data.directory\n",
    "    file_name = f\"{data.sample_name}.hdf\"\n",
    "    save_hdf_time = %timeit -o tmp = data.save_as_hdf(path, file_name, overwrite=True)\n",
    "    save_hdf_times[sample_id] = np.average(save_hdf_time.timings)\n",
    "    print(\"\")"
   ]
  },
  {
   "cell_type": "code",
   "execution_count": 9,
   "metadata": {
    "execution": {
     "iopub.execute_input": "2021-04-22T15:07:59.922177Z",
     "iopub.status.busy": "2021-04-22T15:07:59.921349Z",
     "iopub.status.idle": "2021-04-22T15:07:59.924483Z",
     "shell.execute_reply": "2021-04-22T15:07:59.923736Z"
    }
   },
   "outputs": [],
   "source": [
    "overview[\"Save .hdf (s)\"] = pd.Series(save_hdf_times).apply(\n",
    "    lambda x : f\"{x:#.3g}\"\n",
    ")"
   ]
  },
  {
   "cell_type": "markdown",
   "metadata": {},
   "source": [
    "## Reading HDF files"
   ]
  },
  {
   "cell_type": "markdown",
   "metadata": {},
   "source": [
    "Once these HDF files are created, they can be loaded much faster than raw Bruker .d folders:"
   ]
  },
  {
   "cell_type": "code",
   "execution_count": 10,
   "metadata": {
    "execution": {
     "iopub.execute_input": "2021-04-22T15:08:00.090914Z",
     "iopub.status.busy": "2021-04-22T15:07:59.932253Z",
     "iopub.status.idle": "2021-04-22T15:10:12.901919Z",
     "shell.execute_reply": "2021-04-22T15:10:12.902379Z"
    }
   },
   "outputs": [
    {
     "name": "stdout",
     "output_type": "stream",
     "text": [
      "Time to load DDA_6 HDF file:\n",
      "466 ms ± 15.7 ms per loop (mean ± std. dev. of 7 runs, 1 loop each)\n",
      "\n",
      "Time to load DIA_6 HDF file:\n",
      "300 ms ± 5.44 ms per loop (mean ± std. dev. of 7 runs, 1 loop each)\n",
      "\n",
      "Time to load DDA_21 HDF file:\n",
      "758 ms ± 48.4 ms per loop (mean ± std. dev. of 7 runs, 1 loop each)\n",
      "\n",
      "Time to load DIA_21 HDF file:\n",
      "1.93 s ± 179 ms per loop (mean ± std. dev. of 7 runs, 1 loop each)\n",
      "\n",
      "Time to load DDA_120 HDF file:\n",
      "10 s ± 111 ms per loop (mean ± std. dev. of 7 runs, 1 loop each)\n",
      "\n"
     ]
    }
   ],
   "source": [
    "import os\n",
    "load_hdf_times = {}\n",
    "for sample_id, data in timstof_objects.items():\n",
    "    print(f\"Time to load {sample_id} HDF file:\")\n",
    "    file_name = os.path.join(data.directory, f\"{data.sample_name}.hdf\")\n",
    "    load_hdf_time = %timeit -o tmp = alphatims.bruker.TimsTOF(file_name)\n",
    "    load_hdf_times[sample_id] = np.average(load_hdf_time.timings)\n",
    "    print(\"\")"
   ]
  },
  {
   "cell_type": "code",
   "execution_count": 11,
   "metadata": {
    "execution": {
     "iopub.execute_input": "2021-04-22T15:10:12.917472Z",
     "iopub.status.busy": "2021-04-22T15:10:12.916354Z",
     "iopub.status.idle": "2021-04-22T15:10:12.918325Z",
     "shell.execute_reply": "2021-04-22T15:10:12.918773Z"
    }
   },
   "outputs": [],
   "source": [
    "overview[\"Load .hdf (s)\"] = pd.Series(load_hdf_times).apply(\n",
    "    lambda x : f\"{x:#.3g}\"\n",
    ")"
   ]
  },
  {
   "cell_type": "markdown",
   "metadata": {},
   "source": [
    "## Slicing data"
   ]
  },
  {
   "cell_type": "markdown",
   "metadata": {},
   "source": [
    "Lastly, we can slice this data. Since this uses Numba JIT compilation, we first compile the relevant functions with an initial slice call:"
   ]
  },
  {
   "cell_type": "code",
   "execution_count": 12,
   "metadata": {
    "execution": {
     "iopub.execute_input": "2021-04-22T15:10:12.926004Z",
     "iopub.status.busy": "2021-04-22T15:10:12.925035Z",
     "iopub.status.idle": "2021-04-22T15:10:12.969917Z",
     "shell.execute_reply": "2021-04-22T15:10:12.969202Z"
    }
   },
   "outputs": [],
   "source": [
    "tmp = timstof_objects[\"DDA_6\"][0]"
   ]
  },
  {
   "cell_type": "markdown",
   "metadata": {},
   "source": [
    "Now we can time how long it takes to slice in different dimensions:\n",
    "   * **LC:** $100.0 \\leq \\textrm{retention_time} \\lt 100.5$\n",
    "   * **TIMS:** $\\textrm{scan_index} = 450$\n",
    "   * **Quadrupole:** $700.0 \\leq \\textrm{quad_mz_values} \\lt 710.0$\n",
    "   * **TOF:** $621.9 \\leq \\textrm{tof_mz_values} \\lt 622.1$"
   ]
  },
  {
   "cell_type": "code",
   "execution_count": 13,
   "metadata": {
    "execution": {
     "iopub.execute_input": "2021-04-22T15:10:13.018621Z",
     "iopub.status.busy": "2021-04-22T15:10:13.017077Z",
     "iopub.status.idle": "2021-04-22T15:12:48.335757Z",
     "shell.execute_reply": "2021-04-22T15:12:48.336155Z"
    }
   },
   "outputs": [
    {
     "name": "stdout",
     "output_type": "stream",
     "text": [
      "Time to slice DDA_6:\n",
      "Testing slice data[100.0: 100.5]\n",
      "1.64 ms ± 91 µs per loop (mean ± std. dev. of 7 runs, 1000 loops each)\n",
      "Testing slice data[:, 450]\n",
      "39.7 ms ± 6.66 ms per loop (mean ± std. dev. of 7 runs, 1 loop each)\n",
      "Testing slice data[:, :, 700.0: 710]\n",
      "27.7 ms ± 1.71 ms per loop (mean ± std. dev. of 7 runs, 10 loops each)\n",
      "Testing slice data[:, :, :, 621.9: 622.1]\n",
      "90.3 ms ± 7.46 ms per loop (mean ± std. dev. of 7 runs, 1 loop each)\n",
      "\n",
      "Time to slice DIA_6:\n",
      "Testing slice data[100.0: 100.5]\n",
      "7.31 ms ± 176 µs per loop (mean ± std. dev. of 7 runs, 100 loops each)\n",
      "Testing slice data[:, 450]\n",
      "29.8 ms ± 1.17 ms per loop (mean ± std. dev. of 7 runs, 1 loop each)\n",
      "Testing slice data[:, :, 700.0: 710]\n",
      "632 ms ± 10.6 ms per loop (mean ± std. dev. of 7 runs, 1 loop each)\n",
      "Testing slice data[:, :, :, 621.9: 622.1]\n",
      "96.3 ms ± 1.42 ms per loop (mean ± std. dev. of 7 runs, 1 loop each)\n",
      "\n",
      "Time to slice DDA_21:\n",
      "Testing slice data[100.0: 100.5]\n",
      "1.71 ms ± 29.5 µs per loop (mean ± std. dev. of 7 runs, 1000 loops each)\n",
      "Testing slice data[:, 450]\n",
      "60.8 ms ± 7.78 ms per loop (mean ± std. dev. of 7 runs, 1 loop each)\n",
      "Testing slice data[:, :, 700.0: 710]\n",
      "98.8 ms ± 2.84 ms per loop (mean ± std. dev. of 7 runs, 10 loops each)\n",
      "Testing slice data[:, :, :, 621.9: 622.1]\n",
      "174 ms ± 900 µs per loop (mean ± std. dev. of 7 runs, 1 loop each)\n",
      "\n",
      "Time to slice DIA_21:\n",
      "Testing slice data[100.0: 100.5]\n",
      "849 µs ± 12.1 µs per loop (mean ± std. dev. of 7 runs, 1000 loops each)\n",
      "Testing slice data[:, 450]\n",
      "120 ms ± 4.2 ms per loop (mean ± std. dev. of 7 runs, 1 loop each)\n",
      "Testing slice data[:, :, 700.0: 710]\n",
      "4.97 s ± 129 ms per loop (mean ± std. dev. of 7 runs, 1 loop each)\n",
      "Testing slice data[:, :, :, 621.9: 622.1]\n",
      "393 ms ± 2.33 ms per loop (mean ± std. dev. of 7 runs, 1 loop each)\n",
      "\n",
      "Time to slice DDA_120:\n",
      "Testing slice data[100.0: 100.5]\n",
      "681 µs ± 10.7 µs per loop (mean ± std. dev. of 7 runs, 1000 loops each)\n",
      "Testing slice data[:, 450]\n",
      "359 ms ± 15.2 ms per loop (mean ± std. dev. of 7 runs, 1 loop each)\n",
      "Testing slice data[:, :, 700.0: 710]\n",
      "577 ms ± 11.4 ms per loop (mean ± std. dev. of 7 runs, 1 loop each)\n",
      "Testing slice data[:, :, :, 621.9: 622.1]\n",
      "1.15 s ± 51.3 ms per loop (mean ± std. dev. of 7 runs, 1 loop each)\n",
      "\n"
     ]
    }
   ],
   "source": [
    "import os\n",
    "frame_slice_times = {}\n",
    "scan_slice_times = {}\n",
    "quad_slice_times = {}\n",
    "tof_slice_times = {}\n",
    "for sample_id, data in timstof_objects.items():\n",
    "    print(f\"Time to slice {sample_id}:\")\n",
    "    \n",
    "    print(\"Testing slice data[100.0: 100.5]\")\n",
    "    frame_slice_time = %timeit -o tmp = data[100.:100.5]\n",
    "    frame_slice_times[sample_id] = np.average(frame_slice_time.timings)\n",
    "    \n",
    "    print(\"Testing slice data[:, 450]\")\n",
    "    scan_slice_time = %timeit -o tmp = data[:, 450]\n",
    "    scan_slice_times[sample_id] = np.average(scan_slice_time.timings)\n",
    "    \n",
    "    print(\"Testing slice data[:, :, 700.0: 710]\")\n",
    "    quad_slice_time = %timeit -o tmp = data[:, :, 700.0: 710]\n",
    "    quad_slice_times[sample_id] = np.average(quad_slice_time.timings)\n",
    "    \n",
    "    print(\"Testing slice data[:, :, :, 621.9: 622.1]\")\n",
    "    tof_slice_time = %timeit -o tmp = data[:, :, :, 621.9: 622.1]\n",
    "    tof_slice_times[sample_id] = np.average(tof_slice_time.timings)\n",
    "    \n",
    "    print(\"\")"
   ]
  },
  {
   "cell_type": "code",
   "execution_count": 14,
   "metadata": {
    "execution": {
     "iopub.execute_input": "2021-04-22T15:12:48.347147Z",
     "iopub.status.busy": "2021-04-22T15:12:48.346446Z",
     "iopub.status.idle": "2021-04-22T15:12:48.347739Z",
     "shell.execute_reply": "2021-04-22T15:12:48.348218Z"
    }
   },
   "outputs": [],
   "source": [
    "overview[\"Slice LC (s)\"] = pd.Series(frame_slice_times).apply(\n",
    "    lambda x : f\"{x:#.3g}\"\n",
    ")\n",
    "overview[\"Slice TIMS (s)\"] = pd.Series(scan_slice_times).apply(\n",
    "    lambda x : f\"{x:#.3g}\"\n",
    ")\n",
    "overview[\"Slice QUAD (s)\"] = pd.Series(quad_slice_times).apply(\n",
    "    lambda x : f\"{x:#.3g}\"\n",
    ")\n",
    "overview[\"Slice TOF (s)\"] = pd.Series(tof_slice_times).apply(\n",
    "    lambda x : f\"{x:#.3g}\"\n",
    ")"
   ]
  },
  {
   "cell_type": "markdown",
   "metadata": {},
   "source": [
    "## Final overview"
   ]
  },
  {
   "cell_type": "markdown",
   "metadata": {},
   "source": [
    "The final time performance can thus be summarized as follows:"
   ]
  },
  {
   "cell_type": "code",
   "execution_count": 15,
   "metadata": {
    "execution": {
     "iopub.execute_input": "2021-04-22T15:12:48.376580Z",
     "iopub.status.busy": "2021-04-22T15:12:48.376009Z",
     "iopub.status.idle": "2021-04-22T15:12:48.388854Z",
     "shell.execute_reply": "2021-04-22T15:12:48.389399Z"
    }
   },
   "outputs": [
    {
     "data": {
      "text/html": [
       "<div>\n",
       "<style scoped>\n",
       "    .dataframe tbody tr th:only-of-type {\n",
       "        vertical-align: middle;\n",
       "    }\n",
       "\n",
       "    .dataframe tbody tr th {\n",
       "        vertical-align: top;\n",
       "    }\n",
       "\n",
       "    .dataframe thead th {\n",
       "        text-align: right;\n",
       "    }\n",
       "</style>\n",
       "<table border=\"1\" class=\"dataframe\">\n",
       "  <thead>\n",
       "    <tr style=\"text-align: right;\">\n",
       "      <th></th>\n",
       "      <th>Type</th>\n",
       "      <th>Gradient (min)</th>\n",
       "      <th>Detector strikes</th>\n",
       "      <th>Load .d (s)</th>\n",
       "      <th>Save .hdf (s)</th>\n",
       "      <th>Load .hdf (s)</th>\n",
       "      <th>Slice LC (s)</th>\n",
       "      <th>Slice TIMS (s)</th>\n",
       "      <th>Slice QUAD (s)</th>\n",
       "      <th>Slice TOF (s)</th>\n",
       "    </tr>\n",
       "  </thead>\n",
       "  <tbody>\n",
       "    <tr>\n",
       "      <th>DDA_6</th>\n",
       "      <td>DDA</td>\n",
       "      <td>6</td>\n",
       "      <td>214,172,697</td>\n",
       "      <td>1.60</td>\n",
       "      <td>0.569</td>\n",
       "      <td>0.466</td>\n",
       "      <td>0.00164</td>\n",
       "      <td>0.0397</td>\n",
       "      <td>0.0277</td>\n",
       "      <td>0.0903</td>\n",
       "    </tr>\n",
       "    <tr>\n",
       "      <th>DIA_6</th>\n",
       "      <td>DIA</td>\n",
       "      <td>6</td>\n",
       "      <td>158,552,099</td>\n",
       "      <td>1.14</td>\n",
       "      <td>0.392</td>\n",
       "      <td>0.300</td>\n",
       "      <td>0.00731</td>\n",
       "      <td>0.0298</td>\n",
       "      <td>0.632</td>\n",
       "      <td>0.0963</td>\n",
       "    </tr>\n",
       "    <tr>\n",
       "      <th>DDA_21</th>\n",
       "      <td>DDA</td>\n",
       "      <td>21</td>\n",
       "      <td>295,251,252</td>\n",
       "      <td>3.35</td>\n",
       "      <td>0.758</td>\n",
       "      <td>0.758</td>\n",
       "      <td>0.00171</td>\n",
       "      <td>0.0608</td>\n",
       "      <td>0.0988</td>\n",
       "      <td>0.174</td>\n",
       "    </tr>\n",
       "    <tr>\n",
       "      <th>DIA_21</th>\n",
       "      <td>DIA</td>\n",
       "      <td>21</td>\n",
       "      <td>730,564,765</td>\n",
       "      <td>5.01</td>\n",
       "      <td>1.77</td>\n",
       "      <td>1.93</td>\n",
       "      <td>0.000849</td>\n",
       "      <td>0.120</td>\n",
       "      <td>4.97</td>\n",
       "      <td>0.393</td>\n",
       "    </tr>\n",
       "    <tr>\n",
       "      <th>DDA_120</th>\n",
       "      <td>DDA</td>\n",
       "      <td>120</td>\n",
       "      <td>2,074,019,899</td>\n",
       "      <td>22.2</td>\n",
       "      <td>5.23</td>\n",
       "      <td>10.0</td>\n",
       "      <td>0.000681</td>\n",
       "      <td>0.359</td>\n",
       "      <td>0.577</td>\n",
       "      <td>1.15</td>\n",
       "    </tr>\n",
       "  </tbody>\n",
       "</table>\n",
       "</div>"
      ],
      "text/plain": [
       "        Type Gradient (min) Detector strikes Load .d (s) Save .hdf (s)  \\\n",
       "DDA_6    DDA              6      214,172,697        1.60         0.569   \n",
       "DIA_6    DIA              6      158,552,099        1.14         0.392   \n",
       "DDA_21   DDA             21      295,251,252        3.35         0.758   \n",
       "DIA_21   DIA             21      730,564,765        5.01          1.77   \n",
       "DDA_120  DDA            120    2,074,019,899        22.2          5.23   \n",
       "\n",
       "        Load .hdf (s) Slice LC (s) Slice TIMS (s) Slice QUAD (s) Slice TOF (s)  \n",
       "DDA_6           0.466      0.00164         0.0397         0.0277        0.0903  \n",
       "DIA_6           0.300      0.00731         0.0298          0.632        0.0963  \n",
       "DDA_21          0.758      0.00171         0.0608         0.0988         0.174  \n",
       "DIA_21           1.93     0.000849          0.120           4.97         0.393  \n",
       "DDA_120          10.0     0.000681          0.359          0.577          1.15  "
      ]
     },
     "execution_count": 1,
     "metadata": {},
     "output_type": "execute_result"
    }
   ],
   "source": [
    "overview"
   ]
  },
  {
   "cell_type": "code",
   "execution_count": null,
   "metadata": {},
   "outputs": [],
   "source": []
  }
 ],
 "metadata": {
  "kernelspec": {
   "display_name": "Python [conda env:alphatims]",
   "language": "python",
   "name": "conda-env-alphatims-py"
  },
  "language_info": {
   "codemirror_mode": {
    "name": "ipython",
    "version": 3
   },
   "file_extension": ".py",
   "mimetype": "text/x-python",
   "name": "python",
   "nbconvert_exporter": "python",
   "pygments_lexer": "ipython3",
   "version": "3.8.8"
  },
  "toc": {
   "base_numbering": 1,
   "nav_menu": {},
   "number_sections": true,
   "sideBar": true,
   "skip_h1_title": false,
   "title_cell": "Table of Contents",
   "title_sidebar": "Contents",
   "toc_cell": false,
   "toc_position": {},
   "toc_section_display": true,
   "toc_window_display": true
  },
  "varInspector": {
   "cols": {
    "lenName": 16,
    "lenType": 16,
    "lenVar": 40
   },
   "kernels_config": {
    "python": {
     "delete_cmd_postfix": "",
     "delete_cmd_prefix": "del ",
     "library": "var_list.py",
     "varRefreshCmd": "print(var_dic_list())"
    },
    "r": {
     "delete_cmd_postfix": ") ",
     "delete_cmd_prefix": "rm(",
     "library": "var_list.r",
     "varRefreshCmd": "cat(var_dic_list()) "
    }
   },
   "types_to_exclude": [
    "module",
    "function",
    "builtin_function_or_method",
    "instance",
    "_Feature"
   ],
   "window_display": false
  }
 },
 "nbformat": 4,
 "nbformat_minor": 4
}
