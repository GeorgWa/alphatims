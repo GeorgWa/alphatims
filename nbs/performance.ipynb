{
 "cells": [
  {
   "cell_type": "markdown",
   "metadata": {},
   "source": [
    "# Performance"
   ]
  },
  {
   "cell_type": "markdown",
   "metadata": {},
   "source": [
    "This notebook is intended to demonstrate the performance of AlphaTims.\n",
    "It contains the following information:\n",
    "1. [**Samples**](#Samples)\n",
    "2. [**Reading raw Bruker .d folders**](#Reading-raw-Bruker-.d-folders)\n",
    "3. [**Saving HDF files**](#Saving-HDF-files)\n",
    "4. [**Reading HDF files**](#Reading-HDF-files)\n",
    "5. [**Slicing data**](#Slicing-data)\n",
    "6. [**Final overview**](#Final-overview)"
   ]
  },
  {
   "cell_type": "markdown",
   "metadata": {},
   "source": [
    "The following system was used:"
   ]
  },
  {
   "cell_type": "code",
   "execution_count": 1,
   "metadata": {
    "ExecuteTime": {
     "end_time": "2022-04-06T13:50:59.931992Z",
     "start_time": "2022-04-06T13:50:59.283388Z"
    },
    "execution": {
     "iopub.execute_input": "2021-09-22T07:32:13.151240Z",
     "iopub.status.busy": "2021-09-22T07:32:13.150176Z",
     "iopub.status.idle": "2021-09-22T07:32:13.576261Z",
     "shell.execute_reply": "2021-09-22T07:32:13.574728Z"
    }
   },
   "outputs": [
    {
     "name": "stdout",
     "output_type": "stream",
     "text": [
      "2022-04-06 15:50:59> Platform information:\n",
      "2022-04-06 15:50:59> system        - Darwin\n",
      "2022-04-06 15:50:59> release       - 20.6.0\n",
      "2022-04-06 15:50:59> version       - 10.16\n",
      "2022-04-06 15:50:59> machine       - x86_64\n",
      "2022-04-06 15:50:59> processor     - i386\n",
      "2022-04-06 15:50:59> cpu count     - 8\n",
      "2022-04-06 15:50:59> cpu frequency - 2300.00 Mhz\n",
      "2022-04-06 15:50:59> ram           - 18.1/32.0 Gb (available/total)\n",
      "2022-04-06 15:50:59> \n",
      "2022-04-06 15:50:59> Python information:\n",
      "2022-04-06 15:50:59> alphatims  - 1.0.0\n",
      "2022-04-06 15:50:59> bokeh      - 2.2.3\n",
      "2022-04-06 15:50:59> click      - 8.0.1\n",
      "2022-04-06 15:50:59> datashader - 0.12.1\n",
      "2022-04-06 15:50:59> h5py       - 3.2.1\n",
      "2022-04-06 15:50:59> hvplot     - 0.7.1\n",
      "2022-04-06 15:50:59> numba      - 0.53.1\n",
      "2022-04-06 15:50:59> pandas     - 1.2.4\n",
      "2022-04-06 15:50:59> psutil     - 5.8.0\n",
      "2022-04-06 15:50:59> python     - 3.8.10\n",
      "2022-04-06 15:50:59> python-lzf - 0.2.4\n",
      "2022-04-06 15:50:59> pyzstd     - 0.15.0\n",
      "2022-04-06 15:50:59> selenium   - 3.141.0\n",
      "2022-04-06 15:50:59> tqdm       - 4.60.0\n",
      "2022-04-06 15:50:59> \n"
     ]
    }
   ],
   "source": [
    "import alphatims.utils\n",
    "import pandas as pd\n",
    "import numpy as np\n",
    "\n",
    "alphatims.utils.set_threads(8)\n",
    "log_file_name = alphatims.utils.set_logger(\n",
    "    log_file_name=\"performance_log.txt\",\n",
    "    overwrite=True\n",
    ")\n",
    "alphatims.utils.show_platform_info()\n",
    "alphatims.utils.show_python_info()\n",
    "alphatims.utils.set_progress_callback(None)"
   ]
  },
  {
   "cell_type": "markdown",
   "metadata": {},
   "source": [
    "## Samples"
   ]
  },
  {
   "cell_type": "markdown",
   "metadata": {},
   "source": [
    "Six samples (https://www.ebi.ac.uk/pride/archive/projects/PXD027359) are used and compared:"
   ]
  },
  {
   "cell_type": "code",
   "execution_count": 2,
   "metadata": {
    "ExecuteTime": {
     "end_time": "2022-04-06T13:50:59.946978Z",
     "start_time": "2022-04-06T13:50:59.936026Z"
    },
    "execution": {
     "iopub.execute_input": "2021-09-22T07:32:13.583356Z",
     "iopub.status.busy": "2021-09-22T07:32:13.582783Z",
     "iopub.status.idle": "2021-09-22T07:32:13.584832Z",
     "shell.execute_reply": "2021-09-22T07:32:13.585173Z"
    }
   },
   "outputs": [],
   "source": [
    "file_names = {\n",
    "    \"DDA_6\": \"/Users/swillems/Data/alphatims_testing/20210510_TIMS03_EVO03_PaSk_MA_HeLa_50ng_5_6min_DDA_S1-B1_1_25185.d\",\n",
    "    \"DIA_6\": \"/Users/swillems/Data/alphatims_testing/20210510_TIMS03_EVO03_PaSk_SA_HeLa_50ng_5_6min_DIA_high_speed_S1-B2_1_25186.d\",\n",
    "    \"DDA_21\": \"/Users/swillems/Data/alphatims_testing/20201207_tims03_Evo03_PS_SA_HeLa_200ng_EvoSep_prot_DDA_21min_8cm_S1-C10_1_22476.d\",\n",
    "    \"DIA_21\": \"/Users/swillems/Data/alphatims_testing/20201207_tims03_Evo03_PS_SA_HeLa_200ng_EvoSep_prot_high_speed_21min_8cm_S1-C8_1_22474.d\",\n",
    "    \"DDA_120\": \"/Users/swillems/Data/alphatims_testing/20210507_TIMS01_LC01_PaSk_MA_HeLa_400ng_ddaAPSEF_A1_1_7545.d\",\n",
    "    \"DIA_120\": \"/Users/swillems/Data/alphatims_testing/20210507_TIMS01_LC01_PaSk_SA_HeLa_400ng_diaPASEF_high_speed_A1_1_7546.d\",\n",
    "}\n",
    "overview = pd.DataFrame(index=file_names.keys())\n",
    "overview[\"Type\"] = pd.Series({x: x.split(\"_\")[0] for x in file_names})\n",
    "overview[\"Gradient (min)\"] = pd.Series({x: x.split(\"_\")[1] for x in file_names})"
   ]
  },
  {
   "cell_type": "markdown",
   "metadata": {},
   "source": [
    "We first load all these files to show their basic statistics before we do the actual timing:"
   ]
  },
  {
   "cell_type": "code",
   "execution_count": 3,
   "metadata": {
    "ExecuteTime": {
     "end_time": "2022-04-06T13:55:09.266042Z",
     "start_time": "2022-04-06T13:50:59.952609Z"
    },
    "execution": {
     "iopub.execute_input": "2021-09-22T07:32:13.589602Z",
     "iopub.status.busy": "2021-09-22T07:32:13.589052Z",
     "iopub.status.idle": "2021-09-22T07:35:17.372876Z",
     "shell.execute_reply": "2021-09-22T07:35:17.379030Z"
    }
   },
   "outputs": [
    {
     "name": "stdout",
     "output_type": "stream",
     "text": [
      "2022-04-06 15:51:00> WARNING: Temp mmap arrays are written to /var/folders/7c/8c8rlrjd311c65k2fmcnqcgm0000gn/T/temp_mmap_zhdqlbr4. Cleanup of this folder is OS dependant, and might need to be triggered manually!\n",
      "2022-04-06 15:51:00> WARNING: No Bruker libraries are available for this operating system. Mobility and m/z values need to be estimated. While this estimation often returns acceptable results with errors < 0.02 Th, huge errors (e.g. offsets of 6 Th) have already been observed for some samples!\n",
      "2022-04-06 15:51:00> \n",
      "2022-04-06 15:51:00> Initial loading of DDA_6\n",
      "2022-04-06 15:51:00> Importing data from /Users/swillems/Data/alphatims_testing/20210510_TIMS03_EVO03_PaSk_MA_HeLa_50ng_5_6min_DDA_S1-B1_1_25185.d\n",
      "2022-04-06 15:51:00> Reading frame metadata for /Users/swillems/Data/alphatims_testing/20210510_TIMS03_EVO03_PaSk_MA_HeLa_50ng_5_6min_DDA_S1-B1_1_25185.d\n",
      "2022-04-06 15:51:01> Reading 3,156 frames with 143,542,808 detector events for /Users/swillems/Data/alphatims_testing/20210510_TIMS03_EVO03_PaSk_MA_HeLa_50ng_5_6min_DDA_S1-B1_1_25185.d\n",
      "2022-04-06 15:51:02> Indexing /Users/swillems/Data/alphatims_testing/20210510_TIMS03_EVO03_PaSk_MA_HeLa_50ng_5_6min_DDA_S1-B1_1_25185.d...\n",
      "2022-04-06 15:51:02> Bruker DLL not available, estimating mobility values\n",
      "2022-04-06 15:51:02> Bruker DLL not available, estimating mz values\n",
      "2022-04-06 15:51:02> Indexing quadrupole dimension\n",
      "2022-04-06 15:51:02> Succesfully imported data from /Users/swillems/Data/alphatims_testing/20210510_TIMS03_EVO03_PaSk_MA_HeLa_50ng_5_6min_DDA_S1-B1_1_25185.d\n",
      "2022-04-06 15:51:02> \n",
      "2022-04-06 15:51:02> Initial loading of DIA_6\n",
      "2022-04-06 15:51:02> Importing data from /Users/swillems/Data/alphatims_testing/20210510_TIMS03_EVO03_PaSk_SA_HeLa_50ng_5_6min_DIA_high_speed_S1-B2_1_25186.d\n",
      "2022-04-06 15:51:02> Reading frame metadata for /Users/swillems/Data/alphatims_testing/20210510_TIMS03_EVO03_PaSk_SA_HeLa_50ng_5_6min_DIA_high_speed_S1-B2_1_25186.d\n",
      "2022-04-06 15:51:03> Reading 3,176 frames with 126,982,956 detector events for /Users/swillems/Data/alphatims_testing/20210510_TIMS03_EVO03_PaSk_SA_HeLa_50ng_5_6min_DIA_high_speed_S1-B2_1_25186.d\n",
      "2022-04-06 15:51:04> Indexing /Users/swillems/Data/alphatims_testing/20210510_TIMS03_EVO03_PaSk_SA_HeLa_50ng_5_6min_DIA_high_speed_S1-B2_1_25186.d...\n",
      "2022-04-06 15:51:04> Bruker DLL not available, estimating mobility values\n",
      "2022-04-06 15:51:04> Bruker DLL not available, estimating mz values\n",
      "2022-04-06 15:51:04> Indexing quadrupole dimension\n",
      "2022-04-06 15:51:04> Succesfully imported data from /Users/swillems/Data/alphatims_testing/20210510_TIMS03_EVO03_PaSk_SA_HeLa_50ng_5_6min_DIA_high_speed_S1-B2_1_25186.d\n",
      "2022-04-06 15:51:04> \n",
      "2022-04-06 15:51:04> Initial loading of DDA_21\n",
      "2022-04-06 15:51:04> Importing data from /Users/swillems/Data/alphatims_testing/20201207_tims03_Evo03_PS_SA_HeLa_200ng_EvoSep_prot_DDA_21min_8cm_S1-C10_1_22476.d\n",
      "2022-04-06 15:51:04> Reading frame metadata for /Users/swillems/Data/alphatims_testing/20201207_tims03_Evo03_PS_SA_HeLa_200ng_EvoSep_prot_DDA_21min_8cm_S1-C10_1_22476.d\n",
      "2022-04-06 15:51:06> Reading 11,886 frames with 295,251,252 detector events for /Users/swillems/Data/alphatims_testing/20201207_tims03_Evo03_PS_SA_HeLa_200ng_EvoSep_prot_DDA_21min_8cm_S1-C10_1_22476.d\n",
      "2022-04-06 15:51:10> Indexing /Users/swillems/Data/alphatims_testing/20201207_tims03_Evo03_PS_SA_HeLa_200ng_EvoSep_prot_DDA_21min_8cm_S1-C10_1_22476.d...\n",
      "2022-04-06 15:51:10> Bruker DLL not available, estimating mobility values\n",
      "2022-04-06 15:51:10> Bruker DLL not available, estimating mz values\n",
      "2022-04-06 15:51:10> Indexing quadrupole dimension\n",
      "2022-04-06 15:51:11> Succesfully imported data from /Users/swillems/Data/alphatims_testing/20201207_tims03_Evo03_PS_SA_HeLa_200ng_EvoSep_prot_DDA_21min_8cm_S1-C10_1_22476.d\n",
      "2022-04-06 15:51:11> \n",
      "2022-04-06 15:51:11> Initial loading of DIA_21\n",
      "2022-04-06 15:51:11> Importing data from /Users/swillems/Data/alphatims_testing/20201207_tims03_Evo03_PS_SA_HeLa_200ng_EvoSep_prot_high_speed_21min_8cm_S1-C8_1_22474.d\n",
      "2022-04-06 15:51:11> Reading frame metadata for /Users/swillems/Data/alphatims_testing/20201207_tims03_Evo03_PS_SA_HeLa_200ng_EvoSep_prot_high_speed_21min_8cm_S1-C8_1_22474.d\n",
      "2022-04-06 15:51:11> Reading 11,868 frames with 730,564,765 detector events for /Users/swillems/Data/alphatims_testing/20201207_tims03_Evo03_PS_SA_HeLa_200ng_EvoSep_prot_high_speed_21min_8cm_S1-C8_1_22474.d\n",
      "2022-04-06 15:51:20> Indexing /Users/swillems/Data/alphatims_testing/20201207_tims03_Evo03_PS_SA_HeLa_200ng_EvoSep_prot_high_speed_21min_8cm_S1-C8_1_22474.d...\n",
      "2022-04-06 15:51:20> Bruker DLL not available, estimating mobility values\n",
      "2022-04-06 15:51:20> Bruker DLL not available, estimating mz values\n",
      "2022-04-06 15:51:20> Indexing quadrupole dimension\n",
      "2022-04-06 15:51:21> Succesfully imported data from /Users/swillems/Data/alphatims_testing/20201207_tims03_Evo03_PS_SA_HeLa_200ng_EvoSep_prot_high_speed_21min_8cm_S1-C8_1_22474.d\n",
      "2022-04-06 15:51:21> \n",
      "2022-04-06 15:51:21> Initial loading of DDA_120\n",
      "2022-04-06 15:51:21> Importing data from /Users/swillems/Data/alphatims_testing/20210507_TIMS01_LC01_PaSk_MA_HeLa_400ng_ddaAPSEF_A1_1_7545.d\n",
      "2022-04-06 15:51:21> Reading frame metadata for /Users/swillems/Data/alphatims_testing/20210507_TIMS01_LC01_PaSk_MA_HeLa_400ng_ddaAPSEF_A1_1_7545.d\n",
      "2022-04-06 15:51:29> Reading 67,024 frames with 2,736,188,777 detector events for /Users/swillems/Data/alphatims_testing/20210507_TIMS01_LC01_PaSk_MA_HeLa_400ng_ddaAPSEF_A1_1_7545.d\n",
      "2022-04-06 15:52:13> Indexing /Users/swillems/Data/alphatims_testing/20210507_TIMS01_LC01_PaSk_MA_HeLa_400ng_ddaAPSEF_A1_1_7545.d...\n",
      "2022-04-06 15:52:13> Bruker DLL not available, estimating mobility values\n",
      "2022-04-06 15:52:13> Bruker DLL not available, estimating mz values\n",
      "2022-04-06 15:52:13> Indexing quadrupole dimension\n",
      "2022-04-06 15:52:19> Succesfully imported data from /Users/swillems/Data/alphatims_testing/20210507_TIMS01_LC01_PaSk_MA_HeLa_400ng_ddaAPSEF_A1_1_7545.d\n",
      "2022-04-06 15:52:19> \n",
      "2022-04-06 15:52:19> Initial loading of DIA_120\n",
      "2022-04-06 15:52:19> Importing data from /Users/swillems/Data/alphatims_testing/20210507_TIMS01_LC01_PaSk_SA_HeLa_400ng_diaPASEF_high_speed_A1_1_7546.d\n",
      "2022-04-06 15:52:19> Reading frame metadata for /Users/swillems/Data/alphatims_testing/20210507_TIMS01_LC01_PaSk_SA_HeLa_400ng_diaPASEF_high_speed_A1_1_7546.d\n",
      "2022-04-06 15:52:20> Reading 66,775 frames with 6,364,599,982 detector events for /Users/swillems/Data/alphatims_testing/20210507_TIMS01_LC01_PaSk_SA_HeLa_400ng_diaPASEF_high_speed_A1_1_7546.d\n",
      "2022-04-06 15:54:05> Indexing /Users/swillems/Data/alphatims_testing/20210507_TIMS01_LC01_PaSk_SA_HeLa_400ng_diaPASEF_high_speed_A1_1_7546.d...\n",
      "2022-04-06 15:54:05> Bruker DLL not available, estimating mobility values\n",
      "2022-04-06 15:54:05> Bruker DLL not available, estimating mz values\n",
      "2022-04-06 15:54:05> Indexing quadrupole dimension\n",
      "2022-04-06 15:55:09> Succesfully imported data from /Users/swillems/Data/alphatims_testing/20210507_TIMS01_LC01_PaSk_SA_HeLa_400ng_diaPASEF_high_speed_A1_1_7546.d\n",
      "2022-04-06 15:55:09> \n"
     ]
    }
   ],
   "source": [
    "import logging\n",
    "import alphatims.bruker\n",
    "\n",
    "timstof_objects = {}\n",
    "detector_events = {}\n",
    "for sample_id, file_name in file_names.items():\n",
    "    logging.info(f\"Initial loading of {sample_id}\")\n",
    "    timstof_objects[sample_id] = alphatims.bruker.TimsTOF(file_name)\n",
    "    detector_events[sample_id] = len(timstof_objects[sample_id])\n",
    "    logging.info(\"\")\n",
    "overview[\"Detector events\"] = pd.Series(detector_events)"
   ]
  },
  {
   "cell_type": "markdown",
   "metadata": {},
   "source": [
    "In summary, we thus consider the following samples:"
   ]
  },
  {
   "cell_type": "code",
   "execution_count": 4,
   "metadata": {
    "ExecuteTime": {
     "end_time": "2022-04-06T13:55:09.806822Z",
     "start_time": "2022-04-06T13:55:09.280610Z"
    },
    "execution": {
     "iopub.execute_input": "2021-09-22T07:35:17.413929Z",
     "iopub.status.busy": "2021-09-22T07:35:17.413281Z",
     "iopub.status.idle": "2021-09-22T07:35:17.906792Z",
     "shell.execute_reply": "2021-09-22T07:35:17.907267Z"
    }
   },
   "outputs": [
    {
     "data": {
      "text/html": [
       "<style  type=\"text/css\" >\n",
       "</style><table id=\"T_72ce3_\" ><thead>    <tr>        <th class=\"blank level0\" ></th>        <th class=\"col_heading level0 col0\" >Type</th>        <th class=\"col_heading level0 col1\" >Gradient (min)</th>        <th class=\"col_heading level0 col2\" >Detector events</th>    </tr></thead><tbody>\n",
       "                <tr>\n",
       "                        <th id=\"T_72ce3_level0_row0\" class=\"row_heading level0 row0\" >DDA_6</th>\n",
       "                        <td id=\"T_72ce3_row0_col0\" class=\"data row0 col0\" >DDA</td>\n",
       "                        <td id=\"T_72ce3_row0_col1\" class=\"data row0 col1\" >6</td>\n",
       "                        <td id=\"T_72ce3_row0_col2\" class=\"data row0 col2\" >143,542,808</td>\n",
       "            </tr>\n",
       "            <tr>\n",
       "                        <th id=\"T_72ce3_level0_row1\" class=\"row_heading level0 row1\" >DIA_6</th>\n",
       "                        <td id=\"T_72ce3_row1_col0\" class=\"data row1 col0\" >DIA</td>\n",
       "                        <td id=\"T_72ce3_row1_col1\" class=\"data row1 col1\" >6</td>\n",
       "                        <td id=\"T_72ce3_row1_col2\" class=\"data row1 col2\" >126,982,956</td>\n",
       "            </tr>\n",
       "            <tr>\n",
       "                        <th id=\"T_72ce3_level0_row2\" class=\"row_heading level0 row2\" >DDA_21</th>\n",
       "                        <td id=\"T_72ce3_row2_col0\" class=\"data row2 col0\" >DDA</td>\n",
       "                        <td id=\"T_72ce3_row2_col1\" class=\"data row2 col1\" >21</td>\n",
       "                        <td id=\"T_72ce3_row2_col2\" class=\"data row2 col2\" >295,251,252</td>\n",
       "            </tr>\n",
       "            <tr>\n",
       "                        <th id=\"T_72ce3_level0_row3\" class=\"row_heading level0 row3\" >DIA_21</th>\n",
       "                        <td id=\"T_72ce3_row3_col0\" class=\"data row3 col0\" >DIA</td>\n",
       "                        <td id=\"T_72ce3_row3_col1\" class=\"data row3 col1\" >21</td>\n",
       "                        <td id=\"T_72ce3_row3_col2\" class=\"data row3 col2\" >730,564,765</td>\n",
       "            </tr>\n",
       "            <tr>\n",
       "                        <th id=\"T_72ce3_level0_row4\" class=\"row_heading level0 row4\" >DDA_120</th>\n",
       "                        <td id=\"T_72ce3_row4_col0\" class=\"data row4 col0\" >DDA</td>\n",
       "                        <td id=\"T_72ce3_row4_col1\" class=\"data row4 col1\" >120</td>\n",
       "                        <td id=\"T_72ce3_row4_col2\" class=\"data row4 col2\" >2,736,188,777</td>\n",
       "            </tr>\n",
       "            <tr>\n",
       "                        <th id=\"T_72ce3_level0_row5\" class=\"row_heading level0 row5\" >DIA_120</th>\n",
       "                        <td id=\"T_72ce3_row5_col0\" class=\"data row5 col0\" >DIA</td>\n",
       "                        <td id=\"T_72ce3_row5_col1\" class=\"data row5 col1\" >120</td>\n",
       "                        <td id=\"T_72ce3_row5_col2\" class=\"data row5 col2\" >6,364,599,982</td>\n",
       "            </tr>\n",
       "    </tbody></table>"
      ],
      "text/plain": [
       "<pandas.io.formats.style.Styler at 0x7fc4603c1b80>"
      ]
     },
     "execution_count": 4,
     "metadata": {},
     "output_type": "execute_result"
    }
   ],
   "source": [
    "overview.style.format({\"Detector events\": \"{:,}\"})"
   ]
  },
  {
   "cell_type": "markdown",
   "metadata": {},
   "source": [
    "## Reading raw Bruker .d folders"
   ]
  },
  {
   "cell_type": "markdown",
   "metadata": {},
   "source": [
    "To avoid unwanted system inferences, we perform a `timeit` function to get a robust estimate of loading times for raw Bruker .d folders:"
   ]
  },
  {
   "cell_type": "code",
   "execution_count": 5,
   "metadata": {
    "ExecuteTime": {
     "end_time": "2022-04-06T14:26:34.179448Z",
     "start_time": "2022-04-06T13:55:09.808926Z"
    },
    "execution": {
     "iopub.execute_input": "2021-09-22T07:35:17.915243Z",
     "iopub.status.busy": "2021-09-22T07:35:17.914188Z",
     "iopub.status.idle": "2021-09-22T07:53:24.807665Z",
     "shell.execute_reply": "2021-09-22T07:53:24.811949Z"
    }
   },
   "outputs": [
    {
     "name": "stdout",
     "output_type": "stream",
     "text": [
      "Time to load DDA_6 raw Bruker .d folder:\n",
      "2.42 s ± 373 ms per loop (mean ± std. dev. of 7 runs, 1 loop each)\n",
      "\n",
      "Time to load DIA_6 raw Bruker .d folder:\n",
      "1.7 s ± 192 ms per loop (mean ± std. dev. of 7 runs, 1 loop each)\n",
      "\n",
      "Time to load DDA_21 raw Bruker .d folder:\n",
      "5.61 s ± 691 ms per loop (mean ± std. dev. of 7 runs, 1 loop each)\n",
      "\n",
      "Time to load DIA_21 raw Bruker .d folder:\n",
      "12 s ± 2.75 s per loop (mean ± std. dev. of 7 runs, 1 loop each)\n",
      "\n",
      "Time to load DDA_120 raw Bruker .d folder:\n",
      "54 s ± 2.82 s per loop (mean ± std. dev. of 7 runs, 1 loop each)\n",
      "\n",
      "Time to load DIA_120 raw Bruker .d folder:\n",
      "2min 33s ± 12.7 s per loop (mean ± std. dev. of 7 runs, 1 loop each)\n",
      "\n"
     ]
    }
   ],
   "source": [
    "alphatims.utils.set_logger(stream=False)\n",
    "raw_load_times = {}\n",
    "for sample_id, file_name in file_names.items():\n",
    "    print(f\"Time to load {sample_id} raw Bruker .d folder:\")\n",
    "    raw_load_time = %timeit -o tmp = alphatims.bruker.TimsTOF(file_name)\n",
    "    raw_load_times[sample_id] = np.average(raw_load_time.timings)\n",
    "    print(\"\")\n",
    "overview[\"Load .d (s)\"] = pd.Series(raw_load_times)"
   ]
  },
  {
   "cell_type": "markdown",
   "metadata": {},
   "source": [
    "## Saving HDF files"
   ]
  },
  {
   "cell_type": "markdown",
   "metadata": {},
   "source": [
    "Each of the data files can also be exported to HDF files:"
   ]
  },
  {
   "cell_type": "code",
   "execution_count": 6,
   "metadata": {
    "ExecuteTime": {
     "end_time": "2022-04-06T15:56:23.086143Z",
     "start_time": "2022-04-06T14:26:34.189488Z"
    },
    "execution": {
     "iopub.execute_input": "2021-09-22T07:53:24.949241Z",
     "iopub.status.busy": "2021-09-22T07:53:24.902777Z",
     "iopub.status.idle": "2021-09-22T08:26:49.085903Z",
     "shell.execute_reply": "2021-09-22T08:26:49.083607Z"
    }
   },
   "outputs": [
    {
     "name": "stdout",
     "output_type": "stream",
     "text": [
      "Time to export DDA_6 to HDF file:\n",
      "426 ms ± 56.9 ms per loop (mean ± std. dev. of 7 runs, 1 loop each)\n",
      "\n",
      "Time to export DIA_6 to HDF file:\n",
      "378 ms ± 61.7 ms per loop (mean ± std. dev. of 7 runs, 1 loop each)\n",
      "\n",
      "Time to export DDA_21 to HDF file:\n",
      "The slowest run took 9.29 times longer than the fastest. This could mean that an intermediate result is being cached.\n",
      "2.19 s ± 2.39 s per loop (mean ± std. dev. of 7 runs, 1 loop each)\n",
      "\n",
      "Time to export DIA_21 to HDF file:\n",
      "The slowest run took 8.51 times longer than the fastest. This could mean that an intermediate result is being cached.\n",
      "6.06 s ± 5.23 s per loop (mean ± std. dev. of 7 runs, 1 loop each)\n",
      "\n",
      "Time to export DDA_120 to HDF file:\n",
      "3min 28s ± 31 s per loop (mean ± std. dev. of 7 runs, 1 loop each)\n",
      "\n",
      "Time to export DIA_120 to HDF file:\n",
      "7min 22s ± 28.6 s per loop (mean ± std. dev. of 7 runs, 1 loop each)\n",
      "\n"
     ]
    }
   ],
   "source": [
    "save_hdf_times = {}\n",
    "for sample_id, data in timstof_objects.items():\n",
    "    print(f\"Time to export {sample_id} to HDF file:\")\n",
    "    path = data.directory\n",
    "    file_name = f\"{data.sample_name}.hdf\"\n",
    "    save_hdf_time = %timeit -o tmp = data.save_as_hdf(path, file_name, overwrite=True)\n",
    "    save_hdf_times[sample_id] = np.average(save_hdf_time.timings)\n",
    "    print(\"\")\n",
    "overview[\"Save .hdf (s)\"] = pd.Series(save_hdf_times)"
   ]
  },
  {
   "cell_type": "markdown",
   "metadata": {},
   "source": [
    "## Reading HDF files"
   ]
  },
  {
   "cell_type": "markdown",
   "metadata": {},
   "source": [
    "Once these HDF files are created, they can be loaded much faster than raw Bruker .d folders:"
   ]
  },
  {
   "cell_type": "code",
   "execution_count": 7,
   "metadata": {
    "ExecuteTime": {
     "end_time": "2022-04-06T15:56:39.818900Z",
     "start_time": "2022-04-06T15:56:23.115429Z"
    },
    "execution": {
     "iopub.execute_input": "2021-09-22T08:26:49.164100Z",
     "iopub.status.busy": "2021-09-22T08:26:49.153711Z",
     "iopub.status.idle": "2021-09-22T08:35:02.274669Z",
     "shell.execute_reply": "2021-09-22T08:35:02.277954Z"
    }
   },
   "outputs": [
    {
     "name": "stdout",
     "output_type": "stream",
     "text": [
      "Time to load DDA_6 HDF file:\n",
      "111 ms ± 17 ms per loop (mean ± std. dev. of 7 runs, 1 loop each)\n",
      "\n",
      "Time to load DIA_6 HDF file:\n",
      "62.6 ms ± 13.4 ms per loop (mean ± std. dev. of 7 runs, 10 loops each)\n",
      "\n",
      "Time to load DDA_21 HDF file:\n",
      "95.5 ms ± 10.5 ms per loop (mean ± std. dev. of 7 runs, 1 loop each)\n",
      "\n",
      "Time to load DIA_21 HDF file:\n",
      "70.1 ms ± 9.49 ms per loop (mean ± std. dev. of 7 runs, 1 loop each)\n",
      "\n",
      "Time to load DDA_120 HDF file:\n",
      "240 ms ± 25.8 ms per loop (mean ± std. dev. of 7 runs, 1 loop each)\n",
      "\n",
      "Time to load DIA_120 HDF file:\n",
      "157 ms ± 3.82 ms per loop (mean ± std. dev. of 7 runs, 1 loop each)\n",
      "\n"
     ]
    }
   ],
   "source": [
    "import os\n",
    "load_hdf_times = {}\n",
    "for sample_id, data in timstof_objects.items():\n",
    "    print(f\"Time to load {sample_id} HDF file:\")\n",
    "    file_name = os.path.join(data.directory, f\"{data.sample_name}.hdf\")\n",
    "    load_hdf_time = %timeit -o tmp = alphatims.bruker.TimsTOF(file_name)\n",
    "    load_hdf_times[sample_id] = np.average(load_hdf_time.timings)\n",
    "    print(\"\")\n",
    "overview[\"Load .hdf (s)\"] = pd.Series(load_hdf_times)"
   ]
  },
  {
   "cell_type": "markdown",
   "metadata": {},
   "source": [
    "## Slicing data"
   ]
  },
  {
   "cell_type": "markdown",
   "metadata": {},
   "source": [
    "Lastly, we can slice this data. Since this uses Numba JIT compilation, we first compile the relevant functions with an initial slice call:"
   ]
  },
  {
   "cell_type": "code",
   "execution_count": 8,
   "metadata": {
    "ExecuteTime": {
     "end_time": "2022-04-06T15:56:39.840927Z",
     "start_time": "2022-04-06T15:56:39.824851Z"
    },
    "execution": {
     "iopub.execute_input": "2021-09-22T08:35:02.307124Z",
     "iopub.status.busy": "2021-09-22T08:35:02.306530Z",
     "iopub.status.idle": "2021-09-22T08:35:02.386547Z",
     "shell.execute_reply": "2021-09-22T08:35:02.387242Z"
    }
   },
   "outputs": [],
   "source": [
    "tmp = timstof_objects[\"DDA_6\"][0]"
   ]
  },
  {
   "cell_type": "markdown",
   "metadata": {},
   "source": [
    "Now we can time how long it takes to slice in different dimensions:\n",
    "   * **LC:** $100.0 \\leq \\textrm{retention_time} \\lt 100.5$\n",
    "   * **TIMS:** $\\textrm{scan_index} = 450$\n",
    "   * **Quadrupole:** $700.0 \\leq \\textrm{quad_mz_values} \\lt 710.0$\n",
    "   * **TOF:** $621.9 \\leq \\textrm{tof_mz_values} \\lt 622.1$"
   ]
  },
  {
   "cell_type": "code",
   "execution_count": 9,
   "metadata": {
    "ExecuteTime": {
     "end_time": "2022-04-06T16:25:55.750513Z",
     "start_time": "2022-04-06T15:56:39.844053Z"
    },
    "execution": {
     "iopub.execute_input": "2021-09-22T08:35:02.604123Z",
     "iopub.status.busy": "2021-09-22T08:35:02.433818Z",
     "iopub.status.idle": "2021-09-22T08:52:25.199196Z",
     "shell.execute_reply": "2021-09-22T08:52:25.200815Z"
    }
   },
   "outputs": [
    {
     "name": "stdout",
     "output_type": "stream",
     "text": [
      "Time to slice DDA_6:\n",
      "Testing LC slice data[100.0: 100.5] (124,835 detector hits).\n",
      "4.25 ms ± 202 µs per loop (mean ± std. dev. of 7 runs, 100 loops each)\n",
      "Testing TIMS slice data[:, 450] (234,662 detector hits).\n",
      "9.31 ms ± 238 µs per loop (mean ± std. dev. of 7 runs, 100 loops each)\n",
      "Testing QUAD slice data[:, :, 700.0: 710] (40,583 detector hits).\n",
      "13.7 ms ± 1.03 ms per loop (mean ± std. dev. of 7 runs, 100 loops each)\n",
      "Testing TOF slice data[:, :, :, 621.9: 622.1] (38,471 detector hits).\n",
      "79.9 ms ± 9.18 ms per loop (mean ± std. dev. of 7 runs, 10 loops each)\n",
      "\n",
      "Time to slice DIA_6:\n",
      "Testing LC slice data[100.0: 100.5] (59,714 detector hits).\n",
      "2.2 ms ± 175 µs per loop (mean ± std. dev. of 7 runs, 100 loops each)\n",
      "Testing TIMS slice data[:, 450] (162,369 detector hits).\n",
      "7.34 ms ± 435 µs per loop (mean ± std. dev. of 7 runs, 100 loops each)\n",
      "Testing QUAD slice data[:, :, 700.0: 710] (4,173,952 detector hits).\n",
      "192 ms ± 19.1 ms per loop (mean ± std. dev. of 7 runs, 10 loops each)\n",
      "Testing TOF slice data[:, :, :, 621.9: 622.1] (27,954 detector hits).\n",
      "98.6 ms ± 4.28 ms per loop (mean ± std. dev. of 7 runs, 10 loops each)\n",
      "\n",
      "Time to slice DDA_21:\n",
      "Testing LC slice data[100.0: 100.5] (20,923 detector hits).\n",
      "697 µs ± 36.7 µs per loop (mean ± std. dev. of 7 runs, 1000 loops each)\n",
      "Testing TIMS slice data[:, 450] (658,010 detector hits).\n",
      "33.4 ms ± 979 µs per loop (mean ± std. dev. of 7 runs, 10 loops each)\n",
      "Testing QUAD slice data[:, :, 700.0: 710] (759,187 detector hits).\n",
      "76.2 ms ± 2.09 ms per loop (mean ± std. dev. of 7 runs, 10 loops each)\n",
      "Testing TOF slice data[:, :, :, 621.9: 622.1] (69,405 detector hits).\n",
      "219 ms ± 7.81 ms per loop (mean ± std. dev. of 7 runs, 1 loop each)\n",
      "\n",
      "Time to slice DIA_21:\n",
      "Testing LC slice data[100.0: 100.5] (5,098 detector hits).\n",
      "331 µs ± 17 µs per loop (mean ± std. dev. of 7 runs, 1000 loops each)\n",
      "Testing TIMS slice data[:, 450] (1,353,926 detector hits).\n",
      "68.5 ms ± 4.23 ms per loop (mean ± std. dev. of 7 runs, 10 loops each)\n",
      "Testing QUAD slice data[:, :, 700.0: 710] (47,439,349 detector hits).\n",
      "1.85 s ± 86.7 ms per loop (mean ± std. dev. of 7 runs, 1 loop each)\n",
      "Testing TOF slice data[:, :, :, 621.9: 622.1] (116,658 detector hits).\n",
      "453 ms ± 13.9 ms per loop (mean ± std. dev. of 7 runs, 1 loop each)\n",
      "\n",
      "Time to slice DDA_120:\n",
      "Testing LC slice data[100.0: 100.5] (2,185 detector hits).\n",
      "165 µs ± 16.3 µs per loop (mean ± std. dev. of 7 runs, 10000 loops each)\n",
      "Testing TIMS slice data[:, 450] (5,292,442 detector hits).\n",
      "240 ms ± 17.7 ms per loop (mean ± std. dev. of 7 runs, 1 loop each)\n",
      "Testing QUAD slice data[:, :, 700.0: 710] (7,071,306 detector hits).\n",
      "512 ms ± 32 ms per loop (mean ± std. dev. of 7 runs, 1 loop each)\n",
      "Testing TOF slice data[:, :, :, 621.9: 622.1] (797,700 detector hits).\n",
      "1.46 s ± 51.7 ms per loop (mean ± std. dev. of 7 runs, 1 loop each)\n",
      "\n",
      "Time to slice DIA_120:\n",
      "Testing LC slice data[100.0: 100.5] (29,248 detector hits).\n",
      "1.22 ms ± 94.5 µs per loop (mean ± std. dev. of 7 runs, 1000 loops each)\n",
      "Testing TIMS slice data[:, 450] (10,531,583 detector hits).\n",
      "544 ms ± 24.9 ms per loop (mean ± std. dev. of 7 runs, 1 loop each)\n",
      "Testing QUAD slice data[:, :, 700.0: 710] (372,960,282 detector hits).\n",
      "15.7 s ± 376 ms per loop (mean ± std. dev. of 7 runs, 1 loop each)\n",
      "Testing TOF slice data[:, :, :, 621.9: 622.1] (1,661,932 detector hits).\n",
      "2min 3s ± 29.7 s per loop (mean ± std. dev. of 7 runs, 1 loop each)\n",
      "\n"
     ]
    }
   ],
   "source": [
    "import os\n",
    "\n",
    "frame_slice_times = {}\n",
    "scan_slice_times = {}\n",
    "quad_slice_times = {}\n",
    "tof_slice_times = {}\n",
    "\n",
    "frame_slice_counts = {}\n",
    "scan_slice_counts = {}\n",
    "quad_slice_counts = {}\n",
    "tof_slice_counts = {}\n",
    "\n",
    "for sample_id, data in timstof_objects.items():\n",
    "    print(f\"Time to slice {sample_id}:\")\n",
    "    \n",
    "    count = len(data[100.:100.5, \"raw\"])\n",
    "    print(\n",
    "        f\"Testing LC slice data[100.0: 100.5] ({count:,} detector hits).\"\n",
    "    )\n",
    "    frame_slice_time = %timeit -o tmp = data[100.:100.5, \"raw\"]\n",
    "    frame_slice_counts[sample_id] = count\n",
    "    frame_slice_times[sample_id] = np.average(frame_slice_time.timings)\n",
    "    \n",
    "    count = len(data[:, 450, \"raw\"])\n",
    "    print(\n",
    "        f\"Testing TIMS slice data[:, 450] ({count:,} detector hits).\"\n",
    "    )\n",
    "    scan_slice_time = %timeit -o tmp = data[:, 450, \"raw\"]\n",
    "    scan_slice_counts[sample_id] = count\n",
    "    scan_slice_times[sample_id] = np.average(scan_slice_time.timings)\n",
    "    \n",
    "    count = len(data[:, :, 700.0: 710, \"raw\"])\n",
    "    print(\n",
    "        f\"Testing QUAD slice data[:, :, 700.0: 710] ({count:,} detector hits).\"\n",
    "    )\n",
    "    quad_slice_time = %timeit -o tmp = data[:, :, 700.0: 710, \"raw\"]\n",
    "    quad_slice_counts[sample_id] = count\n",
    "    quad_slice_times[sample_id] = np.average(quad_slice_time.timings)\n",
    "    \n",
    "    count = len(data[:, :, :, 621.9: 622.1, \"raw\"])\n",
    "    print(\n",
    "        f\"Testing TOF slice data[:, :, :, 621.9: 622.1] ({count:,} detector hits).\"\n",
    "    )\n",
    "    tof_slice_time = %timeit -o tmp = data[:, :, :, 621.9: 622.1, \"raw\"]\n",
    "    tof_slice_counts[sample_id] = count\n",
    "    tof_slice_times[sample_id] = np.average(tof_slice_time.timings)\n",
    "    \n",
    "    print(\"\")\n",
    "    \n",
    "overview[\"Slice LC (s)\"] = pd.Series(frame_slice_times)\n",
    "overview[\"Slice LC (hits)\"] = pd.Series(frame_slice_counts)\n",
    "overview[\"Slice TIMS (s)\"] = pd.Series(scan_slice_times)\n",
    "overview[\"Slice TIMS (hits)\"] = pd.Series(scan_slice_counts)\n",
    "overview[\"Slice QUAD (s)\"] = pd.Series(quad_slice_times)\n",
    "overview[\"Slice QUAD (hits)\"] = pd.Series(quad_slice_counts)\n",
    "overview[\"Slice TOF (s)\"] = pd.Series(tof_slice_times)\n",
    "overview[\"Slice TOF (hits)\"] = pd.Series(tof_slice_counts)"
   ]
  },
  {
   "cell_type": "markdown",
   "metadata": {},
   "source": [
    "## Final overview"
   ]
  },
  {
   "cell_type": "markdown",
   "metadata": {},
   "source": [
    "The final time performance can thus be summarized as follows:"
   ]
  },
  {
   "cell_type": "code",
   "execution_count": 10,
   "metadata": {
    "ExecuteTime": {
     "end_time": "2022-04-06T16:25:56.018131Z",
     "start_time": "2022-04-06T16:25:55.768058Z"
    },
    "execution": {
     "iopub.execute_input": "2021-09-22T08:52:25.347433Z",
     "iopub.status.busy": "2021-09-22T08:52:25.303298Z",
     "iopub.status.idle": "2021-09-22T08:52:25.681538Z",
     "shell.execute_reply": "2021-09-22T08:52:25.681925Z"
    }
   },
   "outputs": [
    {
     "data": {
      "text/html": [
       "<div>\n",
       "<style scoped>\n",
       "    .dataframe tbody tr th:only-of-type {\n",
       "        vertical-align: middle;\n",
       "    }\n",
       "\n",
       "    .dataframe tbody tr th {\n",
       "        vertical-align: top;\n",
       "    }\n",
       "\n",
       "    .dataframe thead th {\n",
       "        text-align: right;\n",
       "    }\n",
       "</style>\n",
       "<table border=\"1\" class=\"dataframe\">\n",
       "  <thead>\n",
       "    <tr style=\"text-align: right;\">\n",
       "      <th></th>\n",
       "      <th>DDA_6</th>\n",
       "      <th>DIA_6</th>\n",
       "      <th>DDA_21</th>\n",
       "      <th>DIA_21</th>\n",
       "      <th>DDA_120</th>\n",
       "      <th>DIA_120</th>\n",
       "    </tr>\n",
       "  </thead>\n",
       "  <tbody>\n",
       "    <tr>\n",
       "      <th>Type</th>\n",
       "      <td>DDA</td>\n",
       "      <td>DIA</td>\n",
       "      <td>DDA</td>\n",
       "      <td>DIA</td>\n",
       "      <td>DDA</td>\n",
       "      <td>DIA</td>\n",
       "    </tr>\n",
       "    <tr>\n",
       "      <th>Gradient (min)</th>\n",
       "      <td>6</td>\n",
       "      <td>6</td>\n",
       "      <td>21</td>\n",
       "      <td>21</td>\n",
       "      <td>120</td>\n",
       "      <td>120</td>\n",
       "    </tr>\n",
       "    <tr>\n",
       "      <th>Detector events</th>\n",
       "      <td>143,542,808</td>\n",
       "      <td>126,982,956</td>\n",
       "      <td>295,251,252</td>\n",
       "      <td>730,564,765</td>\n",
       "      <td>2,736,188,777</td>\n",
       "      <td>6,364,599,982</td>\n",
       "    </tr>\n",
       "    <tr>\n",
       "      <th>Load .d (s)</th>\n",
       "      <td>2.42</td>\n",
       "      <td>1.70</td>\n",
       "      <td>5.61</td>\n",
       "      <td>12.0</td>\n",
       "      <td>54.0</td>\n",
       "      <td>153.</td>\n",
       "    </tr>\n",
       "    <tr>\n",
       "      <th>Save .hdf (s)</th>\n",
       "      <td>0.426</td>\n",
       "      <td>0.378</td>\n",
       "      <td>2.19</td>\n",
       "      <td>6.06</td>\n",
       "      <td>208.</td>\n",
       "      <td>443.</td>\n",
       "    </tr>\n",
       "    <tr>\n",
       "      <th>Load .hdf (s)</th>\n",
       "      <td>0.111</td>\n",
       "      <td>0.0626</td>\n",
       "      <td>0.0955</td>\n",
       "      <td>0.0701</td>\n",
       "      <td>0.240</td>\n",
       "      <td>0.157</td>\n",
       "    </tr>\n",
       "    <tr>\n",
       "      <th>Slice LC (s)</th>\n",
       "      <td>0.00425</td>\n",
       "      <td>0.00220</td>\n",
       "      <td>0.000697</td>\n",
       "      <td>0.000331</td>\n",
       "      <td>0.000165</td>\n",
       "      <td>0.00122</td>\n",
       "    </tr>\n",
       "    <tr>\n",
       "      <th>Slice LC (hits)</th>\n",
       "      <td>124,835</td>\n",
       "      <td>59,714</td>\n",
       "      <td>20,923</td>\n",
       "      <td>5,098</td>\n",
       "      <td>2,185</td>\n",
       "      <td>29,248</td>\n",
       "    </tr>\n",
       "    <tr>\n",
       "      <th>Slice TIMS (s)</th>\n",
       "      <td>0.00931</td>\n",
       "      <td>0.00734</td>\n",
       "      <td>0.0334</td>\n",
       "      <td>0.0685</td>\n",
       "      <td>0.240</td>\n",
       "      <td>0.544</td>\n",
       "    </tr>\n",
       "    <tr>\n",
       "      <th>Slice TIMS (hits)</th>\n",
       "      <td>234,662</td>\n",
       "      <td>162,369</td>\n",
       "      <td>658,010</td>\n",
       "      <td>1,353,926</td>\n",
       "      <td>5,292,442</td>\n",
       "      <td>10,531,583</td>\n",
       "    </tr>\n",
       "    <tr>\n",
       "      <th>Slice QUAD (s)</th>\n",
       "      <td>0.0137</td>\n",
       "      <td>0.192</td>\n",
       "      <td>0.0762</td>\n",
       "      <td>1.85</td>\n",
       "      <td>0.512</td>\n",
       "      <td>15.7</td>\n",
       "    </tr>\n",
       "    <tr>\n",
       "      <th>Slice QUAD (hits)</th>\n",
       "      <td>40,583</td>\n",
       "      <td>4,173,952</td>\n",
       "      <td>759,187</td>\n",
       "      <td>47,439,349</td>\n",
       "      <td>7,071,306</td>\n",
       "      <td>372,960,282</td>\n",
       "    </tr>\n",
       "    <tr>\n",
       "      <th>Slice TOF (s)</th>\n",
       "      <td>0.0799</td>\n",
       "      <td>0.0986</td>\n",
       "      <td>0.219</td>\n",
       "      <td>0.453</td>\n",
       "      <td>1.46</td>\n",
       "      <td>124.</td>\n",
       "    </tr>\n",
       "    <tr>\n",
       "      <th>Slice TOF (hits)</th>\n",
       "      <td>38,471</td>\n",
       "      <td>27,954</td>\n",
       "      <td>69,405</td>\n",
       "      <td>116,658</td>\n",
       "      <td>797,700</td>\n",
       "      <td>1,661,932</td>\n",
       "    </tr>\n",
       "  </tbody>\n",
       "</table>\n",
       "</div>"
      ],
      "text/plain": [
       "                         DDA_6        DIA_6       DDA_21       DIA_21  \\\n",
       "Type                       DDA          DIA          DDA          DIA   \n",
       "Gradient (min)               6            6           21           21   \n",
       "Detector events    143,542,808  126,982,956  295,251,252  730,564,765   \n",
       "Load .d (s)               2.42         1.70         5.61         12.0   \n",
       "Save .hdf (s)            0.426        0.378         2.19         6.06   \n",
       "Load .hdf (s)            0.111       0.0626       0.0955       0.0701   \n",
       "Slice LC (s)           0.00425      0.00220     0.000697     0.000331   \n",
       "Slice LC (hits)        124,835       59,714       20,923        5,098   \n",
       "Slice TIMS (s)         0.00931      0.00734       0.0334       0.0685   \n",
       "Slice TIMS (hits)      234,662      162,369      658,010    1,353,926   \n",
       "Slice QUAD (s)          0.0137        0.192       0.0762         1.85   \n",
       "Slice QUAD (hits)       40,583    4,173,952      759,187   47,439,349   \n",
       "Slice TOF (s)           0.0799       0.0986        0.219        0.453   \n",
       "Slice TOF (hits)        38,471       27,954       69,405      116,658   \n",
       "\n",
       "                         DDA_120        DIA_120  \n",
       "Type                         DDA            DIA  \n",
       "Gradient (min)               120            120  \n",
       "Detector events    2,736,188,777  6,364,599,982  \n",
       "Load .d (s)                 54.0           153.  \n",
       "Save .hdf (s)               208.           443.  \n",
       "Load .hdf (s)              0.240          0.157  \n",
       "Slice LC (s)            0.000165        0.00122  \n",
       "Slice LC (hits)            2,185         29,248  \n",
       "Slice TIMS (s)             0.240          0.544  \n",
       "Slice TIMS (hits)      5,292,442     10,531,583  \n",
       "Slice QUAD (s)             0.512           15.7  \n",
       "Slice QUAD (hits)      7,071,306    372,960,282  \n",
       "Slice TOF (s)               1.46           124.  \n",
       "Slice TOF (hits)         797,700      1,661,932  "
      ]
     },
     "execution_count": 10,
     "metadata": {},
     "output_type": "execute_result"
    }
   ],
   "source": [
    "def format_df(overview):\n",
    "    new_overview = pd.DataFrame()\n",
    "    for column_name, dtype in zip(overview.columns, overview.dtypes):\n",
    "        new_column = overview[column_name]\n",
    "        if dtype == np.int64:\n",
    "            new_column = new_column.apply(lambda z: f\"{z:,}\")\n",
    "        elif dtype == np.float64:\n",
    "            new_column = new_column.apply(lambda z: f\"{z:#.3g}\")\n",
    "        new_overview[column_name] = new_column\n",
    "    return new_overview.T\n",
    "\n",
    "overview.T.to_csv(\"performance_results.csv\")\n",
    "format_df(overview)"
   ]
  },
  {
   "cell_type": "markdown",
   "metadata": {},
   "source": [
    "Alternatively, it can be presented visually:"
   ]
  },
  {
   "cell_type": "code",
   "execution_count": 11,
   "metadata": {
    "ExecuteTime": {
     "end_time": "2022-04-06T16:26:03.523047Z",
     "start_time": "2022-04-06T16:25:56.023815Z"
    },
    "execution": {
     "iopub.execute_input": "2021-09-22T08:52:25.759364Z",
     "iopub.status.busy": "2021-09-22T08:52:25.734605Z",
     "iopub.status.idle": "2021-09-22T08:52:34.747420Z",
     "shell.execute_reply": "2021-09-22T08:52:34.746935Z"
    }
   },
   "outputs": [
    {
     "data": {
      "image/png": "[encoded data removed]",
      "text/plain": [
       "<Figure size 432x288 with 1 Axes>"
      ]
     },
     "metadata": {
      "needs_background": "light"
     },
     "output_type": "display_data"
    }
   ],
   "source": [
    "from matplotlib import pyplot as plt\n",
    "sizes = np.sqrt(overview[\"Detector events\"]/10**5)\n",
    "edgecolors = [\"black\" for i in overview[\"Type\"].values]\n",
    "linestyle = [\":\" if i == \"DIA\" else \"-\" for i in overview[\"Type\"].values]\n",
    "scatter_dimensions = [\n",
    "    (overview[\"Detector events\"], overview[\"Load .d (s)\"]),\n",
    "    (overview[\"Detector events\"], overview[\"Load .hdf (s)\"]),\n",
    "    (overview[\"Detector events\"], overview[\"Save .hdf (s)\"]),\n",
    "    (overview[\"Slice LC (hits)\"], overview[\"Slice LC (s)\"]),\n",
    "    (overview[\"Slice TIMS (hits)\"], overview[\"Slice TIMS (s)\"]),\n",
    "    (overview[\"Slice QUAD (hits)\"], overview[\"Slice QUAD (s)\"]),\n",
    "    (overview[\"Slice TOF (hits)\"], overview[\"Slice TOF (s)\"]),\n",
    "]\n",
    "\n",
    "for x, y in scatter_dimensions:\n",
    "    plt.scatter(x, y, alpha=0.50, s=sizes, edgecolors=\"black\", linestyle=linestyle)\n",
    "    \n",
    "function_legend = plt.legend(\n",
    "    labels=[\n",
    "        \"Load .d\",\n",
    "        \"Load .hdf\",\n",
    "        \"Save .hdf\",\n",
    "        \"Slice LC\",\n",
    "        \"Slice TIMS\",\n",
    "        \"Slice quadrupole\",\n",
    "        \"Slice TOF\",\n",
    "    ],\n",
    "    loc=\"lower left\",\n",
    "    bbox_to_anchor=(1, 0),\n",
    "    scatterpoints=1,\n",
    "    frameon=False,\n",
    ")\n",
    "for i, sc in enumerate(scatter_dimensions):\n",
    "    function_legend.legendHandles[i].set_edgecolor(None)\n",
    "    \n",
    "plt.yscale('log')\n",
    "plt.xscale('log')\n",
    "sample_legend = plt.legend(\n",
    "    [ \n",
    "        f\"{acq} {grad} min\" for acq, grad in zip(\n",
    "            overview[\"Type\"],\n",
    "            overview[\"Gradient (min)\"]\n",
    "        )\n",
    "    ],\n",
    "    loc=\"upper left\",\n",
    "    bbox_to_anchor=(1, 1),\n",
    "    scatterpoints=1,\n",
    "    frameon=False,\n",
    ")\n",
    "for i, size in enumerate(sizes):\n",
    "    sample_legend.legendHandles[i]._sizes = [size]\n",
    "    sample_legend.legendHandles[i].set_color('grey')\n",
    "    sample_legend.legendHandles[i].set_linestyle(linestyle[i])\n",
    "    sample_legend.legendHandles[i].set_edgecolor('black')\n",
    "    \n",
    "plt.gca().add_artist(sample_legend)\n",
    "plt.gca().add_artist(function_legend)\n",
    "\n",
    "plt.xlabel(\"#Detector events (logscale)\")\n",
    "plt.ylabel(\"Time in seconds (logscale)\")\n",
    "plt.savefig(\n",
    "    'performance_results.pdf',\n",
    "    format='pdf',\n",
    "    dpi=1200,\n",
    "    bbox_inches=\"tight\"\n",
    ")\n",
    "plt.savefig(\n",
    "    'performance_results.png',\n",
    "    format='png',\n",
    "    dpi=1200,\n",
    "    bbox_inches=\"tight\"\n",
    ")\n",
    "plt.show()"
   ]
  },
  {
   "cell_type": "code",
   "execution_count": null,
   "metadata": {},
   "outputs": [],
   "source": []
  }
 ],
 "metadata": {
  "kernelspec": {
   "display_name": "Python [conda env:alphatims]",
   "language": "python",
   "name": "conda-env-alphatims-py"
  },
  "language_info": {
   "codemirror_mode": {
    "name": "ipython",
    "version": 3
   },
   "file_extension": ".py",
   "mimetype": "text/x-python",
   "name": "python",
   "nbconvert_exporter": "python",
   "pygments_lexer": "ipython3",
   "version": "3.8.10"
  },
  "toc": {
   "base_numbering": 1,
   "nav_menu": {},
   "number_sections": true,
   "sideBar": true,
   "skip_h1_title": false,
   "title_cell": "Table of Contents",
   "title_sidebar": "Contents",
   "toc_cell": false,
   "toc_position": {},
   "toc_section_display": true,
   "toc_window_display": true
  },
  "varInspector": {
   "cols": {
    "lenName": 16,
    "lenType": 16,
    "lenVar": 40
   },
   "kernels_config": {
    "python": {
     "delete_cmd_postfix": "",
     "delete_cmd_prefix": "del ",
     "library": "var_list.py",
     "varRefreshCmd": "print(var_dic_list())"
    },
    "r": {
     "delete_cmd_postfix": ") ",
     "delete_cmd_prefix": "rm(",
     "library": "var_list.r",
     "varRefreshCmd": "cat(var_dic_list()) "
    }
   },
   "types_to_exclude": [
    "module",
    "function",
    "builtin_function_or_method",
    "instance",
    "_Feature"
   ],
   "window_display": false
  }
 },
 "nbformat": 4,
 "nbformat_minor": 4
}
