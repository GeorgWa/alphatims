{
 "cells": [
  {
   "cell_type": "markdown",
   "metadata": {},
   "source": [
    "# Performance"
   ]
  },
  {
   "cell_type": "markdown",
   "metadata": {},
   "source": [
    "This notebook is intended to demonstrate the performance of AlphaTIMS.\n",
    "It contains the following information:\n",
    "1. [**Samples**](#Samples)\n",
    "2. [**Reading raw Bruker .d folders**](#Reading-raw-Bruker-.d-folders)\n",
    "3. [**Saving HDF files**](#Saving-HDF-files)\n",
    "4. [**Reading HDF files**](#Reading-HDF-files)\n",
    "5. [**Slicing data**](#Slicing-data)"
   ]
  },
  {
   "cell_type": "markdown",
   "metadata": {},
   "source": [
    "The following system was used:"
   ]
  },
  {
   "cell_type": "code",
   "execution_count": 1,
   "metadata": {},
   "outputs": [
    {
     "name": "stdout",
     "output_type": "stream",
     "text": [
      "2021-01-22 15:01:01> Platform information:\n",
      "2021-01-22 15:01:01> system     - Darwin\n",
      "2021-01-22 15:01:01> release    - 19.6.0\n",
      "2021-01-22 15:01:01> version    - 10.15.7\n",
      "2021-01-22 15:01:01> machine    - x86_64\n",
      "2021-01-22 15:01:01> processor  - i386\n",
      "2021-01-22 15:01:01> cpu count  - 8\n",
      "2021-01-22 15:01:01> ram memory - 24.4/32.0 Gb (available/total)\n",
      "2021-01-22 15:01:01> \n",
      "2021-01-22 15:01:01> Python information:\n",
      "2021-01-22 15:01:01> alphatims  - 0.0.210121\n",
      "2021-01-22 15:01:01> bokeh      - 2.2.3\n",
      "2021-01-22 15:01:01> click      - 7.1.2\n",
      "2021-01-22 15:01:01> datashader - 0.11.1\n",
      "2021-01-22 15:01:01> h5py       - 3.1.0\n",
      "2021-01-22 15:01:01> holoviews  - 1.14.0\n",
      "2021-01-22 15:01:01> holoviz    - 0.11.6\n",
      "2021-01-22 15:01:01> ipykernel  - 5.3.4\n",
      "2021-01-22 15:01:01> jupyter    - 1.0.0\n",
      "2021-01-22 15:01:01> matplotlib - 3.3.3\n",
      "2021-01-22 15:01:01> numba      - 0.52.0\n",
      "2021-01-22 15:01:01> numpy      - 1.19.4\n",
      "2021-01-22 15:01:01> pandas     - 1.1.4\n",
      "2021-01-22 15:01:01> plotly     - 4.13.0\n",
      "2021-01-22 15:01:01> python     - 3.8.5\n",
      "2021-01-22 15:01:01> pywin32    - \n",
      "2021-01-22 15:01:01> rise       - 5.7.1\n",
      "2021-01-22 15:01:01> seaborn    - 0.11.0\n",
      "2021-01-22 15:01:01> tqdm       - 4.54.0\n",
      "2021-01-22 15:01:01> \n"
     ]
    }
   ],
   "source": [
    "import alphatims.utils\n",
    "\n",
    "alphatims.utils.set_threads(8)\n",
    "log_file_name = alphatims.utils.set_logger(\n",
    "    log_file_name=\"performance_log.txt\",\n",
    "    overwrite=True\n",
    ")\n",
    "alphatims.utils.show_platform_info()\n",
    "alphatims.utils.show_python_info()"
   ]
  },
  {
   "cell_type": "markdown",
   "metadata": {},
   "source": [
    "## Samples"
   ]
  },
  {
   "cell_type": "markdown",
   "metadata": {},
   "source": [
    "Five samples are used and compared:"
   ]
  },
  {
   "cell_type": "code",
   "execution_count": 2,
   "metadata": {},
   "outputs": [],
   "source": [
    "file_names = {\n",
    "    \"DDA_6\": \"/Users/swillems/Data/alphatims_testing/20201016_tims03_Evo03_PS_MA_HeLa_200ng_DDA_06-15_5_6min_4cm_S1-A1_1_21717.d\",\n",
    "    \"DIA_6\": \"/Users/swillems/Data/alphatims_testing/20201016_tims03_Evo03_PS_SA_HeLa_200ng_300-1200_2steps_16scans_06-15_5_6min_4cm_S1-A4_1_21720.d\",\n",
    "    \"DDA_21\": \"/Users/swillems/Data/alphatims_testing/20201207_tims03_Evo03_PS_SA_HeLa_200ng_EvoSep_prot_DDA_21min_8cm_S1-C10_1_22476.d\",\n",
    "    \"DIA_21\": \"/Users/swillems/Data/alphatims_testing/20201207_tims03_Evo03_PS_SA_HeLa_200ng_EvoSep_prot_high_speed_21min_8cm_S1-C8_1_22474.d\",\n",
    "    \"DDA_120\": \"/Users/swillems/Data/alphatims_testing/HeLa_200ng_1428.d\"\n",
    "}"
   ]
  },
  {
   "cell_type": "markdown",
   "metadata": {},
   "source": [
    "We first load all these files to show their basic statistics before we do the actual timing:"
   ]
  },
  {
   "cell_type": "code",
   "execution_count": 3,
   "metadata": {},
   "outputs": [
    {
     "name": "stdout",
     "output_type": "stream",
     "text": [
      "2021-01-22 15:01:01> No Bruker libraries are available for this operating system. Intensities are uncalibrated, resulting in (very) small differences. However, mobility and m/z values need to be estimated. While this estimation often returns acceptable results with errors < 0.02 Th, huge errors (e.g. offsets of 6 Th) have already been observed for some samples!\n",
      "2021-01-22 15:01:01> \n",
      "2021-01-22 15:01:02> Initial loading of DDA_6\n",
      "2021-01-22 15:01:02> Importing data from /Users/swillems/Data/alphatims_testing/20201016_tims03_Evo03_PS_MA_HeLa_200ng_DDA_06-15_5_6min_4cm_S1-A1_1_21717.d\n",
      "2021-01-22 15:01:02> Reading frame metadata for /Users/swillems/Data/alphatims_testing/20201016_tims03_Evo03_PS_MA_HeLa_200ng_DDA_06-15_5_6min_4cm_S1-A1_1_21717.d\n",
      "2021-01-22 15:01:02> Reading 2,978 frames with 214,172,697 TOF arrivals for /Users/swillems/Data/alphatims_testing/20201016_tims03_Evo03_PS_MA_HeLa_200ng_DDA_06-15_5_6min_4cm_S1-A1_1_21717.d\n"
     ]
    },
    {
     "name": "stderr",
     "output_type": "stream",
     "text": [
      "100%|██████████| 2978/2978 [00:02<00:00, 1318.36it/s]\n"
     ]
    },
    {
     "name": "stdout",
     "output_type": "stream",
     "text": [
      "2021-01-22 15:01:05> Succesfully imported data from /Users/swillems/Data/alphatims_testing/20201016_tims03_Evo03_PS_MA_HeLa_200ng_DDA_06-15_5_6min_4cm_S1-A1_1_21717.d\n",
      "2021-01-22 15:01:05> \n",
      "2021-01-22 15:01:05> Initial loading of DIA_6\n",
      "2021-01-22 15:01:05> Importing data from /Users/swillems/Data/alphatims_testing/20201016_tims03_Evo03_PS_SA_HeLa_200ng_300-1200_2steps_16scans_06-15_5_6min_4cm_S1-A4_1_21720.d\n",
      "2021-01-22 15:01:05> Reading frame metadata for /Users/swillems/Data/alphatims_testing/20201016_tims03_Evo03_PS_SA_HeLa_200ng_300-1200_2steps_16scans_06-15_5_6min_4cm_S1-A4_1_21720.d\n",
      "2021-01-22 15:01:05> Reading 3,182 frames with 158,552,099 TOF arrivals for /Users/swillems/Data/alphatims_testing/20201016_tims03_Evo03_PS_SA_HeLa_200ng_300-1200_2steps_16scans_06-15_5_6min_4cm_S1-A4_1_21720.d\n"
     ]
    },
    {
     "name": "stderr",
     "output_type": "stream",
     "text": [
      "100%|██████████| 3182/3182 [00:01<00:00, 3003.54it/s]\n"
     ]
    },
    {
     "name": "stdout",
     "output_type": "stream",
     "text": [
      "2021-01-22 15:01:06> Succesfully imported data from /Users/swillems/Data/alphatims_testing/20201016_tims03_Evo03_PS_SA_HeLa_200ng_300-1200_2steps_16scans_06-15_5_6min_4cm_S1-A4_1_21720.d\n",
      "2021-01-22 15:01:06> \n",
      "2021-01-22 15:01:06> Initial loading of DDA_21\n",
      "2021-01-22 15:01:06> Importing data from /Users/swillems/Data/alphatims_testing/20201207_tims03_Evo03_PS_SA_HeLa_200ng_EvoSep_prot_DDA_21min_8cm_S1-C10_1_22476.d\n",
      "2021-01-22 15:01:06> Reading frame metadata for /Users/swillems/Data/alphatims_testing/20201207_tims03_Evo03_PS_SA_HeLa_200ng_EvoSep_prot_DDA_21min_8cm_S1-C10_1_22476.d\n",
      "2021-01-22 15:01:07> Reading 11,886 frames with 295,251,252 TOF arrivals for /Users/swillems/Data/alphatims_testing/20201207_tims03_Evo03_PS_SA_HeLa_200ng_EvoSep_prot_DDA_21min_8cm_S1-C10_1_22476.d\n"
     ]
    },
    {
     "name": "stderr",
     "output_type": "stream",
     "text": [
      "100%|██████████| 11886/11886 [00:02<00:00, 4194.59it/s]\n"
     ]
    },
    {
     "name": "stdout",
     "output_type": "stream",
     "text": [
      "2021-01-22 15:01:10> Succesfully imported data from /Users/swillems/Data/alphatims_testing/20201207_tims03_Evo03_PS_SA_HeLa_200ng_EvoSep_prot_DDA_21min_8cm_S1-C10_1_22476.d\n",
      "2021-01-22 15:01:10> \n",
      "2021-01-22 15:01:10> Initial loading of DIA_21\n",
      "2021-01-22 15:01:10> Importing data from /Users/swillems/Data/alphatims_testing/20201207_tims03_Evo03_PS_SA_HeLa_200ng_EvoSep_prot_high_speed_21min_8cm_S1-C8_1_22474.d\n",
      "2021-01-22 15:01:10> Reading frame metadata for /Users/swillems/Data/alphatims_testing/20201207_tims03_Evo03_PS_SA_HeLa_200ng_EvoSep_prot_high_speed_21min_8cm_S1-C8_1_22474.d\n",
      "2021-01-22 15:01:11> Reading 11,868 frames with 730,564,765 TOF arrivals for /Users/swillems/Data/alphatims_testing/20201207_tims03_Evo03_PS_SA_HeLa_200ng_EvoSep_prot_high_speed_21min_8cm_S1-C8_1_22474.d\n"
     ]
    },
    {
     "name": "stderr",
     "output_type": "stream",
     "text": [
      "100%|██████████| 11868/11868 [00:04<00:00, 2921.13it/s]\n"
     ]
    },
    {
     "name": "stdout",
     "output_type": "stream",
     "text": [
      "2021-01-22 15:01:15> Succesfully imported data from /Users/swillems/Data/alphatims_testing/20201207_tims03_Evo03_PS_SA_HeLa_200ng_EvoSep_prot_high_speed_21min_8cm_S1-C8_1_22474.d\n",
      "2021-01-22 15:01:15> \n",
      "2021-01-22 15:01:15> Initial loading of DDA_120\n",
      "2021-01-22 15:01:15> Importing data from /Users/swillems/Data/alphatims_testing/HeLa_200ng_1428.d\n",
      "2021-01-22 15:01:15> Reading frame metadata for /Users/swillems/Data/alphatims_testing/HeLa_200ng_1428.d\n",
      "2021-01-22 15:01:19> Reading 68,114 frames with 2,074,019,899 TOF arrivals for /Users/swillems/Data/alphatims_testing/HeLa_200ng_1428.d\n"
     ]
    },
    {
     "name": "stderr",
     "output_type": "stream",
     "text": [
      "100%|██████████| 68114/68114 [00:22<00:00, 3095.80it/s]\n"
     ]
    },
    {
     "name": "stdout",
     "output_type": "stream",
     "text": [
      "2021-01-22 15:01:48> Succesfully imported data from /Users/swillems/Data/alphatims_testing/HeLa_200ng_1428.d\n",
      "2021-01-22 15:01:48> \n"
     ]
    }
   ],
   "source": [
    "import logging\n",
    "import alphatims.bruker\n",
    "\n",
    "timstof_objects = {}\n",
    "for sample_id, file_name in file_names.items():\n",
    "    logging.info(f\"Initial loading of {sample_id}\")\n",
    "    timstof_objects[sample_id] = alphatims.bruker.TimsTOF(file_name)\n",
    "    logging.info(\"\")"
   ]
  },
  {
   "cell_type": "markdown",
   "metadata": {},
   "source": [
    "In summary, we thus consider the following samples:"
   ]
  },
  {
   "cell_type": "markdown",
   "metadata": {},
   "source": [
    "| type | gradient | datapoints    | sample_id |\n",
    "|------|----------|---------------|-----------|\n",
    "| DDA  | 6 min    | 214,172,697   | DDA_6     |\n",
    "| DIA  | 6 min    | 158,552,099   | DIA_6     |\n",
    "| DDA  | 21 min   | 295,251,252   | DDA_21    |\n",
    "| DIA  | 21 min   | 730,564,765   | DIA_21    |\n",
    "| DDA  | 120 min  | 2,074,019,899 | DDA_120   |"
   ]
  },
  {
   "cell_type": "markdown",
   "metadata": {},
   "source": [
    "## Reading raw Bruker .d folders"
   ]
  },
  {
   "cell_type": "markdown",
   "metadata": {},
   "source": [
    "To avoid unwanted system inferences, we perform a `timeit` function to get a robust estimate of loading times for raw Bruker .d folders:"
   ]
  },
  {
   "cell_type": "code",
   "execution_count": 4,
   "metadata": {},
   "outputs": [
    {
     "name": "stdout",
     "output_type": "stream",
     "text": [
      "Time to load DDA_6 raw Bruker .d folder:\n",
      "1.55 s ± 26 ms per loop (mean ± std. dev. of 7 runs, 1 loop each)\n",
      "\n",
      "Time to load DIA_6 raw Bruker .d folder:\n",
      "1.09 s ± 9.14 ms per loop (mean ± std. dev. of 7 runs, 1 loop each)\n",
      "\n",
      "Time to load DDA_21 raw Bruker .d folder:\n",
      "3.07 s ± 103 ms per loop (mean ± std. dev. of 7 runs, 1 loop each)\n",
      "\n",
      "Time to load DIA_21 raw Bruker .d folder:\n",
      "4.54 s ± 93.2 ms per loop (mean ± std. dev. of 7 runs, 1 loop each)\n",
      "\n",
      "Time to load DDA_120 raw Bruker .d folder:\n",
      "24.1 s ± 2.04 s per loop (mean ± std. dev. of 7 runs, 1 loop each)\n",
      "\n"
     ]
    }
   ],
   "source": [
    "alphatims.utils.set_logger(stream=False)\n",
    "alphatims.utils.PROGRESS_CALLBACK_STYLE = alphatims.utils.PROGRESS_CALLBACK_STYLE_NONE\n",
    "for sample_id, file_name in file_names.items():\n",
    "    print(f\"Time to load {sample_id} raw Bruker .d folder:\")\n",
    "    %timeit tmp = alphatims.bruker.TimsTOF(file_name)\n",
    "    print(\"\")"
   ]
  },
  {
   "cell_type": "markdown",
   "metadata": {},
   "source": [
    "## Saving HDF files"
   ]
  },
  {
   "cell_type": "markdown",
   "metadata": {},
   "source": [
    "Each of the data files can also be exported to HDF files:"
   ]
  },
  {
   "cell_type": "code",
   "execution_count": 5,
   "metadata": {},
   "outputs": [
    {
     "name": "stdout",
     "output_type": "stream",
     "text": [
      "Time to export DDA_6 to HDF file:\n",
      "571 ms ± 54.2 ms per loop (mean ± std. dev. of 7 runs, 1 loop each)\n",
      "\n",
      "Time to export DIA_6 to HDF file:\n",
      "403 ms ± 42.5 ms per loop (mean ± std. dev. of 7 runs, 1 loop each)\n",
      "\n",
      "Time to export DDA_21 to HDF file:\n",
      "757 ms ± 33.1 ms per loop (mean ± std. dev. of 7 runs, 1 loop each)\n",
      "\n",
      "Time to export DIA_21 to HDF file:\n",
      "1.85 s ± 73.3 ms per loop (mean ± std. dev. of 7 runs, 1 loop each)\n",
      "\n",
      "Time to export DDA_120 to HDF file:\n",
      "5.7 s ± 419 ms per loop (mean ± std. dev. of 7 runs, 1 loop each)\n",
      "\n"
     ]
    }
   ],
   "source": [
    "for sample_id, data in timstof_objects.items():\n",
    "    print(f\"Time to export {sample_id} to HDF file:\")\n",
    "    path = data.directory\n",
    "    file_name = f\"{data.sample_name}.hdf\"\n",
    "    %timeit tmp = data.save_as_hdf(path, file_name, overwrite=True)\n",
    "    print(\"\")"
   ]
  },
  {
   "cell_type": "markdown",
   "metadata": {},
   "source": [
    "## Reading HDF files"
   ]
  },
  {
   "cell_type": "markdown",
   "metadata": {},
   "source": [
    "Once these HDF file are created, they can be loaded much faster than raw Bruker .d folders:"
   ]
  },
  {
   "cell_type": "code",
   "execution_count": 6,
   "metadata": {},
   "outputs": [
    {
     "name": "stdout",
     "output_type": "stream",
     "text": [
      "Time to load DDA_6 HDF file:\n",
      "536 ms ± 34.8 ms per loop (mean ± std. dev. of 7 runs, 1 loop each)\n",
      "\n",
      "Time to load DIA_6 HDF file:\n",
      "381 ms ± 15.8 ms per loop (mean ± std. dev. of 7 runs, 1 loop each)\n",
      "\n",
      "Time to load DDA_21 HDF file:\n",
      "913 ms ± 52.7 ms per loop (mean ± std. dev. of 7 runs, 1 loop each)\n",
      "\n",
      "Time to load DIA_21 HDF file:\n",
      "2.2 s ± 515 ms per loop (mean ± std. dev. of 7 runs, 1 loop each)\n",
      "\n",
      "Time to load DDA_120 HDF file:\n",
      "10.6 s ± 254 ms per loop (mean ± std. dev. of 7 runs, 1 loop each)\n",
      "\n"
     ]
    }
   ],
   "source": [
    "import os\n",
    "for sample_id, data in timstof_objects.items():\n",
    "    print(f\"Time to load {sample_id} HDF file:\")\n",
    "    file_name = os.path.join(data.directory, f\"{data.sample_name}.hdf\")\n",
    "    %timeit tmp = alphatims.bruker.TimsTOF(file_name)\n",
    "    print(\"\")"
   ]
  },
  {
   "cell_type": "markdown",
   "metadata": {},
   "source": [
    "## Slicing data"
   ]
  },
  {
   "cell_type": "markdown",
   "metadata": {},
   "source": [
    "Lastly, we can slice this data. Since this uses Numba JIT compilation, we first compile the relevant functions with an initial slice call:"
   ]
  },
  {
   "cell_type": "code",
   "execution_count": 7,
   "metadata": {},
   "outputs": [],
   "source": [
    "tmp = timstof_objects[\"DDA_6\"][0]"
   ]
  },
  {
   "cell_type": "markdown",
   "metadata": {},
   "source": [
    "Now we can time how long it takes to slice in different dimensions:\n",
    "   * **LC:** $100.0 \\leq \\textrm{retention_time} \\lt 100.5$\n",
    "   * **TIMS:** $\\textrm{scan_index} = 450$\n",
    "   * **Quadrupole:** $700.0 \\leq \\textrm{quad_mz_values} \\lt 710.0$\n",
    "   * **TOF:** $621.9 \\leq \\textrm{tof_mz_values} \\lt 622.1$"
   ]
  },
  {
   "cell_type": "code",
   "execution_count": 8,
   "metadata": {},
   "outputs": [
    {
     "name": "stdout",
     "output_type": "stream",
     "text": [
      "Time to slice DDA_6:\n",
      "Testing slice data[100.0: 100.5]\n",
      "1.64 ms ± 122 µs per loop (mean ± std. dev. of 7 runs, 1000 loops each)\n",
      "Testing slice data[:, 450]\n",
      "45.7 ms ± 17.4 ms per loop (mean ± std. dev. of 7 runs, 1 loop each)\n",
      "Testing slice data[:, :, 700.0: 710]\n",
      "27 ms ± 2.48 ms per loop (mean ± std. dev. of 7 runs, 10 loops each)\n",
      "Testing slice data[:, :, :, 621.9: 622.1]\n",
      "78.8 ms ± 3.43 ms per loop (mean ± std. dev. of 7 runs, 1 loop each)\n",
      "\n",
      "Time to slice DIA_6:\n",
      "Testing slice data[100.0: 100.5]\n",
      "6.4 ms ± 200 µs per loop (mean ± std. dev. of 7 runs, 100 loops each)\n",
      "Testing slice data[:, 450]\n",
      "26.7 ms ± 1.35 ms per loop (mean ± std. dev. of 7 runs, 1 loop each)\n",
      "Testing slice data[:, :, 700.0: 710]\n",
      "626 ms ± 19.4 ms per loop (mean ± std. dev. of 7 runs, 1 loop each)\n",
      "Testing slice data[:, :, :, 621.9: 622.1]\n",
      "109 ms ± 3.63 ms per loop (mean ± std. dev. of 7 runs, 1 loop each)\n",
      "\n",
      "Time to slice DDA_21:\n",
      "Testing slice data[100.0: 100.5]\n",
      "1.74 ms ± 96.2 µs per loop (mean ± std. dev. of 7 runs, 100 loops each)\n",
      "Testing slice data[:, 450]\n",
      "72.5 ms ± 6.11 ms per loop (mean ± std. dev. of 7 runs, 1 loop each)\n",
      "Testing slice data[:, :, 700.0: 710]\n",
      "122 ms ± 17 ms per loop (mean ± std. dev. of 7 runs, 1 loop each)\n",
      "Testing slice data[:, :, :, 621.9: 622.1]\n",
      "186 ms ± 8.71 ms per loop (mean ± std. dev. of 7 runs, 1 loop each)\n",
      "\n",
      "Time to slice DIA_21:\n",
      "Testing slice data[100.0: 100.5]\n",
      "855 µs ± 62.6 µs per loop (mean ± std. dev. of 7 runs, 1000 loops each)\n",
      "Testing slice data[:, 450]\n",
      "122 ms ± 8.42 ms per loop (mean ± std. dev. of 7 runs, 1 loop each)\n",
      "Testing slice data[:, :, 700.0: 710]\n",
      "5.04 s ± 224 ms per loop (mean ± std. dev. of 7 runs, 1 loop each)\n",
      "Testing slice data[:, :, :, 621.9: 622.1]\n",
      "404 ms ± 5.12 ms per loop (mean ± std. dev. of 7 runs, 1 loop each)\n",
      "\n",
      "Time to slice DDA_120:\n",
      "Testing slice data[100.0: 100.5]\n",
      "709 µs ± 17.6 µs per loop (mean ± std. dev. of 7 runs, 1000 loops each)\n",
      "Testing slice data[:, 450]\n",
      "371 ms ± 25.9 ms per loop (mean ± std. dev. of 7 runs, 1 loop each)\n",
      "Testing slice data[:, :, 700.0: 710]\n",
      "609 ms ± 29.7 ms per loop (mean ± std. dev. of 7 runs, 1 loop each)\n",
      "Testing slice data[:, :, :, 621.9: 622.1]\n",
      "1.2 s ± 32.9 ms per loop (mean ± std. dev. of 7 runs, 1 loop each)\n",
      "\n"
     ]
    }
   ],
   "source": [
    "import os\n",
    "for sample_id, data in timstof_objects.items():\n",
    "    print(f\"Time to slice {sample_id}:\")\n",
    "    \n",
    "    print(\"Testing slice data[100.0: 100.5]\")\n",
    "    %timeit tmp = data[100.:100.5]\n",
    "    \n",
    "    print(\"Testing slice data[:, 450]\")\n",
    "    %timeit tmp = data[:, 450]\n",
    "    \n",
    "    print(\"Testing slice data[:, :, 700.0: 710]\")\n",
    "    %timeit tmp = data[:, :, 700.0: 710]\n",
    "    \n",
    "    print(\"Testing slice data[:, :, :, 621.9: 622.1]\")\n",
    "    %timeit tmp = data[:, :, :, 621.9: 622.1]\n",
    "    \n",
    "    print(\"\")"
   ]
  },
  {
   "cell_type": "markdown",
   "metadata": {},
   "source": []
  }
 ],
 "metadata": {
  "kernelspec": {
   "display_name": "Python [conda env:alphatims]",
   "language": "python",
   "name": "conda-env-alphatims-py"
  },
  "language_info": {
   "codemirror_mode": {
    "name": "ipython",
    "version": 3
   },
   "file_extension": ".py",
   "mimetype": "text/x-python",
   "name": "python",
   "nbconvert_exporter": "python",
   "pygments_lexer": "ipython3",
   "version": "3.8.5"
  },
  "toc": {
   "base_numbering": 1,
   "nav_menu": {},
   "number_sections": true,
   "sideBar": true,
   "skip_h1_title": false,
   "title_cell": "Table of Contents",
   "title_sidebar": "Contents",
   "toc_cell": false,
   "toc_position": {},
   "toc_section_display": true,
   "toc_window_display": false
  },
  "varInspector": {
   "cols": {
    "lenName": 16,
    "lenType": 16,
    "lenVar": 40
   },
   "kernels_config": {
    "python": {
     "delete_cmd_postfix": "",
     "delete_cmd_prefix": "del ",
     "library": "var_list.py",
     "varRefreshCmd": "print(var_dic_list())"
    },
    "r": {
     "delete_cmd_postfix": ") ",
     "delete_cmd_prefix": "rm(",
     "library": "var_list.r",
     "varRefreshCmd": "cat(var_dic_list()) "
    }
   },
   "types_to_exclude": [
    "module",
    "function",
    "builtin_function_or_method",
    "instance",
    "_Feature"
   ],
   "window_display": false
  }
 },
 "nbformat": 4,
 "nbformat_minor": 4
}
