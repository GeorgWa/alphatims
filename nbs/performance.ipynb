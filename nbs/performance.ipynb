{
 "cells": [
  {
   "cell_type": "markdown",
   "metadata": {},
   "source": [
    "# Performance"
   ]
  },
  {
   "cell_type": "markdown",
   "metadata": {},
   "source": [
    "This notebook is intended to demonstrate the performance of AlphaTims.\n",
    "It contains the following information:\n",
    "1. [**Samples**](#Samples)\n",
    "2. [**Reading raw Bruker .d folders**](#Reading-raw-Bruker-.d-folders)\n",
    "3. [**Saving HDF files**](#Saving-HDF-files)\n",
    "4. [**Reading HDF files**](#Reading-HDF-files)\n",
    "5. [**Slicing data**](#Slicing-data)\n",
    "6. [**Final overview**](#Final-overview)"
   ]
  },
  {
   "cell_type": "markdown",
   "metadata": {},
   "source": [
    "The following system was used:"
   ]
  },
  {
   "cell_type": "code",
   "execution_count": 1,
   "metadata": {
    "execution": {
     "iopub.execute_input": "2021-09-22T07:32:13.151240Z",
     "iopub.status.busy": "2021-09-22T07:32:13.150176Z",
     "iopub.status.idle": "2021-09-22T07:32:13.576261Z",
     "shell.execute_reply": "2021-09-22T07:32:13.574728Z"
    }
   },
   "outputs": [
    {
     "name": "stdout",
     "output_type": "stream",
     "text": [
      "2021-09-22 09:32:13> Platform information:\n",
      "2021-09-22 09:32:13> system        - Darwin\n",
      "2021-09-22 09:32:13> release       - 19.6.0\n",
      "2021-09-22 09:32:13> version       - 10.15.7\n",
      "2021-09-22 09:32:13> machine       - x86_64\n",
      "2021-09-22 09:32:13> processor     - i386\n",
      "2021-09-22 09:32:13> cpu count     - 8\n",
      "2021-09-22 09:32:13> cpu frequency - 2300.00 Mhz\n",
      "2021-09-22 09:32:13> ram           - 18.9/32.0 Gb (available/total)\n",
      "2021-09-22 09:32:13> \n",
      "2021-09-22 09:32:13> Python information:\n",
      "2021-09-22 09:32:13> alphatims  - 0.3.0\n",
      "2021-09-22 09:32:13> bokeh      - 2.2.3\n",
      "2021-09-22 09:32:13> click      - 8.0.1\n",
      "2021-09-22 09:32:13> datashader - 0.12.1\n",
      "2021-09-22 09:32:13> h5py       - 3.2.1\n",
      "2021-09-22 09:32:13> hvplot     - 0.7.1\n",
      "2021-09-22 09:32:13> numba      - 0.53.1\n",
      "2021-09-22 09:32:13> pandas     - 1.2.4\n",
      "2021-09-22 09:32:13> psutil     - 5.8.0\n",
      "2021-09-22 09:32:13> python     - 3.8.10\n",
      "2021-09-22 09:32:13> python-lzf - 0.2.4\n",
      "2021-09-22 09:32:13> pyzstd     - 0.15.0\n",
      "2021-09-22 09:32:13> selenium   - 3.141.0\n",
      "2021-09-22 09:32:13> tqdm       - 4.60.0\n",
      "2021-09-22 09:32:13> \n"
     ]
    }
   ],
   "source": [
    "import alphatims.utils\n",
    "import pandas as pd\n",
    "import numpy as np\n",
    "\n",
    "alphatims.utils.set_threads(8)\n",
    "log_file_name = alphatims.utils.set_logger(\n",
    "    log_file_name=\"performance_log.txt\",\n",
    "    overwrite=True\n",
    ")\n",
    "alphatims.utils.show_platform_info()\n",
    "alphatims.utils.show_python_info()\n",
    "alphatims.utils.set_progress_callback(None)"
   ]
  },
  {
   "cell_type": "markdown",
   "metadata": {},
   "source": [
    "## Samples"
   ]
  },
  {
   "cell_type": "markdown",
   "metadata": {},
   "source": [
    "Six samples (https://www.ebi.ac.uk/pride/archive/projects/PXD027359) are used and compared:"
   ]
  },
  {
   "cell_type": "code",
   "execution_count": 2,
   "metadata": {
    "execution": {
     "iopub.execute_input": "2021-09-22T07:32:13.583356Z",
     "iopub.status.busy": "2021-09-22T07:32:13.582783Z",
     "iopub.status.idle": "2021-09-22T07:32:13.584832Z",
     "shell.execute_reply": "2021-09-22T07:32:13.585173Z"
    }
   },
   "outputs": [],
   "source": [
    "file_names = {\n",
    "    \"DDA_6\": \"/Users/swillems/Data/alphatims_testing/20210510_TIMS03_EVO03_PaSk_MA_HeLa_50ng_5_6min_DDA_S1-B1_1_25185.d\",\n",
    "    \"DIA_6\": \"/Users/swillems/Data/alphatims_testing/20210510_TIMS03_EVO03_PaSk_SA_HeLa_50ng_5_6min_DIA_high_speed_S1-B2_1_25186.d\",\n",
    "    \"DDA_21\": \"/Users/swillems/Data/alphatims_testing/20201207_tims03_Evo03_PS_SA_HeLa_200ng_EvoSep_prot_DDA_21min_8cm_S1-C10_1_22476.d\",\n",
    "    \"DIA_21\": \"/Users/swillems/Data/alphatims_testing/20201207_tims03_Evo03_PS_SA_HeLa_200ng_EvoSep_prot_high_speed_21min_8cm_S1-C8_1_22474.d\",\n",
    "    \"DDA_120\": \"/Users/swillems/Data/alphatims_testing/20210507_TIMS01_LC01_PaSk_MA_HeLa_400ng_ddaAPSEF_A1_1_7545.d\",\n",
    "    \"DIA_120\": \"/Users/swillems/Data/alphatims_testing/20210507_TIMS01_LC01_PaSk_SA_HeLa_400ng_diaPASEF_high_speed_A1_1_7546.d\",\n",
    "}\n",
    "overview = pd.DataFrame(index=file_names.keys())\n",
    "overview[\"Type\"] = pd.Series({x: x.split(\"_\")[0] for x in file_names})\n",
    "overview[\"Gradient (min)\"] = pd.Series({x: x.split(\"_\")[1] for x in file_names})"
   ]
  },
  {
   "cell_type": "markdown",
   "metadata": {},
   "source": [
    "We first load all these files to show their basic statistics before we do the actual timing:"
   ]
  },
  {
   "cell_type": "code",
   "execution_count": 3,
   "metadata": {
    "execution": {
     "iopub.execute_input": "2021-09-22T07:32:13.589602Z",
     "iopub.status.busy": "2021-09-22T07:32:13.589052Z",
     "iopub.status.idle": "2021-09-22T07:35:17.372876Z",
     "shell.execute_reply": "2021-09-22T07:35:17.379030Z"
    }
   },
   "outputs": [
    {
     "name": "stdout",
     "output_type": "stream",
     "text": [
      "2021-09-22 09:32:13> WARNING: No Bruker libraries are available for this operating system. Intensities are uncalibrated, resulting in (very) small differences. However, mobility and m/z values need to be estimated. While this estimation often returns acceptable results with errors < 0.02 Th, huge errors (e.g. offsets of 6 Th) have already been observed for some samples!\n",
      "2021-09-22 09:32:13> \n",
      "2021-09-22 09:32:14> Initial loading of DDA_6\n",
      "2021-09-22 09:32:14> Importing data from /Users/swillems/Data/alphatims_testing/20210510_TIMS03_EVO03_PaSk_MA_HeLa_50ng_5_6min_DDA_S1-B1_1_25185.d\n",
      "2021-09-22 09:32:14> Reading frame metadata for /Users/swillems/Data/alphatims_testing/20210510_TIMS03_EVO03_PaSk_MA_HeLa_50ng_5_6min_DDA_S1-B1_1_25185.d\n",
      "2021-09-22 09:32:14> Reading 3,156 frames with 143,542,808 detector events for /Users/swillems/Data/alphatims_testing/20210510_TIMS03_EVO03_PaSk_MA_HeLa_50ng_5_6min_DDA_S1-B1_1_25185.d\n",
      "2021-09-22 09:32:15> Indexing /Users/swillems/Data/alphatims_testing/20210510_TIMS03_EVO03_PaSk_MA_HeLa_50ng_5_6min_DDA_S1-B1_1_25185.d...\n",
      "2021-09-22 09:32:15> Bruker DLL not available, estimating mobility values\n",
      "2021-09-22 09:32:15> Bruker DLL not available, estimating mz values\n",
      "2021-09-22 09:32:15> Indexing quadrupole dimension\n",
      "2021-09-22 09:32:15> Succesfully imported data from /Users/swillems/Data/alphatims_testing/20210510_TIMS03_EVO03_PaSk_MA_HeLa_50ng_5_6min_DDA_S1-B1_1_25185.d\n",
      "2021-09-22 09:32:15> \n",
      "2021-09-22 09:32:15> Initial loading of DIA_6\n",
      "2021-09-22 09:32:15> Importing data from /Users/swillems/Data/alphatims_testing/20210510_TIMS03_EVO03_PaSk_SA_HeLa_50ng_5_6min_DIA_high_speed_S1-B2_1_25186.d\n",
      "2021-09-22 09:32:15> Reading frame metadata for /Users/swillems/Data/alphatims_testing/20210510_TIMS03_EVO03_PaSk_SA_HeLa_50ng_5_6min_DIA_high_speed_S1-B2_1_25186.d\n",
      "2021-09-22 09:32:15> Reading 3,176 frames with 126,982,956 detector events for /Users/swillems/Data/alphatims_testing/20210510_TIMS03_EVO03_PaSk_SA_HeLa_50ng_5_6min_DIA_high_speed_S1-B2_1_25186.d\n",
      "2021-09-22 09:32:16> Indexing /Users/swillems/Data/alphatims_testing/20210510_TIMS03_EVO03_PaSk_SA_HeLa_50ng_5_6min_DIA_high_speed_S1-B2_1_25186.d...\n",
      "2021-09-22 09:32:16> Bruker DLL not available, estimating mobility values\n",
      "2021-09-22 09:32:16> Bruker DLL not available, estimating mz values\n",
      "2021-09-22 09:32:16> Indexing quadrupole dimension\n",
      "2021-09-22 09:32:16> Succesfully imported data from /Users/swillems/Data/alphatims_testing/20210510_TIMS03_EVO03_PaSk_SA_HeLa_50ng_5_6min_DIA_high_speed_S1-B2_1_25186.d\n",
      "2021-09-22 09:32:16> \n",
      "2021-09-22 09:32:16> Initial loading of DDA_21\n",
      "2021-09-22 09:32:16> Importing data from /Users/swillems/Data/alphatims_testing/20201207_tims03_Evo03_PS_SA_HeLa_200ng_EvoSep_prot_DDA_21min_8cm_S1-C10_1_22476.d\n",
      "2021-09-22 09:32:16> Reading frame metadata for /Users/swillems/Data/alphatims_testing/20201207_tims03_Evo03_PS_SA_HeLa_200ng_EvoSep_prot_DDA_21min_8cm_S1-C10_1_22476.d\n",
      "2021-09-22 09:32:17> Reading 11,886 frames with 295,251,252 detector events for /Users/swillems/Data/alphatims_testing/20201207_tims03_Evo03_PS_SA_HeLa_200ng_EvoSep_prot_DDA_21min_8cm_S1-C10_1_22476.d\n",
      "2021-09-22 09:32:19> Indexing /Users/swillems/Data/alphatims_testing/20201207_tims03_Evo03_PS_SA_HeLa_200ng_EvoSep_prot_DDA_21min_8cm_S1-C10_1_22476.d...\n",
      "2021-09-22 09:32:19> Bruker DLL not available, estimating mobility values\n",
      "2021-09-22 09:32:19> Bruker DLL not available, estimating mz values\n",
      "2021-09-22 09:32:19> Indexing quadrupole dimension\n",
      "2021-09-22 09:32:20> Succesfully imported data from /Users/swillems/Data/alphatims_testing/20201207_tims03_Evo03_PS_SA_HeLa_200ng_EvoSep_prot_DDA_21min_8cm_S1-C10_1_22476.d\n",
      "2021-09-22 09:32:20> \n",
      "2021-09-22 09:32:20> Initial loading of DIA_21\n",
      "2021-09-22 09:32:20> Importing data from /Users/swillems/Data/alphatims_testing/20201207_tims03_Evo03_PS_SA_HeLa_200ng_EvoSep_prot_high_speed_21min_8cm_S1-C8_1_22474.d\n",
      "2021-09-22 09:32:20> Reading frame metadata for /Users/swillems/Data/alphatims_testing/20201207_tims03_Evo03_PS_SA_HeLa_200ng_EvoSep_prot_high_speed_21min_8cm_S1-C8_1_22474.d\n",
      "2021-09-22 09:32:20> Reading 11,868 frames with 730,564,765 detector events for /Users/swillems/Data/alphatims_testing/20201207_tims03_Evo03_PS_SA_HeLa_200ng_EvoSep_prot_high_speed_21min_8cm_S1-C8_1_22474.d\n",
      "2021-09-22 09:32:24> Indexing /Users/swillems/Data/alphatims_testing/20201207_tims03_Evo03_PS_SA_HeLa_200ng_EvoSep_prot_high_speed_21min_8cm_S1-C8_1_22474.d...\n",
      "2021-09-22 09:32:24> Bruker DLL not available, estimating mobility values\n",
      "2021-09-22 09:32:24> Bruker DLL not available, estimating mz values\n",
      "2021-09-22 09:32:24> Indexing quadrupole dimension\n",
      "2021-09-22 09:32:25> Succesfully imported data from /Users/swillems/Data/alphatims_testing/20201207_tims03_Evo03_PS_SA_HeLa_200ng_EvoSep_prot_high_speed_21min_8cm_S1-C8_1_22474.d\n",
      "2021-09-22 09:32:25> \n",
      "2021-09-22 09:32:25> Initial loading of DDA_120\n",
      "2021-09-22 09:32:25> Importing data from /Users/swillems/Data/alphatims_testing/20210507_TIMS01_LC01_PaSk_MA_HeLa_400ng_ddaAPSEF_A1_1_7545.d\n",
      "2021-09-22 09:32:25> Reading frame metadata for /Users/swillems/Data/alphatims_testing/20210507_TIMS01_LC01_PaSk_MA_HeLa_400ng_ddaAPSEF_A1_1_7545.d\n",
      "2021-09-22 09:32:30> Reading 67,024 frames with 2,736,188,777 detector events for /Users/swillems/Data/alphatims_testing/20210507_TIMS01_LC01_PaSk_MA_HeLa_400ng_ddaAPSEF_A1_1_7545.d\n",
      "2021-09-22 09:33:07> Indexing /Users/swillems/Data/alphatims_testing/20210507_TIMS01_LC01_PaSk_MA_HeLa_400ng_ddaAPSEF_A1_1_7545.d...\n",
      "2021-09-22 09:33:07> Bruker DLL not available, estimating mobility values\n",
      "2021-09-22 09:33:07> Bruker DLL not available, estimating mz values\n",
      "2021-09-22 09:33:07> Indexing quadrupole dimension\n",
      "2021-09-22 09:33:14> Succesfully imported data from /Users/swillems/Data/alphatims_testing/20210507_TIMS01_LC01_PaSk_MA_HeLa_400ng_ddaAPSEF_A1_1_7545.d\n",
      "2021-09-22 09:33:14> \n",
      "2021-09-22 09:33:14> Initial loading of DIA_120\n",
      "2021-09-22 09:33:14> Importing data from /Users/swillems/Data/alphatims_testing/20210507_TIMS01_LC01_PaSk_SA_HeLa_400ng_diaPASEF_high_speed_A1_1_7546.d\n",
      "2021-09-22 09:33:14> Reading frame metadata for /Users/swillems/Data/alphatims_testing/20210507_TIMS01_LC01_PaSk_SA_HeLa_400ng_diaPASEF_high_speed_A1_1_7546.d\n",
      "2021-09-22 09:33:15> Reading 66,775 frames with 6,364,599,982 detector events for /Users/swillems/Data/alphatims_testing/20210507_TIMS01_LC01_PaSk_SA_HeLa_400ng_diaPASEF_high_speed_A1_1_7546.d\n",
      "2021-09-22 09:34:27> Indexing /Users/swillems/Data/alphatims_testing/20210507_TIMS01_LC01_PaSk_SA_HeLa_400ng_diaPASEF_high_speed_A1_1_7546.d...\n",
      "2021-09-22 09:34:27> Bruker DLL not available, estimating mobility values\n",
      "2021-09-22 09:34:27> Bruker DLL not available, estimating mz values\n",
      "2021-09-22 09:34:27> Indexing quadrupole dimension\n",
      "2021-09-22 09:35:17> Succesfully imported data from /Users/swillems/Data/alphatims_testing/20210507_TIMS01_LC01_PaSk_SA_HeLa_400ng_diaPASEF_high_speed_A1_1_7546.d\n",
      "2021-09-22 09:35:17> \n"
     ]
    }
   ],
   "source": [
    "import logging\n",
    "import alphatims.bruker\n",
    "\n",
    "timstof_objects = {}\n",
    "detector_events = {}\n",
    "for sample_id, file_name in file_names.items():\n",
    "    logging.info(f\"Initial loading of {sample_id}\")\n",
    "    timstof_objects[sample_id] = alphatims.bruker.TimsTOF(file_name)\n",
    "    detector_events[sample_id] = len(timstof_objects[sample_id])\n",
    "    logging.info(\"\")\n",
    "overview[\"Detector events\"] = pd.Series(detector_events)"
   ]
  },
  {
   "cell_type": "markdown",
   "metadata": {},
   "source": [
    "In summary, we thus consider the following samples:"
   ]
  },
  {
   "cell_type": "code",
   "execution_count": 4,
   "metadata": {
    "execution": {
     "iopub.execute_input": "2021-09-22T07:35:17.413929Z",
     "iopub.status.busy": "2021-09-22T07:35:17.413281Z",
     "iopub.status.idle": "2021-09-22T07:35:17.906792Z",
     "shell.execute_reply": "2021-09-22T07:35:17.907267Z"
    }
   },
   "outputs": [
    {
     "data": {
      "text/html": [
       "<style  type=\"text/css\" >\n",
       "</style><table id=\"T_ec7a1_\" ><thead>    <tr>        <th class=\"blank level0\" ></th>        <th class=\"col_heading level0 col0\" >Type</th>        <th class=\"col_heading level0 col1\" >Gradient (min)</th>        <th class=\"col_heading level0 col2\" >Detector events</th>    </tr></thead><tbody>\n",
       "                <tr>\n",
       "                        <th id=\"T_ec7a1_level0_row0\" class=\"row_heading level0 row0\" >DDA_6</th>\n",
       "                        <td id=\"T_ec7a1_row0_col0\" class=\"data row0 col0\" >DDA</td>\n",
       "                        <td id=\"T_ec7a1_row0_col1\" class=\"data row0 col1\" >6</td>\n",
       "                        <td id=\"T_ec7a1_row0_col2\" class=\"data row0 col2\" >143,542,808</td>\n",
       "            </tr>\n",
       "            <tr>\n",
       "                        <th id=\"T_ec7a1_level0_row1\" class=\"row_heading level0 row1\" >DIA_6</th>\n",
       "                        <td id=\"T_ec7a1_row1_col0\" class=\"data row1 col0\" >DIA</td>\n",
       "                        <td id=\"T_ec7a1_row1_col1\" class=\"data row1 col1\" >6</td>\n",
       "                        <td id=\"T_ec7a1_row1_col2\" class=\"data row1 col2\" >126,982,956</td>\n",
       "            </tr>\n",
       "            <tr>\n",
       "                        <th id=\"T_ec7a1_level0_row2\" class=\"row_heading level0 row2\" >DDA_21</th>\n",
       "                        <td id=\"T_ec7a1_row2_col0\" class=\"data row2 col0\" >DDA</td>\n",
       "                        <td id=\"T_ec7a1_row2_col1\" class=\"data row2 col1\" >21</td>\n",
       "                        <td id=\"T_ec7a1_row2_col2\" class=\"data row2 col2\" >295,251,252</td>\n",
       "            </tr>\n",
       "            <tr>\n",
       "                        <th id=\"T_ec7a1_level0_row3\" class=\"row_heading level0 row3\" >DIA_21</th>\n",
       "                        <td id=\"T_ec7a1_row3_col0\" class=\"data row3 col0\" >DIA</td>\n",
       "                        <td id=\"T_ec7a1_row3_col1\" class=\"data row3 col1\" >21</td>\n",
       "                        <td id=\"T_ec7a1_row3_col2\" class=\"data row3 col2\" >730,564,765</td>\n",
       "            </tr>\n",
       "            <tr>\n",
       "                        <th id=\"T_ec7a1_level0_row4\" class=\"row_heading level0 row4\" >DDA_120</th>\n",
       "                        <td id=\"T_ec7a1_row4_col0\" class=\"data row4 col0\" >DDA</td>\n",
       "                        <td id=\"T_ec7a1_row4_col1\" class=\"data row4 col1\" >120</td>\n",
       "                        <td id=\"T_ec7a1_row4_col2\" class=\"data row4 col2\" >2,736,188,777</td>\n",
       "            </tr>\n",
       "            <tr>\n",
       "                        <th id=\"T_ec7a1_level0_row5\" class=\"row_heading level0 row5\" >DIA_120</th>\n",
       "                        <td id=\"T_ec7a1_row5_col0\" class=\"data row5 col0\" >DIA</td>\n",
       "                        <td id=\"T_ec7a1_row5_col1\" class=\"data row5 col1\" >120</td>\n",
       "                        <td id=\"T_ec7a1_row5_col2\" class=\"data row5 col2\" >6,364,599,982</td>\n",
       "            </tr>\n",
       "    </tbody></table>"
      ],
      "text/plain": [
       "<pandas.io.formats.style.Styler at 0x7f85f8e16760>"
      ]
     },
     "execution_count": 1,
     "metadata": {},
     "output_type": "execute_result"
    }
   ],
   "source": [
    "overview.style.format({\"Detector events\": \"{:,}\"})"
   ]
  },
  {
   "cell_type": "markdown",
   "metadata": {},
   "source": [
    "## Reading raw Bruker .d folders"
   ]
  },
  {
   "cell_type": "markdown",
   "metadata": {},
   "source": [
    "To avoid unwanted system inferences, we perform a `timeit` function to get a robust estimate of loading times for raw Bruker .d folders:"
   ]
  },
  {
   "cell_type": "code",
   "execution_count": 5,
   "metadata": {
    "execution": {
     "iopub.execute_input": "2021-09-22T07:35:17.915243Z",
     "iopub.status.busy": "2021-09-22T07:35:17.914188Z",
     "iopub.status.idle": "2021-09-22T07:53:24.807665Z",
     "shell.execute_reply": "2021-09-22T07:53:24.811949Z"
    }
   },
   "outputs": [
    {
     "name": "stdout",
     "output_type": "stream",
     "text": [
      "Time to load DDA_6 raw Bruker .d folder:\n",
      "1.26 s ± 81.2 ms per loop (mean ± std. dev. of 7 runs, 1 loop each)\n",
      "\n",
      "Time to load DIA_6 raw Bruker .d folder:\n",
      "1.05 s ± 77.2 ms per loop (mean ± std. dev. of 7 runs, 1 loop each)\n",
      "\n",
      "Time to load DDA_21 raw Bruker .d folder:\n",
      "3.21 s ± 186 ms per loop (mean ± std. dev. of 7 runs, 1 loop each)\n",
      "\n",
      "Time to load DIA_21 raw Bruker .d folder:\n",
      "4.69 s ± 73.7 ms per loop (mean ± std. dev. of 7 runs, 1 loop each)\n",
      "\n",
      "Time to load DDA_120 raw Bruker .d folder:\n",
      "29.9 s ± 2.97 s per loop (mean ± std. dev. of 7 runs, 1 loop each)\n",
      "\n",
      "Time to load DIA_120 raw Bruker .d folder:\n",
      "1min 29s ± 1.33 s per loop (mean ± std. dev. of 7 runs, 1 loop each)\n",
      "\n"
     ]
    }
   ],
   "source": [
    "alphatims.utils.set_logger(stream=False)\n",
    "raw_load_times = {}\n",
    "for sample_id, file_name in file_names.items():\n",
    "    print(f\"Time to load {sample_id} raw Bruker .d folder:\")\n",
    "    raw_load_time = %timeit -o tmp = alphatims.bruker.TimsTOF(file_name)\n",
    "    raw_load_times[sample_id] = np.average(raw_load_time.timings)\n",
    "    print(\"\")\n",
    "overview[\"Load .d (s)\"] = pd.Series(raw_load_times)"
   ]
  },
  {
   "cell_type": "markdown",
   "metadata": {},
   "source": [
    "## Saving HDF files"
   ]
  },
  {
   "cell_type": "markdown",
   "metadata": {},
   "source": [
    "Each of the data files can also be exported to HDF files:"
   ]
  },
  {
   "cell_type": "code",
   "execution_count": 6,
   "metadata": {
    "execution": {
     "iopub.execute_input": "2021-09-22T07:53:24.949241Z",
     "iopub.status.busy": "2021-09-22T07:53:24.902777Z",
     "iopub.status.idle": "2021-09-22T08:26:49.085903Z",
     "shell.execute_reply": "2021-09-22T08:26:49.083607Z"
    }
   },
   "outputs": [
    {
     "name": "stdout",
     "output_type": "stream",
     "text": [
      "Time to export DDA_6 to HDF file:\n",
      "418 ms ± 83.4 ms per loop (mean ± std. dev. of 7 runs, 1 loop each)\n",
      "\n",
      "Time to export DIA_6 to HDF file:\n",
      "350 ms ± 27.1 ms per loop (mean ± std. dev. of 7 runs, 1 loop each)\n",
      "\n",
      "Time to export DDA_21 to HDF file:\n",
      "956 ms ± 130 ms per loop (mean ± std. dev. of 7 runs, 1 loop each)\n",
      "\n",
      "Time to export DIA_21 to HDF file:\n",
      "1.93 s ± 102 ms per loop (mean ± std. dev. of 7 runs, 1 loop each)\n",
      "\n",
      "Time to export DDA_120 to HDF file:\n",
      "6.77 s ± 185 ms per loop (mean ± std. dev. of 7 runs, 1 loop each)\n",
      "\n",
      "Time to export DIA_120 to HDF file:\n",
      "3min 40s ± 5.4 s per loop (mean ± std. dev. of 7 runs, 1 loop each)\n",
      "\n"
     ]
    }
   ],
   "source": [
    "save_hdf_times = {}\n",
    "for sample_id, data in timstof_objects.items():\n",
    "    print(f\"Time to export {sample_id} to HDF file:\")\n",
    "    path = data.directory\n",
    "    file_name = f\"{data.sample_name}.hdf\"\n",
    "    save_hdf_time = %timeit -o tmp = data.save_as_hdf(path, file_name, overwrite=True)\n",
    "    save_hdf_times[sample_id] = np.average(save_hdf_time.timings)\n",
    "    print(\"\")\n",
    "overview[\"Save .hdf (s)\"] = pd.Series(save_hdf_times)"
   ]
  },
  {
   "cell_type": "markdown",
   "metadata": {},
   "source": [
    "## Reading HDF files"
   ]
  },
  {
   "cell_type": "markdown",
   "metadata": {},
   "source": [
    "Once these HDF files are created, they can be loaded much faster than raw Bruker .d folders:"
   ]
  },
  {
   "cell_type": "code",
   "execution_count": 7,
   "metadata": {
    "execution": {
     "iopub.execute_input": "2021-09-22T08:26:49.164100Z",
     "iopub.status.busy": "2021-09-22T08:26:49.153711Z",
     "iopub.status.idle": "2021-09-22T08:35:02.274669Z",
     "shell.execute_reply": "2021-09-22T08:35:02.277954Z"
    }
   },
   "outputs": [
    {
     "name": "stdout",
     "output_type": "stream",
     "text": [
      "Time to load DDA_6 HDF file:\n",
      "388 ms ± 30.9 ms per loop (mean ± std. dev. of 7 runs, 1 loop each)\n",
      "\n",
      "Time to load DIA_6 HDF file:\n",
      "167 ms ± 5.93 ms per loop (mean ± std. dev. of 7 runs, 1 loop each)\n",
      "\n",
      "Time to load DDA_21 HDF file:\n",
      "993 ms ± 44.9 ms per loop (mean ± std. dev. of 7 runs, 1 loop each)\n",
      "\n",
      "Time to load DIA_21 HDF file:\n",
      "2.6 s ± 538 ms per loop (mean ± std. dev. of 7 runs, 1 loop each)\n",
      "\n",
      "Time to load DDA_120 HDF file:\n",
      "14.8 s ± 524 ms per loop (mean ± std. dev. of 7 runs, 1 loop each)\n",
      "\n",
      "Time to load DIA_120 HDF file:\n",
      "35.6 s ± 270 ms per loop (mean ± std. dev. of 7 runs, 1 loop each)\n",
      "\n"
     ]
    }
   ],
   "source": [
    "import os\n",
    "load_hdf_times = {}\n",
    "for sample_id, data in timstof_objects.items():\n",
    "    print(f\"Time to load {sample_id} HDF file:\")\n",
    "    file_name = os.path.join(data.directory, f\"{data.sample_name}.hdf\")\n",
    "    load_hdf_time = %timeit -o tmp = alphatims.bruker.TimsTOF(file_name)\n",
    "    load_hdf_times[sample_id] = np.average(load_hdf_time.timings)\n",
    "    print(\"\")\n",
    "overview[\"Load .hdf (s)\"] = pd.Series(load_hdf_times)"
   ]
  },
  {
   "cell_type": "markdown",
   "metadata": {},
   "source": [
    "## Slicing data"
   ]
  },
  {
   "cell_type": "markdown",
   "metadata": {},
   "source": [
    "Lastly, we can slice this data. Since this uses Numba JIT compilation, we first compile the relevant functions with an initial slice call:"
   ]
  },
  {
   "cell_type": "code",
   "execution_count": 8,
   "metadata": {
    "execution": {
     "iopub.execute_input": "2021-09-22T08:35:02.307124Z",
     "iopub.status.busy": "2021-09-22T08:35:02.306530Z",
     "iopub.status.idle": "2021-09-22T08:35:02.386547Z",
     "shell.execute_reply": "2021-09-22T08:35:02.387242Z"
    }
   },
   "outputs": [],
   "source": [
    "tmp = timstof_objects[\"DDA_6\"][0]"
   ]
  },
  {
   "cell_type": "markdown",
   "metadata": {},
   "source": [
    "Now we can time how long it takes to slice in different dimensions:\n",
    "   * **LC:** $100.0 \\leq \\textrm{retention_time} \\lt 100.5$\n",
    "   * **TIMS:** $\\textrm{scan_index} = 450$\n",
    "   * **Quadrupole:** $700.0 \\leq \\textrm{quad_mz_values} \\lt 710.0$\n",
    "   * **TOF:** $621.9 \\leq \\textrm{tof_mz_values} \\lt 622.1$"
   ]
  },
  {
   "cell_type": "code",
   "execution_count": 9,
   "metadata": {
    "execution": {
     "iopub.execute_input": "2021-09-22T08:35:02.604123Z",
     "iopub.status.busy": "2021-09-22T08:35:02.433818Z",
     "iopub.status.idle": "2021-09-22T08:52:25.199196Z",
     "shell.execute_reply": "2021-09-22T08:52:25.200815Z"
    }
   },
   "outputs": [
    {
     "name": "stdout",
     "output_type": "stream",
     "text": [
      "Time to slice DDA_6:\n",
      "Testing LC slice data[100.0: 100.5] (124,835 detector hits).\n",
      "4.01 ms ± 81.2 µs per loop (mean ± std. dev. of 7 runs, 100 loops each)\n",
      "Testing TIMS slice data[:, 450] (234,662 detector hits).\n",
      "8.66 ms ± 256 µs per loop (mean ± std. dev. of 7 runs, 100 loops each)\n",
      "Testing QUAD slice data[:, :, 700.0: 710] (40,583 detector hits).\n",
      "12.4 ms ± 121 µs per loop (mean ± std. dev. of 7 runs, 100 loops each)\n",
      "Testing TOF slice data[:, :, :, 621.9: 622.1] (38,471 detector hits).\n",
      "72.6 ms ± 596 µs per loop (mean ± std. dev. of 7 runs, 10 loops each)\n",
      "\n",
      "Time to slice DIA_6:\n",
      "Testing LC slice data[100.0: 100.5] (59,714 detector hits).\n",
      "1.94 ms ± 60 µs per loop (mean ± std. dev. of 7 runs, 100 loops each)\n",
      "Testing TIMS slice data[:, 450] (162,369 detector hits).\n",
      "6.78 ms ± 80.5 µs per loop (mean ± std. dev. of 7 runs, 100 loops each)\n",
      "Testing QUAD slice data[:, :, 700.0: 710] (4,173,952 detector hits).\n",
      "158 ms ± 1.92 ms per loop (mean ± std. dev. of 7 runs, 10 loops each)\n",
      "Testing TOF slice data[:, :, :, 621.9: 622.1] (27,954 detector hits).\n",
      "100 ms ± 3.53 ms per loop (mean ± std. dev. of 7 runs, 10 loops each)\n",
      "\n",
      "Time to slice DDA_21:\n",
      "Testing LC slice data[100.0: 100.5] (20,923 detector hits).\n",
      "671 µs ± 11.8 µs per loop (mean ± std. dev. of 7 runs, 1000 loops each)\n",
      "Testing TIMS slice data[:, 450] (658,010 detector hits).\n",
      "29.1 ms ± 1.4 ms per loop (mean ± std. dev. of 7 runs, 10 loops each)\n",
      "Testing QUAD slice data[:, :, 700.0: 710] (759,187 detector hits).\n",
      "67.2 ms ± 1.79 ms per loop (mean ± std. dev. of 7 runs, 10 loops each)\n",
      "Testing TOF slice data[:, :, :, 621.9: 622.1] (69,405 detector hits).\n",
      "183 ms ± 1.45 ms per loop (mean ± std. dev. of 7 runs, 10 loops each)\n",
      "\n",
      "Time to slice DIA_21:\n",
      "Testing LC slice data[100.0: 100.5] (5,098 detector hits).\n",
      "237 µs ± 7.04 µs per loop (mean ± std. dev. of 7 runs, 1000 loops each)\n",
      "Testing TIMS slice data[:, 450] (1,353,926 detector hits).\n",
      "62.1 ms ± 2.58 ms per loop (mean ± std. dev. of 7 runs, 10 loops each)\n",
      "Testing QUAD slice data[:, :, 700.0: 710] (47,439,349 detector hits).\n",
      "1.69 s ± 51.5 ms per loop (mean ± std. dev. of 7 runs, 1 loop each)\n",
      "Testing TOF slice data[:, :, :, 621.9: 622.1] (116,658 detector hits).\n",
      "433 ms ± 18.3 ms per loop (mean ± std. dev. of 7 runs, 1 loop each)\n",
      "\n",
      "Time to slice DDA_120:\n",
      "Testing LC slice data[100.0: 100.5] (2,185 detector hits).\n",
      "134 µs ± 1.19 µs per loop (mean ± std. dev. of 7 runs, 10000 loops each)\n",
      "Testing TIMS slice data[:, 450] (5,292,442 detector hits).\n",
      "213 ms ± 7.03 ms per loop (mean ± std. dev. of 7 runs, 1 loop each)\n",
      "Testing QUAD slice data[:, :, 700.0: 710] (7,071,306 detector hits).\n",
      "503 ms ± 14.2 ms per loop (mean ± std. dev. of 7 runs, 1 loop each)\n",
      "Testing TOF slice data[:, :, :, 621.9: 622.1] (797,700 detector hits).\n",
      "1.3 s ± 19.2 ms per loop (mean ± std. dev. of 7 runs, 1 loop each)\n",
      "\n",
      "Time to slice DIA_120:\n",
      "Testing LC slice data[100.0: 100.5] (29,248 detector hits).\n",
      "985 µs ± 7.88 µs per loop (mean ± std. dev. of 7 runs, 1000 loops each)\n",
      "Testing TIMS slice data[:, 450] (10,531,583 detector hits).\n",
      "479 ms ± 9.07 ms per loop (mean ± std. dev. of 7 runs, 1 loop each)\n",
      "Testing QUAD slice data[:, :, 700.0: 710] (372,960,282 detector hits).\n",
      "14 s ± 485 ms per loop (mean ± std. dev. of 7 runs, 1 loop each)\n",
      "Testing TOF slice data[:, :, :, 621.9: 622.1] (1,661,932 detector hits).\n",
      "1min 4s ± 15.4 s per loop (mean ± std. dev. of 7 runs, 1 loop each)\n",
      "\n"
     ]
    }
   ],
   "source": [
    "import os\n",
    "\n",
    "frame_slice_times = {}\n",
    "scan_slice_times = {}\n",
    "quad_slice_times = {}\n",
    "tof_slice_times = {}\n",
    "\n",
    "frame_slice_counts = {}\n",
    "scan_slice_counts = {}\n",
    "quad_slice_counts = {}\n",
    "tof_slice_counts = {}\n",
    "\n",
    "for sample_id, data in timstof_objects.items():\n",
    "    print(f\"Time to slice {sample_id}:\")\n",
    "    \n",
    "    count = len(data[100.:100.5, \"raw\"])\n",
    "    print(\n",
    "        f\"Testing LC slice data[100.0: 100.5] ({count:,} detector hits).\"\n",
    "    )\n",
    "    frame_slice_time = %timeit -o tmp = data[100.:100.5, \"raw\"]\n",
    "    frame_slice_counts[sample_id] = count\n",
    "    frame_slice_times[sample_id] = np.average(frame_slice_time.timings)\n",
    "    \n",
    "    count = len(data[:, 450, \"raw\"])\n",
    "    print(\n",
    "        f\"Testing TIMS slice data[:, 450] ({count:,} detector hits).\"\n",
    "    )\n",
    "    scan_slice_time = %timeit -o tmp = data[:, 450, \"raw\"]\n",
    "    scan_slice_counts[sample_id] = count\n",
    "    scan_slice_times[sample_id] = np.average(scan_slice_time.timings)\n",
    "    \n",
    "    count = len(data[:, :, 700.0: 710, \"raw\"])\n",
    "    print(\n",
    "        f\"Testing QUAD slice data[:, :, 700.0: 710] ({count:,} detector hits).\"\n",
    "    )\n",
    "    quad_slice_time = %timeit -o tmp = data[:, :, 700.0: 710, \"raw\"]\n",
    "    quad_slice_counts[sample_id] = count\n",
    "    quad_slice_times[sample_id] = np.average(quad_slice_time.timings)\n",
    "    \n",
    "    count = len(data[:, :, :, 621.9: 622.1, \"raw\"])\n",
    "    print(\n",
    "        f\"Testing TOF slice data[:, :, :, 621.9: 622.1] ({count:,} detector hits).\"\n",
    "    )\n",
    "    tof_slice_time = %timeit -o tmp = data[:, :, :, 621.9: 622.1, \"raw\"]\n",
    "    tof_slice_counts[sample_id] = count\n",
    "    tof_slice_times[sample_id] = np.average(tof_slice_time.timings)\n",
    "    \n",
    "    print(\"\")\n",
    "    \n",
    "overview[\"Slice LC (s)\"] = pd.Series(frame_slice_times)\n",
    "overview[\"Slice LC (hits)\"] = pd.Series(frame_slice_counts)\n",
    "overview[\"Slice TIMS (s)\"] = pd.Series(scan_slice_times)\n",
    "overview[\"Slice TIMS (hits)\"] = pd.Series(scan_slice_counts)\n",
    "overview[\"Slice QUAD (s)\"] = pd.Series(quad_slice_times)\n",
    "overview[\"Slice QUAD (hits)\"] = pd.Series(quad_slice_counts)\n",
    "overview[\"Slice TOF (s)\"] = pd.Series(tof_slice_times)\n",
    "overview[\"Slice TOF (hits)\"] = pd.Series(tof_slice_counts)"
   ]
  },
  {
   "cell_type": "markdown",
   "metadata": {},
   "source": [
    "## Final overview"
   ]
  },
  {
   "cell_type": "markdown",
   "metadata": {},
   "source": [
    "The final time performance can thus be summarized as follows:"
   ]
  },
  {
   "cell_type": "code",
   "execution_count": 10,
   "metadata": {
    "execution": {
     "iopub.execute_input": "2021-09-22T08:52:25.347433Z",
     "iopub.status.busy": "2021-09-22T08:52:25.303298Z",
     "iopub.status.idle": "2021-09-22T08:52:25.681538Z",
     "shell.execute_reply": "2021-09-22T08:52:25.681925Z"
    }
   },
   "outputs": [
    {
     "data": {
      "text/html": [
       "<div>\n",
       "<style scoped>\n",
       "    .dataframe tbody tr th:only-of-type {\n",
       "        vertical-align: middle;\n",
       "    }\n",
       "\n",
       "    .dataframe tbody tr th {\n",
       "        vertical-align: top;\n",
       "    }\n",
       "\n",
       "    .dataframe thead th {\n",
       "        text-align: right;\n",
       "    }\n",
       "</style>\n",
       "<table border=\"1\" class=\"dataframe\">\n",
       "  <thead>\n",
       "    <tr style=\"text-align: right;\">\n",
       "      <th></th>\n",
       "      <th>DDA_6</th>\n",
       "      <th>DIA_6</th>\n",
       "      <th>DDA_21</th>\n",
       "      <th>DIA_21</th>\n",
       "      <th>DDA_120</th>\n",
       "      <th>DIA_120</th>\n",
       "    </tr>\n",
       "  </thead>\n",
       "  <tbody>\n",
       "    <tr>\n",
       "      <th>Type</th>\n",
       "      <td>DDA</td>\n",
       "      <td>DIA</td>\n",
       "      <td>DDA</td>\n",
       "      <td>DIA</td>\n",
       "      <td>DDA</td>\n",
       "      <td>DIA</td>\n",
       "    </tr>\n",
       "    <tr>\n",
       "      <th>Gradient (min)</th>\n",
       "      <td>6</td>\n",
       "      <td>6</td>\n",
       "      <td>21</td>\n",
       "      <td>21</td>\n",
       "      <td>120</td>\n",
       "      <td>120</td>\n",
       "    </tr>\n",
       "    <tr>\n",
       "      <th>Detector events</th>\n",
       "      <td>143,542,808</td>\n",
       "      <td>126,982,956</td>\n",
       "      <td>295,251,252</td>\n",
       "      <td>730,564,765</td>\n",
       "      <td>2,736,188,777</td>\n",
       "      <td>6,364,599,982</td>\n",
       "    </tr>\n",
       "    <tr>\n",
       "      <th>Load .d (s)</th>\n",
       "      <td>1.26</td>\n",
       "      <td>1.05</td>\n",
       "      <td>3.21</td>\n",
       "      <td>4.69</td>\n",
       "      <td>29.9</td>\n",
       "      <td>89.7</td>\n",
       "    </tr>\n",
       "    <tr>\n",
       "      <th>Save .hdf (s)</th>\n",
       "      <td>0.418</td>\n",
       "      <td>0.350</td>\n",
       "      <td>0.956</td>\n",
       "      <td>1.93</td>\n",
       "      <td>6.77</td>\n",
       "      <td>220.</td>\n",
       "    </tr>\n",
       "    <tr>\n",
       "      <th>Load .hdf (s)</th>\n",
       "      <td>0.388</td>\n",
       "      <td>0.167</td>\n",
       "      <td>0.993</td>\n",
       "      <td>2.60</td>\n",
       "      <td>14.8</td>\n",
       "      <td>35.6</td>\n",
       "    </tr>\n",
       "    <tr>\n",
       "      <th>Slice LC (s)</th>\n",
       "      <td>0.00401</td>\n",
       "      <td>0.00194</td>\n",
       "      <td>0.000671</td>\n",
       "      <td>0.000237</td>\n",
       "      <td>0.000134</td>\n",
       "      <td>0.000985</td>\n",
       "    </tr>\n",
       "    <tr>\n",
       "      <th>Slice LC (hits)</th>\n",
       "      <td>124,835</td>\n",
       "      <td>59,714</td>\n",
       "      <td>20,923</td>\n",
       "      <td>5,098</td>\n",
       "      <td>2,185</td>\n",
       "      <td>29,248</td>\n",
       "    </tr>\n",
       "    <tr>\n",
       "      <th>Slice TIMS (s)</th>\n",
       "      <td>0.00866</td>\n",
       "      <td>0.00678</td>\n",
       "      <td>0.0291</td>\n",
       "      <td>0.0621</td>\n",
       "      <td>0.213</td>\n",
       "      <td>0.479</td>\n",
       "    </tr>\n",
       "    <tr>\n",
       "      <th>Slice TIMS (hits)</th>\n",
       "      <td>234,662</td>\n",
       "      <td>162,369</td>\n",
       "      <td>658,010</td>\n",
       "      <td>1,353,926</td>\n",
       "      <td>5,292,442</td>\n",
       "      <td>10,531,583</td>\n",
       "    </tr>\n",
       "    <tr>\n",
       "      <th>Slice QUAD (s)</th>\n",
       "      <td>0.0124</td>\n",
       "      <td>0.158</td>\n",
       "      <td>0.0672</td>\n",
       "      <td>1.69</td>\n",
       "      <td>0.503</td>\n",
       "      <td>14.0</td>\n",
       "    </tr>\n",
       "    <tr>\n",
       "      <th>Slice QUAD (hits)</th>\n",
       "      <td>40,583</td>\n",
       "      <td>4,173,952</td>\n",
       "      <td>759,187</td>\n",
       "      <td>47,439,349</td>\n",
       "      <td>7,071,306</td>\n",
       "      <td>372,960,282</td>\n",
       "    </tr>\n",
       "    <tr>\n",
       "      <th>Slice TOF (s)</th>\n",
       "      <td>0.0726</td>\n",
       "      <td>0.100</td>\n",
       "      <td>0.183</td>\n",
       "      <td>0.433</td>\n",
       "      <td>1.30</td>\n",
       "      <td>64.5</td>\n",
       "    </tr>\n",
       "    <tr>\n",
       "      <th>Slice TOF (hits)</th>\n",
       "      <td>38,471</td>\n",
       "      <td>27,954</td>\n",
       "      <td>69,405</td>\n",
       "      <td>116,658</td>\n",
       "      <td>797,700</td>\n",
       "      <td>1,661,932</td>\n",
       "    </tr>\n",
       "  </tbody>\n",
       "</table>\n",
       "</div>"
      ],
      "text/plain": [
       "                         DDA_6        DIA_6       DDA_21       DIA_21  \\\n",
       "Type                       DDA          DIA          DDA          DIA   \n",
       "Gradient (min)               6            6           21           21   \n",
       "Detector events    143,542,808  126,982,956  295,251,252  730,564,765   \n",
       "Load .d (s)               1.26         1.05         3.21         4.69   \n",
       "Save .hdf (s)            0.418        0.350        0.956         1.93   \n",
       "Load .hdf (s)            0.388        0.167        0.993         2.60   \n",
       "Slice LC (s)           0.00401      0.00194     0.000671     0.000237   \n",
       "Slice LC (hits)        124,835       59,714       20,923        5,098   \n",
       "Slice TIMS (s)         0.00866      0.00678       0.0291       0.0621   \n",
       "Slice TIMS (hits)      234,662      162,369      658,010    1,353,926   \n",
       "Slice QUAD (s)          0.0124        0.158       0.0672         1.69   \n",
       "Slice QUAD (hits)       40,583    4,173,952      759,187   47,439,349   \n",
       "Slice TOF (s)           0.0726        0.100        0.183        0.433   \n",
       "Slice TOF (hits)        38,471       27,954       69,405      116,658   \n",
       "\n",
       "                         DDA_120        DIA_120  \n",
       "Type                         DDA            DIA  \n",
       "Gradient (min)               120            120  \n",
       "Detector events    2,736,188,777  6,364,599,982  \n",
       "Load .d (s)                 29.9           89.7  \n",
       "Save .hdf (s)               6.77           220.  \n",
       "Load .hdf (s)               14.8           35.6  \n",
       "Slice LC (s)            0.000134       0.000985  \n",
       "Slice LC (hits)            2,185         29,248  \n",
       "Slice TIMS (s)             0.213          0.479  \n",
       "Slice TIMS (hits)      5,292,442     10,531,583  \n",
       "Slice QUAD (s)             0.503           14.0  \n",
       "Slice QUAD (hits)      7,071,306    372,960,282  \n",
       "Slice TOF (s)               1.30           64.5  \n",
       "Slice TOF (hits)         797,700      1,661,932  "
      ]
     },
     "execution_count": 1,
     "metadata": {},
     "output_type": "execute_result"
    }
   ],
   "source": [
    "def format_df(overview):\n",
    "    new_overview = pd.DataFrame()\n",
    "    for column_name, dtype in zip(overview.columns, overview.dtypes):\n",
    "        new_column = overview[column_name]\n",
    "        if dtype == np.int64:\n",
    "            new_column = new_column.apply(lambda z: f\"{z:,}\")\n",
    "        elif dtype == np.float64:\n",
    "            new_column = new_column.apply(lambda z: f\"{z:#.3g}\")\n",
    "        new_overview[column_name] = new_column\n",
    "    return new_overview.T\n",
    "\n",
    "overview.T.to_csv(\"performance_results.csv\")\n",
    "format_df(overview)"
   ]
  },
  {
   "cell_type": "markdown",
   "metadata": {},
   "source": [
    "Alternatively, it can be presented visually:"
   ]
  },
  {
   "cell_type": "code",
   "execution_count": 11,
   "metadata": {
    "execution": {
     "iopub.execute_input": "2021-09-22T08:52:25.759364Z",
     "iopub.status.busy": "2021-09-22T08:52:25.734605Z",
     "iopub.status.idle": "2021-09-22T08:52:34.747420Z",
     "shell.execute_reply": "2021-09-22T08:52:34.746935Z"
    }
   },
   "outputs": [
    {
     "data": {
      "image/png": "[encoded data removed]",
      "text/plain": [
       "<Figure size 432x288 with 1 Axes>"
      ]
     },
     "metadata": {
      "needs_background": "light"
     },
     "output_type": "display_data"
    }
   ],
   "source": [
    "from matplotlib import pyplot as plt\n",
    "sizes = np.sqrt(overview[\"Detector events\"]/10**5)\n",
    "edgecolors = [\"black\" for i in overview[\"Type\"].values]\n",
    "linestyle = [\":\" if i == \"DIA\" else \"-\" for i in overview[\"Type\"].values]\n",
    "scatter_dimensions = [\n",
    "    (overview[\"Detector events\"], overview[\"Load .d (s)\"]),\n",
    "    (overview[\"Detector events\"], overview[\"Load .hdf (s)\"]),\n",
    "    (overview[\"Detector events\"], overview[\"Save .hdf (s)\"]),\n",
    "    (overview[\"Slice LC (hits)\"], overview[\"Slice LC (s)\"]),\n",
    "    (overview[\"Slice TIMS (hits)\"], overview[\"Slice TIMS (s)\"]),\n",
    "    (overview[\"Slice QUAD (hits)\"], overview[\"Slice QUAD (s)\"]),\n",
    "    (overview[\"Slice TOF (hits)\"], overview[\"Slice TOF (s)\"]),\n",
    "]\n",
    "\n",
    "for x, y in scatter_dimensions:\n",
    "    plt.scatter(x, y, alpha=0.50, s=sizes, edgecolors=\"black\", linestyle=linestyle)\n",
    "    \n",
    "function_legend = plt.legend(\n",
    "    labels=[\n",
    "        \"Load .d\",\n",
    "        \"Load .hdf\",\n",
    "        \"Save .hdf\",\n",
    "        \"Slice LC\",\n",
    "        \"Slice TIMS\",\n",
    "        \"Slice quadrupole\",\n",
    "        \"Slice TOF\",\n",
    "    ],\n",
    "    loc=\"lower left\",\n",
    "    bbox_to_anchor=(1, 0),\n",
    "    scatterpoints=1,\n",
    "    frameon=False,\n",
    ")\n",
    "for i, sc in enumerate(scatter_dimensions):\n",
    "    function_legend.legendHandles[i].set_edgecolor(None)\n",
    "    \n",
    "plt.yscale('log')\n",
    "plt.xscale('log')\n",
    "sample_legend = plt.legend(\n",
    "    [ \n",
    "        f\"{acq} {grad} min\" for acq, grad in zip(\n",
    "            overview[\"Type\"],\n",
    "            overview[\"Gradient (min)\"]\n",
    "        )\n",
    "    ],\n",
    "    loc=\"upper left\",\n",
    "    bbox_to_anchor=(1, 1),\n",
    "    scatterpoints=1,\n",
    "    frameon=False,\n",
    ")\n",
    "for i, size in enumerate(sizes):\n",
    "    sample_legend.legendHandles[i]._sizes = [size]\n",
    "    sample_legend.legendHandles[i].set_color('grey')\n",
    "    sample_legend.legendHandles[i].set_linestyle(linestyle[i])\n",
    "    sample_legend.legendHandles[i].set_edgecolor('black')\n",
    "    \n",
    "plt.gca().add_artist(sample_legend)\n",
    "plt.gca().add_artist(function_legend)\n",
    "\n",
    "plt.xlabel(\"#Detector events (logscale)\")\n",
    "plt.ylabel(\"Time in seconds (logscale)\")\n",
    "plt.savefig(\n",
    "    'performance_results.pdf',\n",
    "    format='pdf',\n",
    "    dpi=1200,\n",
    "    bbox_inches=\"tight\"\n",
    ")\n",
    "plt.savefig(\n",
    "    'performance_results.png',\n",
    "    format='png',\n",
    "    dpi=1200,\n",
    "    bbox_inches=\"tight\"\n",
    ")\n",
    "plt.show()"
   ]
  },
  {
   "cell_type": "code",
   "execution_count": null,
   "metadata": {},
   "outputs": [],
   "source": []
  }
 ],
 "metadata": {
  "kernelspec": {
   "display_name": "Python [conda env:alphatims]",
   "language": "python",
   "name": "conda-env-alphatims-py"
  },
  "language_info": {
   "codemirror_mode": {
    "name": "ipython",
    "version": 3
   },
   "file_extension": ".py",
   "mimetype": "text/x-python",
   "name": "python",
   "nbconvert_exporter": "python",
   "pygments_lexer": "ipython3",
   "version": "3.8.10"
  },
  "toc": {
   "base_numbering": 1,
   "nav_menu": {},
   "number_sections": true,
   "sideBar": true,
   "skip_h1_title": false,
   "title_cell": "Table of Contents",
   "title_sidebar": "Contents",
   "toc_cell": false,
   "toc_position": {},
   "toc_section_display": true,
   "toc_window_display": true
  },
  "varInspector": {
   "cols": {
    "lenName": 16,
    "lenType": 16,
    "lenVar": 40
   },
   "kernels_config": {
    "python": {
     "delete_cmd_postfix": "",
     "delete_cmd_prefix": "del ",
     "library": "var_list.py",
     "varRefreshCmd": "print(var_dic_list())"
    },
    "r": {
     "delete_cmd_postfix": ") ",
     "delete_cmd_prefix": "rm(",
     "library": "var_list.r",
     "varRefreshCmd": "cat(var_dic_list()) "
    }
   },
   "types_to_exclude": [
    "module",
    "function",
    "builtin_function_or_method",
    "instance",
    "_Feature"
   ],
   "window_display": false
  }
 },
 "nbformat": 4,
 "nbformat_minor": 4
}
