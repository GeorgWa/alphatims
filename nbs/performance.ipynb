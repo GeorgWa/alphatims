{
 "cells": [
  {
   "cell_type": "markdown",
   "metadata": {},
   "source": [
    "# Performance"
   ]
  },
  {
   "cell_type": "markdown",
   "metadata": {},
   "source": [
    "This notebook is intended to demonstrate the performance of AlphaTIMS.\n",
    "It contains the following information:\n",
    "1. [**Samples**](#Samples)\n",
    "2. [**Reading raw Bruker .d folders**](#Reading-raw-Bruker-.d-folders)\n",
    "3. [**Saving HDF files**](#Saving-HDF-files)\n",
    "4. [**Reading HDF files**](#Reading-HDF-files)\n",
    "5. [**Slicing data**](#Slicing-data)\n",
    "6. [**Final overview**](#Final-overview)"
   ]
  },
  {
   "cell_type": "markdown",
   "metadata": {},
   "source": [
    "The following system was used:"
   ]
  },
  {
   "cell_type": "code",
   "execution_count": 1,
   "metadata": {
    "execution": {
     "iopub.execute_input": "2021-05-18T19:09:02.800526Z",
     "iopub.status.busy": "2021-05-18T19:09:02.799519Z",
     "iopub.status.idle": "2021-05-18T19:09:03.059022Z",
     "shell.execute_reply": "2021-05-18T19:09:03.058064Z"
    }
   },
   "outputs": [
    {
     "name": "stdout",
     "output_type": "stream",
     "text": [
      "2021-05-18 21:09:03> Platform information:\n",
      "2021-05-18 21:09:03> system        - Darwin\n",
      "2021-05-18 21:09:03> release       - 19.6.0\n",
      "2021-05-18 21:09:03> version       - 10.15.7\n",
      "2021-05-18 21:09:03> machine       - x86_64\n",
      "2021-05-18 21:09:03> processor     - i386\n",
      "2021-05-18 21:09:03> cpu count     - 8\n",
      "2021-05-18 21:09:03> cpu frequency - 2300.00 Mhz\n",
      "2021-05-18 21:09:03> ram           - 22.3/32.0 Gb (available/total)\n",
      "2021-05-18 21:09:03> \n",
      "2021-05-18 21:09:03> Python information:\n",
      "2021-05-18 21:09:03> alphatims  - 0.2.7\n",
      "2021-05-18 21:09:03> bokeh      - 2.2.3\n",
      "2021-05-18 21:09:03> click      - 7.1.2\n",
      "2021-05-18 21:09:03> datashader - 0.12.1\n",
      "2021-05-18 21:09:03> h5py       - 3.2.1\n",
      "2021-05-18 21:09:03> hvplot     - 0.7.1\n",
      "2021-05-18 21:09:03> numba      - 0.53.1\n",
      "2021-05-18 21:09:03> pandas     - 1.2.3\n",
      "2021-05-18 21:09:03> psutil     - 5.8.0\n",
      "2021-05-18 21:09:03> python     - 3.8.8\n",
      "2021-05-18 21:09:03> python-lzf - 0.2.4\n",
      "2021-05-18 21:09:03> pyzstd     - 0.14.4\n",
      "2021-05-18 21:09:03> selenium   - 3.141.0\n",
      "2021-05-18 21:09:03> tqdm       - 4.60.0\n",
      "2021-05-18 21:09:03> \n"
     ]
    }
   ],
   "source": [
    "import alphatims.utils\n",
    "import pandas as pd\n",
    "import numpy as np\n",
    "\n",
    "alphatims.utils.set_threads(8)\n",
    "log_file_name = alphatims.utils.set_logger(\n",
    "    log_file_name=\"performance_log.txt\",\n",
    "    overwrite=True\n",
    ")\n",
    "alphatims.utils.show_platform_info()\n",
    "alphatims.utils.show_python_info()\n",
    "alphatims.utils.set_progress_callback(None)"
   ]
  },
  {
   "cell_type": "markdown",
   "metadata": {},
   "source": [
    "## Samples"
   ]
  },
  {
   "cell_type": "markdown",
   "metadata": {},
   "source": [
    "Five samples are used and compared:"
   ]
  },
  {
   "cell_type": "code",
   "execution_count": 2,
   "metadata": {
    "execution": {
     "iopub.execute_input": "2021-05-18T19:09:03.065164Z",
     "iopub.status.busy": "2021-05-18T19:09:03.064525Z",
     "iopub.status.idle": "2021-05-18T19:09:03.066235Z",
     "shell.execute_reply": "2021-05-18T19:09:03.066588Z"
    }
   },
   "outputs": [],
   "source": [
    "file_names = {\n",
    "    \"DDA_6\": \"/Users/swillems/Data/alphatims_testing/20201016_tims03_Evo03_PS_MA_HeLa_200ng_DDA_06-15_5_6min_4cm_S1-A1_1_21717.d\",\n",
    "    \"DIA_6\": \"/Users/swillems/Data/alphatims_testing/20201016_tims03_Evo03_PS_SA_HeLa_200ng_300-1200_2steps_16scans_06-15_5_6min_4cm_S1-A4_1_21720.d\",\n",
    "    \"DDA_21\": \"/Users/swillems/Data/alphatims_testing/20201207_tims03_Evo03_PS_SA_HeLa_200ng_EvoSep_prot_DDA_21min_8cm_S1-C10_1_22476.d\",\n",
    "    \"DIA_21\": \"/Users/swillems/Data/alphatims_testing/20201207_tims03_Evo03_PS_SA_HeLa_200ng_EvoSep_prot_high_speed_21min_8cm_S1-C8_1_22474.d\",\n",
    "    \"DDA_120\": \"/Users/swillems/Data/alphatims_testing/HeLa_200ng_1428.d\"\n",
    "}\n",
    "overview = pd.DataFrame(index=file_names.keys())\n",
    "overview[\"Type\"] = pd.Series({x: x.split(\"_\")[0] for x in file_names})\n",
    "overview[\"Gradient (min)\"] = pd.Series({x: x.split(\"_\")[1] for x in file_names})"
   ]
  },
  {
   "cell_type": "markdown",
   "metadata": {},
   "source": [
    "We first load all these files to show their basic statistics before we do the actual timing:"
   ]
  },
  {
   "cell_type": "code",
   "execution_count": 3,
   "metadata": {
    "execution": {
     "iopub.execute_input": "2021-05-18T19:09:03.070527Z",
     "iopub.status.busy": "2021-05-18T19:09:03.069971Z",
     "iopub.status.idle": "2021-05-18T19:09:46.437508Z",
     "shell.execute_reply": "2021-05-18T19:09:46.437849Z"
    }
   },
   "outputs": [
    {
     "name": "stdout",
     "output_type": "stream",
     "text": [
      "2021-05-18 21:09:03> WARNING: No Bruker libraries are available for this operating system. Intensities are uncalibrated, resulting in (very) small differences. However, mobility and m/z values need to be estimated. While this estimation often returns acceptable results with errors < 0.02 Th, huge errors (e.g. offsets of 6 Th) have already been observed for some samples!\n",
      "2021-05-18 21:09:03> \n",
      "2021-05-18 21:09:03> Initial loading of DDA_6\n",
      "2021-05-18 21:09:03> Importing data from /Users/swillems/Data/alphatims_testing/20201016_tims03_Evo03_PS_MA_HeLa_200ng_DDA_06-15_5_6min_4cm_S1-A1_1_21717.d\n",
      "2021-05-18 21:09:03> Reading frame metadata for /Users/swillems/Data/alphatims_testing/20201016_tims03_Evo03_PS_MA_HeLa_200ng_DDA_06-15_5_6min_4cm_S1-A1_1_21717.d\n",
      "2021-05-18 21:09:03> Reading 2,978 frames with 214,172,697 detector strikes for /Users/swillems/Data/alphatims_testing/20201016_tims03_Evo03_PS_MA_HeLa_200ng_DDA_06-15_5_6min_4cm_S1-A1_1_21717.d\n",
      "2021-05-18 21:09:04> Indexing /Users/swillems/Data/alphatims_testing/20201016_tims03_Evo03_PS_MA_HeLa_200ng_DDA_06-15_5_6min_4cm_S1-A1_1_21717.d...\n",
      "2021-05-18 21:09:05> Succesfully imported data from /Users/swillems/Data/alphatims_testing/20201016_tims03_Evo03_PS_MA_HeLa_200ng_DDA_06-15_5_6min_4cm_S1-A1_1_21717.d\n",
      "2021-05-18 21:09:05> \n",
      "2021-05-18 21:09:05> Initial loading of DIA_6\n",
      "2021-05-18 21:09:05> Importing data from /Users/swillems/Data/alphatims_testing/20201016_tims03_Evo03_PS_SA_HeLa_200ng_300-1200_2steps_16scans_06-15_5_6min_4cm_S1-A4_1_21720.d\n",
      "2021-05-18 21:09:05> Reading frame metadata for /Users/swillems/Data/alphatims_testing/20201016_tims03_Evo03_PS_SA_HeLa_200ng_300-1200_2steps_16scans_06-15_5_6min_4cm_S1-A4_1_21720.d\n",
      "2021-05-18 21:09:05> Reading 3,182 frames with 158,552,099 detector strikes for /Users/swillems/Data/alphatims_testing/20201016_tims03_Evo03_PS_SA_HeLa_200ng_300-1200_2steps_16scans_06-15_5_6min_4cm_S1-A4_1_21720.d\n",
      "2021-05-18 21:09:06> Indexing /Users/swillems/Data/alphatims_testing/20201016_tims03_Evo03_PS_SA_HeLa_200ng_300-1200_2steps_16scans_06-15_5_6min_4cm_S1-A4_1_21720.d...\n",
      "2021-05-18 21:09:06> Succesfully imported data from /Users/swillems/Data/alphatims_testing/20201016_tims03_Evo03_PS_SA_HeLa_200ng_300-1200_2steps_16scans_06-15_5_6min_4cm_S1-A4_1_21720.d\n",
      "2021-05-18 21:09:06> \n",
      "2021-05-18 21:09:06> Initial loading of DDA_21\n",
      "2021-05-18 21:09:06> Importing data from /Users/swillems/Data/alphatims_testing/20201207_tims03_Evo03_PS_SA_HeLa_200ng_EvoSep_prot_DDA_21min_8cm_S1-C10_1_22476.d\n",
      "2021-05-18 21:09:06> Reading frame metadata for /Users/swillems/Data/alphatims_testing/20201207_tims03_Evo03_PS_SA_HeLa_200ng_EvoSep_prot_DDA_21min_8cm_S1-C10_1_22476.d\n",
      "2021-05-18 21:09:06> Reading 11,886 frames with 295,251,252 detector strikes for /Users/swillems/Data/alphatims_testing/20201207_tims03_Evo03_PS_SA_HeLa_200ng_EvoSep_prot_DDA_21min_8cm_S1-C10_1_22476.d\n",
      "2021-05-18 21:09:08> Indexing /Users/swillems/Data/alphatims_testing/20201207_tims03_Evo03_PS_SA_HeLa_200ng_EvoSep_prot_DDA_21min_8cm_S1-C10_1_22476.d...\n",
      "2021-05-18 21:09:09> Succesfully imported data from /Users/swillems/Data/alphatims_testing/20201207_tims03_Evo03_PS_SA_HeLa_200ng_EvoSep_prot_DDA_21min_8cm_S1-C10_1_22476.d\n",
      "2021-05-18 21:09:09> \n",
      "2021-05-18 21:09:09> Initial loading of DIA_21\n",
      "2021-05-18 21:09:09> Importing data from /Users/swillems/Data/alphatims_testing/20201207_tims03_Evo03_PS_SA_HeLa_200ng_EvoSep_prot_high_speed_21min_8cm_S1-C8_1_22474.d\n",
      "2021-05-18 21:09:09> Reading frame metadata for /Users/swillems/Data/alphatims_testing/20201207_tims03_Evo03_PS_SA_HeLa_200ng_EvoSep_prot_high_speed_21min_8cm_S1-C8_1_22474.d\n",
      "2021-05-18 21:09:09> Reading 11,868 frames with 730,564,765 detector strikes for /Users/swillems/Data/alphatims_testing/20201207_tims03_Evo03_PS_SA_HeLa_200ng_EvoSep_prot_high_speed_21min_8cm_S1-C8_1_22474.d\n",
      "2021-05-18 21:09:13> Indexing /Users/swillems/Data/alphatims_testing/20201207_tims03_Evo03_PS_SA_HeLa_200ng_EvoSep_prot_high_speed_21min_8cm_S1-C8_1_22474.d...\n",
      "2021-05-18 21:09:13> Succesfully imported data from /Users/swillems/Data/alphatims_testing/20201207_tims03_Evo03_PS_SA_HeLa_200ng_EvoSep_prot_high_speed_21min_8cm_S1-C8_1_22474.d\n",
      "2021-05-18 21:09:13> \n",
      "2021-05-18 21:09:13> Initial loading of DDA_120\n",
      "2021-05-18 21:09:13> Importing data from /Users/swillems/Data/alphatims_testing/HeLa_200ng_1428.d\n",
      "2021-05-18 21:09:13> Reading frame metadata for /Users/swillems/Data/alphatims_testing/HeLa_200ng_1428.d\n",
      "2021-05-18 21:09:18> Reading 68,114 frames with 2,074,019,899 detector strikes for /Users/swillems/Data/alphatims_testing/HeLa_200ng_1428.d\n",
      "2021-05-18 21:09:41> Indexing /Users/swillems/Data/alphatims_testing/HeLa_200ng_1428.d...\n",
      "2021-05-18 21:09:46> Succesfully imported data from /Users/swillems/Data/alphatims_testing/HeLa_200ng_1428.d\n",
      "2021-05-18 21:09:46> \n"
     ]
    }
   ],
   "source": [
    "import logging\n",
    "import alphatims.bruker\n",
    "\n",
    "timstof_objects = {}\n",
    "detector_strikes = {}\n",
    "for sample_id, file_name in file_names.items():\n",
    "    logging.info(f\"Initial loading of {sample_id}\")\n",
    "    timstof_objects[sample_id] = alphatims.bruker.TimsTOF(file_name)\n",
    "    detector_strikes[sample_id] = len(timstof_objects[sample_id])\n",
    "    logging.info(\"\")"
   ]
  },
  {
   "cell_type": "code",
   "execution_count": 4,
   "metadata": {
    "execution": {
     "iopub.execute_input": "2021-05-18T19:09:46.444281Z",
     "iopub.status.busy": "2021-05-18T19:09:46.443620Z",
     "iopub.status.idle": "2021-05-18T19:09:46.445486Z",
     "shell.execute_reply": "2021-05-18T19:09:46.445846Z"
    }
   },
   "outputs": [],
   "source": [
    "overview[\"Detector strikes\"] = pd.Series(detector_strikes).apply(\n",
    "    lambda x : f\"{x:,}\"\n",
    ")"
   ]
  },
  {
   "cell_type": "markdown",
   "metadata": {},
   "source": [
    "In summary, we thus consider the following samples:"
   ]
  },
  {
   "cell_type": "code",
   "execution_count": 5,
   "metadata": {
    "execution": {
     "iopub.execute_input": "2021-05-18T19:09:46.452533Z",
     "iopub.status.busy": "2021-05-18T19:09:46.451988Z",
     "iopub.status.idle": "2021-05-18T19:09:46.460529Z",
     "shell.execute_reply": "2021-05-18T19:09:46.460921Z"
    }
   },
   "outputs": [
    {
     "data": {
      "text/html": [
       "<div>\n",
       "<style scoped>\n",
       "    .dataframe tbody tr th:only-of-type {\n",
       "        vertical-align: middle;\n",
       "    }\n",
       "\n",
       "    .dataframe tbody tr th {\n",
       "        vertical-align: top;\n",
       "    }\n",
       "\n",
       "    .dataframe thead th {\n",
       "        text-align: right;\n",
       "    }\n",
       "</style>\n",
       "<table border=\"1\" class=\"dataframe\">\n",
       "  <thead>\n",
       "    <tr style=\"text-align: right;\">\n",
       "      <th></th>\n",
       "      <th>Type</th>\n",
       "      <th>Gradient (min)</th>\n",
       "      <th>Detector strikes</th>\n",
       "    </tr>\n",
       "  </thead>\n",
       "  <tbody>\n",
       "    <tr>\n",
       "      <th>DDA_6</th>\n",
       "      <td>DDA</td>\n",
       "      <td>6</td>\n",
       "      <td>214,172,697</td>\n",
       "    </tr>\n",
       "    <tr>\n",
       "      <th>DIA_6</th>\n",
       "      <td>DIA</td>\n",
       "      <td>6</td>\n",
       "      <td>158,552,099</td>\n",
       "    </tr>\n",
       "    <tr>\n",
       "      <th>DDA_21</th>\n",
       "      <td>DDA</td>\n",
       "      <td>21</td>\n",
       "      <td>295,251,252</td>\n",
       "    </tr>\n",
       "    <tr>\n",
       "      <th>DIA_21</th>\n",
       "      <td>DIA</td>\n",
       "      <td>21</td>\n",
       "      <td>730,564,765</td>\n",
       "    </tr>\n",
       "    <tr>\n",
       "      <th>DDA_120</th>\n",
       "      <td>DDA</td>\n",
       "      <td>120</td>\n",
       "      <td>2,074,019,899</td>\n",
       "    </tr>\n",
       "  </tbody>\n",
       "</table>\n",
       "</div>"
      ],
      "text/plain": [
       "        Type Gradient (min) Detector strikes\n",
       "DDA_6    DDA              6      214,172,697\n",
       "DIA_6    DIA              6      158,552,099\n",
       "DDA_21   DDA             21      295,251,252\n",
       "DIA_21   DIA             21      730,564,765\n",
       "DDA_120  DDA            120    2,074,019,899"
      ]
     },
     "execution_count": 1,
     "metadata": {},
     "output_type": "execute_result"
    }
   ],
   "source": [
    "overview"
   ]
  },
  {
   "cell_type": "markdown",
   "metadata": {},
   "source": [
    "## Reading raw Bruker .d folders"
   ]
  },
  {
   "cell_type": "markdown",
   "metadata": {},
   "source": [
    "To avoid unwanted system inferences, we perform a `timeit` function to get a robust estimate of loading times for raw Bruker .d folders:"
   ]
  },
  {
   "cell_type": "code",
   "execution_count": 6,
   "metadata": {
    "execution": {
     "iopub.execute_input": "2021-05-18T19:09:46.465819Z",
     "iopub.status.busy": "2021-05-18T19:09:46.465290Z",
     "iopub.status.idle": "2021-05-18T19:14:18.440686Z",
     "shell.execute_reply": "2021-05-18T19:14:18.441256Z"
    }
   },
   "outputs": [
    {
     "name": "stdout",
     "output_type": "stream",
     "text": [
      "Time to load DDA_6 raw Bruker .d folder:\n",
      "1.58 s ± 41.5 ms per loop (mean ± std. dev. of 7 runs, 1 loop each)\n",
      "\n",
      "Time to load DIA_6 raw Bruker .d folder:\n",
      "1.11 s ± 8.53 ms per loop (mean ± std. dev. of 7 runs, 1 loop each)\n",
      "\n",
      "Time to load DDA_21 raw Bruker .d folder:\n",
      "3.08 s ± 68.1 ms per loop (mean ± std. dev. of 7 runs, 1 loop each)\n",
      "\n",
      "Time to load DIA_21 raw Bruker .d folder:\n",
      "4.65 s ± 109 ms per loop (mean ± std. dev. of 7 runs, 1 loop each)\n",
      "\n",
      "Time to load DDA_120 raw Bruker .d folder:\n",
      "20.2 s ± 2.55 s per loop (mean ± std. dev. of 7 runs, 1 loop each)\n",
      "\n"
     ]
    }
   ],
   "source": [
    "alphatims.utils.set_logger(stream=False)\n",
    "raw_load_times = {}\n",
    "for sample_id, file_name in file_names.items():\n",
    "    print(f\"Time to load {sample_id} raw Bruker .d folder:\")\n",
    "    raw_load_time = %timeit -o tmp = alphatims.bruker.TimsTOF(file_name)\n",
    "    raw_load_times[sample_id] = np.average(raw_load_time.timings)\n",
    "    print(\"\")\n",
    "overview[\"Load .d (s)\"] = pd.Series(raw_load_times).apply(\n",
    "    lambda x : f\"{x:#.3g}\"\n",
    ")"
   ]
  },
  {
   "cell_type": "code",
   "execution_count": 7,
   "metadata": {
    "execution": {
     "iopub.execute_input": "2021-05-18T19:14:18.449877Z",
     "iopub.status.busy": "2021-05-18T19:14:18.449238Z",
     "iopub.status.idle": "2021-05-18T19:14:18.451386Z",
     "shell.execute_reply": "2021-05-18T19:14:18.450846Z"
    }
   },
   "outputs": [],
   "source": [
    "overview[\"Load .d (s)\"] = pd.Series(raw_load_times).apply(\n",
    "    lambda x : f\"{x:#.3g}\"\n",
    ")"
   ]
  },
  {
   "cell_type": "markdown",
   "metadata": {},
   "source": [
    "## Saving HDF files"
   ]
  },
  {
   "cell_type": "markdown",
   "metadata": {},
   "source": [
    "Each of the data files can also be exported to HDF files:"
   ]
  },
  {
   "cell_type": "code",
   "execution_count": 8,
   "metadata": {
    "execution": {
     "iopub.execute_input": "2021-05-18T19:14:18.460206Z",
     "iopub.status.busy": "2021-05-18T19:14:18.459593Z",
     "iopub.status.idle": "2021-05-18T19:16:55.941689Z",
     "shell.execute_reply": "2021-05-18T19:16:55.942748Z"
    }
   },
   "outputs": [
    {
     "name": "stdout",
     "output_type": "stream",
     "text": [
      "Time to export DDA_6 to HDF file:\n",
      "550 ms ± 27.6 ms per loop (mean ± std. dev. of 7 runs, 1 loop each)\n",
      "\n",
      "Time to export DIA_6 to HDF file:\n",
      "427 ms ± 46.4 ms per loop (mean ± std. dev. of 7 runs, 1 loop each)\n",
      "\n",
      "Time to export DDA_21 to HDF file:\n",
      "798 ms ± 18.8 ms per loop (mean ± std. dev. of 7 runs, 1 loop each)\n",
      "\n",
      "Time to export DIA_21 to HDF file:\n",
      "1.96 s ± 63.7 ms per loop (mean ± std. dev. of 7 runs, 1 loop each)\n",
      "\n",
      "Time to export DDA_120 to HDF file:\n",
      "6.07 s ± 71.3 ms per loop (mean ± std. dev. of 7 runs, 1 loop each)\n",
      "\n"
     ]
    }
   ],
   "source": [
    "save_hdf_times = {}\n",
    "for sample_id, data in timstof_objects.items():\n",
    "    print(f\"Time to export {sample_id} to HDF file:\")\n",
    "    path = data.directory\n",
    "    file_name = f\"{data.sample_name}.hdf\"\n",
    "    save_hdf_time = %timeit -o tmp = data.save_as_hdf(path, file_name, overwrite=True)\n",
    "    save_hdf_times[sample_id] = np.average(save_hdf_time.timings)\n",
    "    print(\"\")"
   ]
  },
  {
   "cell_type": "code",
   "execution_count": 9,
   "metadata": {
    "execution": {
     "iopub.execute_input": "2021-05-18T19:16:55.952125Z",
     "iopub.status.busy": "2021-05-18T19:16:55.951087Z",
     "iopub.status.idle": "2021-05-18T19:16:55.953816Z",
     "shell.execute_reply": "2021-05-18T19:16:55.954598Z"
    }
   },
   "outputs": [],
   "source": [
    "overview[\"Save .hdf (s)\"] = pd.Series(save_hdf_times).apply(\n",
    "    lambda x : f\"{x:#.3g}\"\n",
    ")"
   ]
  },
  {
   "cell_type": "markdown",
   "metadata": {},
   "source": [
    "## Reading HDF files"
   ]
  },
  {
   "cell_type": "markdown",
   "metadata": {},
   "source": [
    "Once these HDF files are created, they can be loaded much faster than raw Bruker .d folders:"
   ]
  },
  {
   "cell_type": "code",
   "execution_count": 10,
   "metadata": {
    "execution": {
     "iopub.execute_input": "2021-05-18T19:16:55.963880Z",
     "iopub.status.busy": "2021-05-18T19:16:55.962853Z",
     "iopub.status.idle": "2021-05-18T19:19:11.772987Z",
     "shell.execute_reply": "2021-05-18T19:19:11.773541Z"
    }
   },
   "outputs": [
    {
     "name": "stdout",
     "output_type": "stream",
     "text": [
      "Time to load DDA_6 HDF file:\n",
      "475 ms ± 6.07 ms per loop (mean ± std. dev. of 7 runs, 1 loop each)\n",
      "\n",
      "Time to load DIA_6 HDF file:\n",
      "358 ms ± 4.28 ms per loop (mean ± std. dev. of 7 runs, 1 loop each)\n",
      "\n",
      "Time to load DDA_21 HDF file:\n",
      "823 ms ± 68.9 ms per loop (mean ± std. dev. of 7 runs, 1 loop each)\n",
      "\n",
      "Time to load DIA_21 HDF file:\n",
      "1.94 s ± 177 ms per loop (mean ± std. dev. of 7 runs, 1 loop each)\n",
      "\n",
      "Time to load DDA_120 HDF file:\n",
      "10.1 s ± 156 ms per loop (mean ± std. dev. of 7 runs, 1 loop each)\n",
      "\n"
     ]
    }
   ],
   "source": [
    "import os\n",
    "load_hdf_times = {}\n",
    "for sample_id, data in timstof_objects.items():\n",
    "    print(f\"Time to load {sample_id} HDF file:\")\n",
    "    file_name = os.path.join(data.directory, f\"{data.sample_name}.hdf\")\n",
    "    load_hdf_time = %timeit -o tmp = alphatims.bruker.TimsTOF(file_name)\n",
    "    load_hdf_times[sample_id] = np.average(load_hdf_time.timings)\n",
    "    print(\"\")"
   ]
  },
  {
   "cell_type": "code",
   "execution_count": 11,
   "metadata": {
    "execution": {
     "iopub.execute_input": "2021-05-18T19:19:11.779943Z",
     "iopub.status.busy": "2021-05-18T19:19:11.779300Z",
     "iopub.status.idle": "2021-05-18T19:19:11.781580Z",
     "shell.execute_reply": "2021-05-18T19:19:11.782631Z"
    }
   },
   "outputs": [],
   "source": [
    "overview[\"Load .hdf (s)\"] = pd.Series(load_hdf_times).apply(\n",
    "    lambda x : f\"{x:#.3g}\"\n",
    ")"
   ]
  },
  {
   "cell_type": "markdown",
   "metadata": {},
   "source": [
    "## Slicing data"
   ]
  },
  {
   "cell_type": "markdown",
   "metadata": {},
   "source": [
    "Lastly, we can slice this data. Since this uses Numba JIT compilation, we first compile the relevant functions with an initial slice call:"
   ]
  },
  {
   "cell_type": "code",
   "execution_count": 12,
   "metadata": {
    "execution": {
     "iopub.execute_input": "2021-05-18T19:19:11.825925Z",
     "iopub.status.busy": "2021-05-18T19:19:11.789664Z",
     "iopub.status.idle": "2021-05-18T19:19:11.827183Z",
     "shell.execute_reply": "2021-05-18T19:19:11.826604Z"
    }
   },
   "outputs": [],
   "source": [
    "tmp = timstof_objects[\"DDA_6\"][0]"
   ]
  },
  {
   "cell_type": "markdown",
   "metadata": {},
   "source": [
    "Now we can time how long it takes to slice in different dimensions:\n",
    "   * **LC:** $100.0 \\leq \\textrm{retention_time} \\lt 100.5$\n",
    "   * **TIMS:** $\\textrm{scan_index} = 450$\n",
    "   * **Quadrupole:** $700.0 \\leq \\textrm{quad_mz_values} \\lt 710.0$\n",
    "   * **TOF:** $621.9 \\leq \\textrm{tof_mz_values} \\lt 622.1$"
   ]
  },
  {
   "cell_type": "code",
   "execution_count": 13,
   "metadata": {
    "execution": {
     "iopub.execute_input": "2021-05-18T19:19:11.853198Z",
     "iopub.status.busy": "2021-05-18T19:19:11.850931Z",
     "iopub.status.idle": "2021-05-18T19:22:43.575327Z",
     "shell.execute_reply": "2021-05-18T19:22:43.575658Z"
    }
   },
   "outputs": [
    {
     "name": "stdout",
     "output_type": "stream",
     "text": [
      "Time to slice DDA_6:\n",
      "Testing LC slice data[100.0: 100.5] (18,034 detector hits).\n",
      "1.64 ms ± 43.6 µs per loop (mean ± std. dev. of 7 runs, 1000 loops each)\n",
      "Testing TIMS slice data[:, 450] (393,184 detector hits).\n",
      "37.9 ms ± 2.2 ms per loop (mean ± std. dev. of 7 runs, 10 loops each)\n",
      "Testing QUAD slice data[:, :, 700.0: 710] (185,235 detector hits).\n",
      "28.4 ms ± 1.9 ms per loop (mean ± std. dev. of 7 runs, 10 loops each)\n",
      "Testing TOF slice data[:, :, :, 621.9: 622.1] (52,422 detector hits).\n",
      "79.8 ms ± 3.49 ms per loop (mean ± std. dev. of 7 runs, 10 loops each)\n",
      "\n",
      "Time to slice DIA_6:\n",
      "Testing LC slice data[100.0: 100.5] (86,623 detector hits).\n",
      "7.29 ms ± 497 µs per loop (mean ± std. dev. of 7 runs, 100 loops each)\n",
      "Testing TIMS slice data[:, 450] (277,025 detector hits).\n",
      "23.6 ms ± 1.88 ms per loop (mean ± std. dev. of 7 runs, 10 loops each)\n",
      "Testing QUAD slice data[:, :, 700.0: 710] (8,346,135 detector hits).\n",
      "684 ms ± 14.8 ms per loop (mean ± std. dev. of 7 runs, 1 loop each)\n",
      "Testing TOF slice data[:, :, :, 621.9: 622.1] (23,165 detector hits).\n",
      "94.4 ms ± 1.57 ms per loop (mean ± std. dev. of 7 runs, 10 loops each)\n",
      "\n",
      "Time to slice DDA_21:\n",
      "Testing LC slice data[100.0: 100.5] (20,923 detector hits).\n",
      "1.74 ms ± 13.6 µs per loop (mean ± std. dev. of 7 runs, 1000 loops each)\n",
      "Testing TIMS slice data[:, 450] (658,010 detector hits).\n",
      "62.9 ms ± 1.25 ms per loop (mean ± std. dev. of 7 runs, 10 loops each)\n",
      "Testing QUAD slice data[:, :, 700.0: 710] (759,187 detector hits).\n",
      "104 ms ± 2.62 ms per loop (mean ± std. dev. of 7 runs, 10 loops each)\n",
      "Testing TOF slice data[:, :, :, 621.9: 622.1] (69,405 detector hits).\n",
      "179 ms ± 5.42 ms per loop (mean ± std. dev. of 7 runs, 10 loops each)\n",
      "\n",
      "Time to slice DIA_21:\n",
      "Testing LC slice data[100.0: 100.5] (5,098 detector hits).\n",
      "877 µs ± 11.7 µs per loop (mean ± std. dev. of 7 runs, 1000 loops each)\n",
      "Testing TIMS slice data[:, 450] (1,353,926 detector hits).\n",
      "126 ms ± 928 µs per loop (mean ± std. dev. of 7 runs, 10 loops each)\n",
      "Testing QUAD slice data[:, :, 700.0: 710] (47,439,349 detector hits).\n",
      "5.05 s ± 133 ms per loop (mean ± std. dev. of 7 runs, 1 loop each)\n",
      "Testing TOF slice data[:, :, :, 621.9: 622.1] (116,658 detector hits).\n",
      "412 ms ± 17.2 ms per loop (mean ± std. dev. of 7 runs, 1 loop each)\n",
      "\n",
      "Time to slice DDA_120:\n",
      "Testing LC slice data[100.0: 100.5] (2,331 detector hits).\n",
      "807 µs ± 99.7 µs per loop (mean ± std. dev. of 7 runs, 1000 loops each)\n",
      "Testing TIMS slice data[:, 450] (3,988,021 detector hits).\n",
      "359 ms ± 21.3 ms per loop (mean ± std. dev. of 7 runs, 1 loop each)\n",
      "Testing QUAD slice data[:, :, 700.0: 710] (4,618,589 detector hits).\n",
      "596 ms ± 21.1 ms per loop (mean ± std. dev. of 7 runs, 1 loop each)\n",
      "Testing TOF slice data[:, :, :, 621.9: 622.1] (611,802 detector hits).\n",
      "1.12 s ± 11.9 ms per loop (mean ± std. dev. of 7 runs, 1 loop each)\n",
      "\n"
     ]
    }
   ],
   "source": [
    "import os\n",
    "\n",
    "frame_slice_times = {}\n",
    "scan_slice_times = {}\n",
    "quad_slice_times = {}\n",
    "tof_slice_times = {}\n",
    "\n",
    "frame_slice_counts = {}\n",
    "scan_slice_counts = {}\n",
    "quad_slice_counts = {}\n",
    "tof_slice_counts = {}\n",
    "\n",
    "for sample_id, data in timstof_objects.items():\n",
    "    print(f\"Time to slice {sample_id}:\")\n",
    "    \n",
    "    count = len(data[100.:100.5])\n",
    "    print(\n",
    "        f\"Testing LC slice data[100.0: 100.5] ({count:,} detector hits).\"\n",
    "    )\n",
    "    frame_slice_time = %timeit -o tmp = data[100.:100.5]\n",
    "    frame_slice_counts[sample_id] = count\n",
    "    frame_slice_times[sample_id] = np.average(frame_slice_time.timings)\n",
    "    \n",
    "    count = len(data[:, 450])\n",
    "    print(\n",
    "        f\"Testing TIMS slice data[:, 450] ({count:,} detector hits).\"\n",
    "    )\n",
    "    scan_slice_time = %timeit -o tmp = data[:, 450]\n",
    "    scan_slice_counts[sample_id] = count\n",
    "    scan_slice_times[sample_id] = np.average(scan_slice_time.timings)\n",
    "    \n",
    "    count = len(data[:, :, 700.0: 710])\n",
    "    print(\n",
    "        f\"Testing QUAD slice data[:, :, 700.0: 710] ({count:,} detector hits).\"\n",
    "    )\n",
    "    quad_slice_time = %timeit -o tmp = data[:, :, 700.0: 710]\n",
    "    quad_slice_counts[sample_id] = count\n",
    "    quad_slice_times[sample_id] = np.average(quad_slice_time.timings)\n",
    "    \n",
    "    count = len(data[:, :, :, 621.9: 622.1])\n",
    "    print(\n",
    "        f\"Testing TOF slice data[:, :, :, 621.9: 622.1] ({count:,} detector hits).\"\n",
    "    )\n",
    "    tof_slice_time = %timeit -o tmp = data[:, :, :, 621.9: 622.1]\n",
    "    tof_slice_counts[sample_id] = count\n",
    "    tof_slice_times[sample_id] = np.average(tof_slice_time.timings)\n",
    "    \n",
    "    print(\"\")"
   ]
  },
  {
   "cell_type": "code",
   "execution_count": 14,
   "metadata": {
    "execution": {
     "iopub.execute_input": "2021-05-18T19:22:43.589464Z",
     "iopub.status.busy": "2021-05-18T19:22:43.587577Z",
     "iopub.status.idle": "2021-05-18T19:22:43.590195Z",
     "shell.execute_reply": "2021-05-18T19:22:43.590677Z"
    }
   },
   "outputs": [],
   "source": [
    "overview[\"Slice LC (s)\"] = pd.Series(frame_slice_times).apply(\n",
    "    lambda x : f\"{x:#.3g}\"\n",
    ")\n",
    "overview[\"Slice LC (hits)\"] = pd.Series(frame_slice_counts).apply(\n",
    "    lambda x : f\"{x:,}\"\n",
    ")\n",
    "overview[\"Slice TIMS (s)\"] = pd.Series(scan_slice_times).apply(\n",
    "    lambda x : f\"{x:#.3g}\"\n",
    ")\n",
    "overview[\"Slice TIMS (hits)\"] = pd.Series(scan_slice_counts).apply(\n",
    "    lambda x : f\"{x:,}\"\n",
    ")\n",
    "overview[\"Slice QUAD (s)\"] = pd.Series(quad_slice_times).apply(\n",
    "    lambda x : f\"{x:#.3g}\"\n",
    ")\n",
    "overview[\"Slice QUAD (hits)\"] = pd.Series(quad_slice_counts).apply(\n",
    "    lambda x : f\"{x:,}\"\n",
    ")\n",
    "overview[\"Slice TOF (s)\"] = pd.Series(tof_slice_times).apply(\n",
    "    lambda x : f\"{x:#.3g}\"\n",
    ")\n",
    "overview[\"Slice TOF (hits)\"] = pd.Series(tof_slice_counts).apply(\n",
    "    lambda x : f\"{x:,}\"\n",
    ")"
   ]
  },
  {
   "cell_type": "markdown",
   "metadata": {},
   "source": [
    "## Final overview"
   ]
  },
  {
   "cell_type": "markdown",
   "metadata": {},
   "source": [
    "The final time performance can thus be summarized as follows:"
   ]
  },
  {
   "cell_type": "code",
   "execution_count": 15,
   "metadata": {
    "execution": {
     "iopub.execute_input": "2021-05-18T19:22:43.602095Z",
     "iopub.status.busy": "2021-05-18T19:22:43.601428Z",
     "iopub.status.idle": "2021-05-18T19:22:43.603872Z",
     "shell.execute_reply": "2021-05-18T19:22:43.604375Z"
    }
   },
   "outputs": [
    {
     "data": {
      "text/html": [
       "<div>\n",
       "<style scoped>\n",
       "    .dataframe tbody tr th:only-of-type {\n",
       "        vertical-align: middle;\n",
       "    }\n",
       "\n",
       "    .dataframe tbody tr th {\n",
       "        vertical-align: top;\n",
       "    }\n",
       "\n",
       "    .dataframe thead th {\n",
       "        text-align: right;\n",
       "    }\n",
       "</style>\n",
       "<table border=\"1\" class=\"dataframe\">\n",
       "  <thead>\n",
       "    <tr style=\"text-align: right;\">\n",
       "      <th></th>\n",
       "      <th>DDA_6</th>\n",
       "      <th>DIA_6</th>\n",
       "      <th>DDA_21</th>\n",
       "      <th>DIA_21</th>\n",
       "      <th>DDA_120</th>\n",
       "    </tr>\n",
       "  </thead>\n",
       "  <tbody>\n",
       "    <tr>\n",
       "      <th>Type</th>\n",
       "      <td>DDA</td>\n",
       "      <td>DIA</td>\n",
       "      <td>DDA</td>\n",
       "      <td>DIA</td>\n",
       "      <td>DDA</td>\n",
       "    </tr>\n",
       "    <tr>\n",
       "      <th>Gradient (min)</th>\n",
       "      <td>6</td>\n",
       "      <td>6</td>\n",
       "      <td>21</td>\n",
       "      <td>21</td>\n",
       "      <td>120</td>\n",
       "    </tr>\n",
       "    <tr>\n",
       "      <th>Detector strikes</th>\n",
       "      <td>214,172,697</td>\n",
       "      <td>158,552,099</td>\n",
       "      <td>295,251,252</td>\n",
       "      <td>730,564,765</td>\n",
       "      <td>2,074,019,899</td>\n",
       "    </tr>\n",
       "    <tr>\n",
       "      <th>Load .d (s)</th>\n",
       "      <td>1.58</td>\n",
       "      <td>1.11</td>\n",
       "      <td>3.08</td>\n",
       "      <td>4.65</td>\n",
       "      <td>20.2</td>\n",
       "    </tr>\n",
       "    <tr>\n",
       "      <th>Save .hdf (s)</th>\n",
       "      <td>0.550</td>\n",
       "      <td>0.427</td>\n",
       "      <td>0.798</td>\n",
       "      <td>1.96</td>\n",
       "      <td>6.07</td>\n",
       "    </tr>\n",
       "    <tr>\n",
       "      <th>Load .hdf (s)</th>\n",
       "      <td>0.475</td>\n",
       "      <td>0.358</td>\n",
       "      <td>0.823</td>\n",
       "      <td>1.94</td>\n",
       "      <td>10.1</td>\n",
       "    </tr>\n",
       "    <tr>\n",
       "      <th>Slice LC (s)</th>\n",
       "      <td>0.00164</td>\n",
       "      <td>0.00729</td>\n",
       "      <td>0.00174</td>\n",
       "      <td>0.000877</td>\n",
       "      <td>0.000807</td>\n",
       "    </tr>\n",
       "    <tr>\n",
       "      <th>Slice LC (hits)</th>\n",
       "      <td>18,034</td>\n",
       "      <td>86,623</td>\n",
       "      <td>20,923</td>\n",
       "      <td>5,098</td>\n",
       "      <td>2,331</td>\n",
       "    </tr>\n",
       "    <tr>\n",
       "      <th>Slice TIMS (s)</th>\n",
       "      <td>0.0379</td>\n",
       "      <td>0.0236</td>\n",
       "      <td>0.0629</td>\n",
       "      <td>0.126</td>\n",
       "      <td>0.359</td>\n",
       "    </tr>\n",
       "    <tr>\n",
       "      <th>Slice TIMS (hits)</th>\n",
       "      <td>393,184</td>\n",
       "      <td>277,025</td>\n",
       "      <td>658,010</td>\n",
       "      <td>1,353,926</td>\n",
       "      <td>3,988,021</td>\n",
       "    </tr>\n",
       "    <tr>\n",
       "      <th>Slice QUAD (s)</th>\n",
       "      <td>0.0284</td>\n",
       "      <td>0.684</td>\n",
       "      <td>0.104</td>\n",
       "      <td>5.05</td>\n",
       "      <td>0.596</td>\n",
       "    </tr>\n",
       "    <tr>\n",
       "      <th>Slice QUAD (hits)</th>\n",
       "      <td>185,235</td>\n",
       "      <td>8,346,135</td>\n",
       "      <td>759,187</td>\n",
       "      <td>47,439,349</td>\n",
       "      <td>4,618,589</td>\n",
       "    </tr>\n",
       "    <tr>\n",
       "      <th>Slice TOF (s)</th>\n",
       "      <td>0.0798</td>\n",
       "      <td>0.0944</td>\n",
       "      <td>0.179</td>\n",
       "      <td>0.412</td>\n",
       "      <td>1.12</td>\n",
       "    </tr>\n",
       "    <tr>\n",
       "      <th>Slice TOF (hits)</th>\n",
       "      <td>52,422</td>\n",
       "      <td>23,165</td>\n",
       "      <td>69,405</td>\n",
       "      <td>116,658</td>\n",
       "      <td>611,802</td>\n",
       "    </tr>\n",
       "  </tbody>\n",
       "</table>\n",
       "</div>"
      ],
      "text/plain": [
       "                         DDA_6        DIA_6       DDA_21       DIA_21  \\\n",
       "Type                       DDA          DIA          DDA          DIA   \n",
       "Gradient (min)               6            6           21           21   \n",
       "Detector strikes   214,172,697  158,552,099  295,251,252  730,564,765   \n",
       "Load .d (s)               1.58         1.11         3.08         4.65   \n",
       "Save .hdf (s)            0.550        0.427        0.798         1.96   \n",
       "Load .hdf (s)            0.475        0.358        0.823         1.94   \n",
       "Slice LC (s)           0.00164      0.00729      0.00174     0.000877   \n",
       "Slice LC (hits)         18,034       86,623       20,923        5,098   \n",
       "Slice TIMS (s)          0.0379       0.0236       0.0629        0.126   \n",
       "Slice TIMS (hits)      393,184      277,025      658,010    1,353,926   \n",
       "Slice QUAD (s)          0.0284        0.684        0.104         5.05   \n",
       "Slice QUAD (hits)      185,235    8,346,135      759,187   47,439,349   \n",
       "Slice TOF (s)           0.0798       0.0944        0.179        0.412   \n",
       "Slice TOF (hits)        52,422       23,165       69,405      116,658   \n",
       "\n",
       "                         DDA_120  \n",
       "Type                         DDA  \n",
       "Gradient (min)               120  \n",
       "Detector strikes   2,074,019,899  \n",
       "Load .d (s)                 20.2  \n",
       "Save .hdf (s)               6.07  \n",
       "Load .hdf (s)               10.1  \n",
       "Slice LC (s)            0.000807  \n",
       "Slice LC (hits)            2,331  \n",
       "Slice TIMS (s)             0.359  \n",
       "Slice TIMS (hits)      3,988,021  \n",
       "Slice QUAD (s)             0.596  \n",
       "Slice QUAD (hits)      4,618,589  \n",
       "Slice TOF (s)               1.12  \n",
       "Slice TOF (hits)         611,802  "
      ]
     },
     "execution_count": 1,
     "metadata": {},
     "output_type": "execute_result"
    }
   ],
   "source": [
    "overview.T"
   ]
  },
  {
   "cell_type": "code",
   "execution_count": null,
   "metadata": {},
   "outputs": [],
   "source": []
  }
 ],
 "metadata": {
  "kernelspec": {
   "display_name": "Python [conda env:alphatims]",
   "language": "python",
   "name": "conda-env-alphatims-py"
  },
  "language_info": {
   "codemirror_mode": {
    "name": "ipython",
    "version": 3
   },
   "file_extension": ".py",
   "mimetype": "text/x-python",
   "name": "python",
   "nbconvert_exporter": "python",
   "pygments_lexer": "ipython3",
   "version": "3.8.8"
  },
  "toc": {
   "base_numbering": 1,
   "nav_menu": {},
   "number_sections": true,
   "sideBar": true,
   "skip_h1_title": false,
   "title_cell": "Table of Contents",
   "title_sidebar": "Contents",
   "toc_cell": false,
   "toc_position": {},
   "toc_section_display": true,
   "toc_window_display": true
  },
  "varInspector": {
   "cols": {
    "lenName": 16,
    "lenType": 16,
    "lenVar": 40
   },
   "kernels_config": {
    "python": {
     "delete_cmd_postfix": "",
     "delete_cmd_prefix": "del ",
     "library": "var_list.py",
     "varRefreshCmd": "print(var_dic_list())"
    },
    "r": {
     "delete_cmd_postfix": ") ",
     "delete_cmd_prefix": "rm(",
     "library": "var_list.r",
     "varRefreshCmd": "cat(var_dic_list()) "
    }
   },
   "types_to_exclude": [
    "module",
    "function",
    "builtin_function_or_method",
    "instance",
    "_Feature"
   ],
   "window_display": false
  }
 },
 "nbformat": 4,
 "nbformat_minor": 4
}
