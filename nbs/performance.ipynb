{
 "cells": [
  {
   "cell_type": "markdown",
   "metadata": {},
   "source": [
    "# Performance"
   ]
  },
  {
   "cell_type": "markdown",
   "metadata": {},
   "source": [
    "This notebook is intended to demonstrate the performance of AlphaTIMS.\n",
    "It contains the following information:\n",
    "1. [**Samples**](#Samples)\n",
    "2. [**Reading raw Bruker .d folders**](#Reading-raw-Bruker-.d-folders)\n",
    "3. [**Saving HDF files**](#Saving-HDF-files)\n",
    "4. [**Reading HDF files**](#Reading-HDF-files)\n",
    "5. [**Slicing data**](#Slicing-data)"
   ]
  },
  {
   "cell_type": "markdown",
   "metadata": {},
   "source": [
    "The following system was used:"
   ]
  },
  {
   "cell_type": "code",
   "execution_count": 1,
   "metadata": {},
   "outputs": [
    {
     "name": "stdout",
     "output_type": "stream",
     "text": [
      "2021-03-23 13:28:40> Platform information:\n",
      "2021-03-23 13:28:40> system     - Darwin\n",
      "2021-03-23 13:28:40> release    - 19.6.0\n",
      "2021-03-23 13:28:40> version    - 10.15.7\n",
      "2021-03-23 13:28:40> machine    - x86_64\n",
      "2021-03-23 13:28:40> processor  - i386\n",
      "2021-03-23 13:28:40> cpu count  - 8\n",
      "2021-03-23 13:28:40> ram        - 26.2/32.0 Gb (available/total)\n",
      "2021-03-23 13:28:40> \n",
      "2021-03-23 13:28:40> Python information:\n",
      "2021-03-23 13:28:40> Sphinx           - 3.5.1\n",
      "2021-03-23 13:28:40> alphatims        - 0.1.210323\n",
      "2021-03-23 13:28:40> autodocsumm      - 0.2.2\n",
      "2021-03-23 13:28:40> bokeh            - 2.2.3\n",
      "2021-03-23 13:28:40> click            - 7.1.2\n",
      "2021-03-23 13:28:40> datashader       - 0.11.1\n",
      "2021-03-23 13:28:40> h5py             - 3.2.1\n",
      "2021-03-23 13:28:40> holoviews        - 1.13.5\n",
      "2021-03-23 13:28:40> holoviz          - 0.11.6\n",
      "2021-03-23 13:28:40> ipykernel        - 5.5.0\n",
      "2021-03-23 13:28:40> jupyter          - 1.0.0\n",
      "2021-03-23 13:28:40> matplotlib       - 3.3.4\n",
      "2021-03-23 13:28:40> numba            - 0.53.0\n",
      "2021-03-23 13:28:40> numpy            - 1.20.1\n",
      "2021-03-23 13:28:40> pandas           - 1.2.3\n",
      "2021-03-23 13:28:40> panel            - 0.10.3\n",
      "2021-03-23 13:28:40> plotly           - 4.12.0\n",
      "2021-03-23 13:28:40> psutil           - 5.8.0\n",
      "2021-03-23 13:28:40> pyinstaller      - 4.2\n",
      "2021-03-23 13:28:40> python           - 3.8.8\n",
      "2021-03-23 13:28:40> pywin32          - \n",
      "2021-03-23 13:28:40> pyzstd           - 0.14.3\n",
      "2021-03-23 13:28:40> rise             - 5.7.1\n",
      "2021-03-23 13:28:40> seaborn          - 0.11.0\n",
      "2021-03-23 13:28:40> selenium         - 3.141.0\n",
      "2021-03-23 13:28:40> sphinx-rtd-theme - 0.5.1\n",
      "2021-03-23 13:28:40> tqdm             - 4.59.0\n",
      "2021-03-23 13:28:40> \n"
     ]
    }
   ],
   "source": [
    "import alphatims.utils\n",
    "\n",
    "alphatims.utils.set_threads(8)\n",
    "log_file_name = alphatims.utils.set_logger(\n",
    "    log_file_name=\"performance_log.txt\",\n",
    "    overwrite=True\n",
    ")\n",
    "alphatims.utils.show_platform_info()\n",
    "alphatims.utils.show_python_info()"
   ]
  },
  {
   "cell_type": "markdown",
   "metadata": {},
   "source": [
    "## Samples"
   ]
  },
  {
   "cell_type": "markdown",
   "metadata": {},
   "source": [
    "Five samples are used and compared:"
   ]
  },
  {
   "cell_type": "code",
   "execution_count": 2,
   "metadata": {},
   "outputs": [],
   "source": [
    "file_names = {\n",
    "    \"DDA_6\": \"/Users/swillems/Data/alphatims_testing/20201016_tims03_Evo03_PS_MA_HeLa_200ng_DDA_06-15_5_6min_4cm_S1-A1_1_21717.d\",\n",
    "    \"DIA_6\": \"/Users/swillems/Data/alphatims_testing/20201016_tims03_Evo03_PS_SA_HeLa_200ng_300-1200_2steps_16scans_06-15_5_6min_4cm_S1-A4_1_21720.d\",\n",
    "    \"DDA_21\": \"/Users/swillems/Data/alphatims_testing/20201207_tims03_Evo03_PS_SA_HeLa_200ng_EvoSep_prot_DDA_21min_8cm_S1-C10_1_22476.d\",\n",
    "    \"DIA_21\": \"/Users/swillems/Data/alphatims_testing/20201207_tims03_Evo03_PS_SA_HeLa_200ng_EvoSep_prot_high_speed_21min_8cm_S1-C8_1_22474.d\",\n",
    "    \"DDA_120\": \"/Users/swillems/Data/alphatims_testing/HeLa_200ng_1428.d\"\n",
    "}"
   ]
  },
  {
   "cell_type": "markdown",
   "metadata": {},
   "source": [
    "We first load all these files to show their basic statistics before we do the actual timing:"
   ]
  },
  {
   "cell_type": "code",
   "execution_count": 3,
   "metadata": {},
   "outputs": [
    {
     "name": "stdout",
     "output_type": "stream",
     "text": [
      "2021-03-23 13:28:40> WARNING: No Bruker libraries are available for this operating system. Intensities are uncalibrated, resulting in (very) small differences. However, mobility and m/z values need to be estimated. While this estimation often returns acceptable results with errors < 0.02 Th, huge errors (e.g. offsets of 6 Th) have already been observed for some samples!\n",
      "2021-03-23 13:28:40> \n",
      "2021-03-23 13:28:41> Initial loading of DDA_6\n",
      "2021-03-23 13:28:41> Importing data from /Users/swillems/Data/alphatims_testing/20201016_tims03_Evo03_PS_MA_HeLa_200ng_DDA_06-15_5_6min_4cm_S1-A1_1_21717.d\n",
      "2021-03-23 13:28:41> Reading frame metadata for /Users/swillems/Data/alphatims_testing/20201016_tims03_Evo03_PS_MA_HeLa_200ng_DDA_06-15_5_6min_4cm_S1-A1_1_21717.d\n",
      "2021-03-23 13:28:41> Reading 2,978 frames with 214,172,697 detector strikes for /Users/swillems/Data/alphatims_testing/20201016_tims03_Evo03_PS_MA_HeLa_200ng_DDA_06-15_5_6min_4cm_S1-A1_1_21717.d\n"
     ]
    },
    {
     "name": "stderr",
     "output_type": "stream",
     "text": [
      "100%|██████████| 2978/2978 [00:01<00:00, 2501.77it/s]"
     ]
    },
    {
     "name": "stdout",
     "output_type": "stream",
     "text": [
      "2021-03-23 13:28:43> Indexing /Users/swillems/Data/alphatims_testing/20201016_tims03_Evo03_PS_MA_HeLa_200ng_DDA_06-15_5_6min_4cm_S1-A1_1_21717.d...\n"
     ]
    },
    {
     "name": "stderr",
     "output_type": "stream",
     "text": [
      "\n"
     ]
    },
    {
     "name": "stdout",
     "output_type": "stream",
     "text": [
      "2021-03-23 13:28:43> Succesfully imported data from /Users/swillems/Data/alphatims_testing/20201016_tims03_Evo03_PS_MA_HeLa_200ng_DDA_06-15_5_6min_4cm_S1-A1_1_21717.d\n",
      "2021-03-23 13:28:43> \n",
      "2021-03-23 13:28:43> Initial loading of DIA_6\n",
      "2021-03-23 13:28:43> Importing data from /Users/swillems/Data/alphatims_testing/20201016_tims03_Evo03_PS_SA_HeLa_200ng_300-1200_2steps_16scans_06-15_5_6min_4cm_S1-A4_1_21720.d\n",
      "2021-03-23 13:28:43> Reading frame metadata for /Users/swillems/Data/alphatims_testing/20201016_tims03_Evo03_PS_SA_HeLa_200ng_300-1200_2steps_16scans_06-15_5_6min_4cm_S1-A4_1_21720.d\n",
      "2021-03-23 13:28:43> Reading 3,182 frames with 158,552,099 detector strikes for /Users/swillems/Data/alphatims_testing/20201016_tims03_Evo03_PS_SA_HeLa_200ng_300-1200_2steps_16scans_06-15_5_6min_4cm_S1-A4_1_21720.d\n"
     ]
    },
    {
     "name": "stderr",
     "output_type": "stream",
     "text": [
      "100%|██████████| 3182/3182 [00:00<00:00, 3397.25it/s]\n"
     ]
    },
    {
     "name": "stdout",
     "output_type": "stream",
     "text": [
      "2021-03-23 13:28:44> Indexing /Users/swillems/Data/alphatims_testing/20201016_tims03_Evo03_PS_SA_HeLa_200ng_300-1200_2steps_16scans_06-15_5_6min_4cm_S1-A4_1_21720.d...\n",
      "2021-03-23 13:28:44> Succesfully imported data from /Users/swillems/Data/alphatims_testing/20201016_tims03_Evo03_PS_SA_HeLa_200ng_300-1200_2steps_16scans_06-15_5_6min_4cm_S1-A4_1_21720.d\n",
      "2021-03-23 13:28:44> \n",
      "2021-03-23 13:28:44> Initial loading of DDA_21\n",
      "2021-03-23 13:28:44> Importing data from /Users/swillems/Data/alphatims_testing/20201207_tims03_Evo03_PS_SA_HeLa_200ng_EvoSep_prot_DDA_21min_8cm_S1-C10_1_22476.d\n",
      "2021-03-23 13:28:44> Reading frame metadata for /Users/swillems/Data/alphatims_testing/20201207_tims03_Evo03_PS_SA_HeLa_200ng_EvoSep_prot_DDA_21min_8cm_S1-C10_1_22476.d\n",
      "2021-03-23 13:28:44> Reading 11,886 frames with 295,251,252 detector strikes for /Users/swillems/Data/alphatims_testing/20201207_tims03_Evo03_PS_SA_HeLa_200ng_EvoSep_prot_DDA_21min_8cm_S1-C10_1_22476.d\n"
     ]
    },
    {
     "name": "stderr",
     "output_type": "stream",
     "text": [
      "100%|██████████| 11886/11886 [00:02<00:00, 5499.04it/s]\n"
     ]
    },
    {
     "name": "stdout",
     "output_type": "stream",
     "text": [
      "2021-03-23 13:28:47> Indexing /Users/swillems/Data/alphatims_testing/20201207_tims03_Evo03_PS_SA_HeLa_200ng_EvoSep_prot_DDA_21min_8cm_S1-C10_1_22476.d...\n",
      "2021-03-23 13:28:47> Succesfully imported data from /Users/swillems/Data/alphatims_testing/20201207_tims03_Evo03_PS_SA_HeLa_200ng_EvoSep_prot_DDA_21min_8cm_S1-C10_1_22476.d\n",
      "2021-03-23 13:28:47> \n",
      "2021-03-23 13:28:47> Initial loading of DIA_21\n",
      "2021-03-23 13:28:47> Importing data from /Users/swillems/Data/alphatims_testing/20201207_tims03_Evo03_PS_SA_HeLa_200ng_EvoSep_prot_high_speed_21min_8cm_S1-C8_1_22474.d\n",
      "2021-03-23 13:28:47> Reading frame metadata for /Users/swillems/Data/alphatims_testing/20201207_tims03_Evo03_PS_SA_HeLa_200ng_EvoSep_prot_high_speed_21min_8cm_S1-C8_1_22474.d\n",
      "2021-03-23 13:28:47> Reading 11,868 frames with 730,564,765 detector strikes for /Users/swillems/Data/alphatims_testing/20201207_tims03_Evo03_PS_SA_HeLa_200ng_EvoSep_prot_high_speed_21min_8cm_S1-C8_1_22474.d\n"
     ]
    },
    {
     "name": "stderr",
     "output_type": "stream",
     "text": [
      "100%|██████████| 11868/11868 [00:04<00:00, 2901.68it/s]"
     ]
    },
    {
     "name": "stdout",
     "output_type": "stream",
     "text": [
      "2021-03-23 13:28:51> Indexing /Users/swillems/Data/alphatims_testing/20201207_tims03_Evo03_PS_SA_HeLa_200ng_EvoSep_prot_high_speed_21min_8cm_S1-C8_1_22474.d...\n"
     ]
    },
    {
     "name": "stderr",
     "output_type": "stream",
     "text": [
      "\n"
     ]
    },
    {
     "name": "stdout",
     "output_type": "stream",
     "text": [
      "2021-03-23 13:28:52> Succesfully imported data from /Users/swillems/Data/alphatims_testing/20201207_tims03_Evo03_PS_SA_HeLa_200ng_EvoSep_prot_high_speed_21min_8cm_S1-C8_1_22474.d\n",
      "2021-03-23 13:28:52> \n",
      "2021-03-23 13:28:52> Initial loading of DDA_120\n",
      "2021-03-23 13:28:52> Importing data from /Users/swillems/Data/alphatims_testing/HeLa_200ng_1428.d\n",
      "2021-03-23 13:28:52> Reading frame metadata for /Users/swillems/Data/alphatims_testing/HeLa_200ng_1428.d\n",
      "2021-03-23 13:28:58> Reading 68,114 frames with 2,074,019,899 detector strikes for /Users/swillems/Data/alphatims_testing/HeLa_200ng_1428.d\n"
     ]
    },
    {
     "name": "stderr",
     "output_type": "stream",
     "text": [
      "100%|██████████| 68114/68114 [00:15<00:00, 4453.24it/s]\n"
     ]
    },
    {
     "name": "stdout",
     "output_type": "stream",
     "text": [
      "2021-03-23 13:29:14> Indexing /Users/swillems/Data/alphatims_testing/HeLa_200ng_1428.d...\n",
      "2021-03-23 13:29:17> Succesfully imported data from /Users/swillems/Data/alphatims_testing/HeLa_200ng_1428.d\n",
      "2021-03-23 13:29:17> \n"
     ]
    }
   ],
   "source": [
    "import logging\n",
    "import alphatims.bruker\n",
    "\n",
    "timstof_objects = {}\n",
    "for sample_id, file_name in file_names.items():\n",
    "    logging.info(f\"Initial loading of {sample_id}\")\n",
    "    timstof_objects[sample_id] = alphatims.bruker.TimsTOF(file_name)\n",
    "    logging.info(\"\")"
   ]
  },
  {
   "cell_type": "markdown",
   "metadata": {},
   "source": [
    "In summary, we thus consider the following samples:"
   ]
  },
  {
   "cell_type": "markdown",
   "metadata": {},
   "source": [
    "| type | gradient | datapoints    | sample_id |\n",
    "|------|----------|---------------|-----------|\n",
    "| DDA  | 6 min    | 214,172,697   | DDA_6     |\n",
    "| DIA  | 6 min    | 158,552,099   | DIA_6     |\n",
    "| DDA  | 21 min   | 295,251,252   | DDA_21    |\n",
    "| DIA  | 21 min   | 730,564,765   | DIA_21    |\n",
    "| DDA  | 120 min  | 2,074,019,899 | DDA_120   |"
   ]
  },
  {
   "cell_type": "markdown",
   "metadata": {},
   "source": [
    "## Reading raw Bruker .d folders"
   ]
  },
  {
   "cell_type": "markdown",
   "metadata": {},
   "source": [
    "To avoid unwanted system inferences, we perform a `timeit` function to get a robust estimate of loading times for raw Bruker .d folders:"
   ]
  },
  {
   "cell_type": "code",
   "execution_count": 4,
   "metadata": {},
   "outputs": [
    {
     "name": "stdout",
     "output_type": "stream",
     "text": [
      "Time to load DDA_6 raw Bruker .d folder:\n",
      "1.48 s ± 25.3 ms per loop (mean ± std. dev. of 7 runs, 1 loop each)\n",
      "\n",
      "Time to load DIA_6 raw Bruker .d folder:\n",
      "1.06 s ± 7.01 ms per loop (mean ± std. dev. of 7 runs, 1 loop each)\n",
      "\n",
      "Time to load DDA_21 raw Bruker .d folder:\n",
      "3.07 s ± 67.1 ms per loop (mean ± std. dev. of 7 runs, 1 loop each)\n",
      "\n",
      "Time to load DIA_21 raw Bruker .d folder:\n",
      "5.24 s ± 281 ms per loop (mean ± std. dev. of 7 runs, 1 loop each)\n",
      "\n",
      "Time to load DDA_120 raw Bruker .d folder:\n",
      "23.2 s ± 3.07 s per loop (mean ± std. dev. of 7 runs, 1 loop each)\n",
      "\n"
     ]
    }
   ],
   "source": [
    "alphatims.utils.set_logger(stream=False)\n",
    "for sample_id, file_name in file_names.items():\n",
    "    print(f\"Time to load {sample_id} raw Bruker .d folder:\")\n",
    "    %timeit tmp = alphatims.bruker.TimsTOF(file_name)\n",
    "    print(\"\")"
   ]
  },
  {
   "cell_type": "markdown",
   "metadata": {},
   "source": [
    "## Saving HDF files"
   ]
  },
  {
   "cell_type": "markdown",
   "metadata": {},
   "source": [
    "Each of the data files can also be exported to HDF files:"
   ]
  },
  {
   "cell_type": "code",
   "execution_count": 5,
   "metadata": {},
   "outputs": [
    {
     "name": "stdout",
     "output_type": "stream",
     "text": [
      "Time to export DDA_6 to HDF file:\n"
     ]
    },
    {
     "name": "stderr",
     "output_type": "stream",
     "text": [
      "/Users/swillems/Documents/software/alphatims/alphatims/bruker.py:957: UserWarning: swmr=True only affects read ('r') mode. For swmr write mode, set f.swmr_mode = True after opening the file.\n",
      "  with h5py.File(full_file_name, hdf_mode, swmr=True) as hdf_root:\n"
     ]
    },
    {
     "name": "stdout",
     "output_type": "stream",
     "text": [
      "569 ms ± 41.7 ms per loop (mean ± std. dev. of 7 runs, 1 loop each)\n",
      "\n",
      "Time to export DIA_6 to HDF file:\n",
      "409 ms ± 36.6 ms per loop (mean ± std. dev. of 7 runs, 1 loop each)\n",
      "\n",
      "Time to export DDA_21 to HDF file:\n",
      "779 ms ± 50.8 ms per loop (mean ± std. dev. of 7 runs, 1 loop each)\n",
      "\n",
      "Time to export DIA_21 to HDF file:\n",
      "1.79 s ± 73.8 ms per loop (mean ± std. dev. of 7 runs, 1 loop each)\n",
      "\n",
      "Time to export DDA_120 to HDF file:\n",
      "4.94 s ± 108 ms per loop (mean ± std. dev. of 7 runs, 1 loop each)\n",
      "\n"
     ]
    }
   ],
   "source": [
    "for sample_id, data in timstof_objects.items():\n",
    "    print(f\"Time to export {sample_id} to HDF file:\")\n",
    "    path = data.directory\n",
    "    file_name = f\"{data.sample_name}.hdf\"\n",
    "    %timeit tmp = data.save_as_hdf(path, file_name, overwrite=True)\n",
    "    print(\"\")"
   ]
  },
  {
   "cell_type": "markdown",
   "metadata": {},
   "source": [
    "## Reading HDF files"
   ]
  },
  {
   "cell_type": "markdown",
   "metadata": {},
   "source": [
    "Once these HDF files are created, they can be loaded much faster than raw Bruker .d folders:"
   ]
  },
  {
   "cell_type": "code",
   "execution_count": 6,
   "metadata": {},
   "outputs": [
    {
     "name": "stdout",
     "output_type": "stream",
     "text": [
      "Time to load DDA_6 HDF file:\n",
      "445 ms ± 5.27 ms per loop (mean ± std. dev. of 7 runs, 1 loop each)\n",
      "\n",
      "Time to load DIA_6 HDF file:\n",
      "295 ms ± 1.74 ms per loop (mean ± std. dev. of 7 runs, 1 loop each)\n",
      "\n",
      "Time to load DDA_21 HDF file:\n",
      "755 ms ± 40 ms per loop (mean ± std. dev. of 7 runs, 1 loop each)\n",
      "\n",
      "Time to load DIA_21 HDF file:\n",
      "1.9 s ± 164 ms per loop (mean ± std. dev. of 7 runs, 1 loop each)\n",
      "\n",
      "Time to load DDA_120 HDF file:\n",
      "10.1 s ± 133 ms per loop (mean ± std. dev. of 7 runs, 1 loop each)\n",
      "\n"
     ]
    }
   ],
   "source": [
    "import os\n",
    "for sample_id, data in timstof_objects.items():\n",
    "    print(f\"Time to load {sample_id} HDF file:\")\n",
    "    file_name = os.path.join(data.directory, f\"{data.sample_name}.hdf\")\n",
    "    %timeit tmp = alphatims.bruker.TimsTOF(file_name)\n",
    "    print(\"\")"
   ]
  },
  {
   "cell_type": "markdown",
   "metadata": {},
   "source": [
    "## Slicing data"
   ]
  },
  {
   "cell_type": "markdown",
   "metadata": {},
   "source": [
    "Lastly, we can slice this data. Since this uses Numba JIT compilation, we first compile the relevant functions with an initial slice call:"
   ]
  },
  {
   "cell_type": "code",
   "execution_count": 7,
   "metadata": {},
   "outputs": [],
   "source": [
    "tmp = timstof_objects[\"DDA_6\"][0]"
   ]
  },
  {
   "cell_type": "markdown",
   "metadata": {},
   "source": [
    "Now we can time how long it takes to slice in different dimensions:\n",
    "   * **LC:** $100.0 \\leq \\textrm{retention_time} \\lt 100.5$\n",
    "   * **TIMS:** $\\textrm{scan_index} = 450$\n",
    "   * **Quadrupole:** $700.0 \\leq \\textrm{quad_mz_values} \\lt 710.0$\n",
    "   * **TOF:** $621.9 \\leq \\textrm{tof_mz_values} \\lt 622.1$"
   ]
  },
  {
   "cell_type": "code",
   "execution_count": 8,
   "metadata": {},
   "outputs": [
    {
     "name": "stdout",
     "output_type": "stream",
     "text": [
      "Time to slice DDA_6:\n",
      "Testing slice data[100.0: 100.5]\n",
      "1.85 ms ± 67.3 µs per loop (mean ± std. dev. of 7 runs, 1000 loops each)\n",
      "Testing slice data[:, 450]\n",
      "48 ms ± 12 ms per loop (mean ± std. dev. of 7 runs, 1 loop each)\n",
      "Testing slice data[:, :, 700.0: 710]\n",
      "27.1 ms ± 3.69 ms per loop (mean ± std. dev. of 7 runs, 10 loops each)\n",
      "Testing slice data[:, :, :, 621.9: 622.1]\n",
      "89.7 ms ± 1.92 ms per loop (mean ± std. dev. of 7 runs, 1 loop each)\n",
      "\n",
      "Time to slice DIA_6:\n",
      "Testing slice data[100.0: 100.5]\n",
      "7.35 ms ± 803 µs per loop (mean ± std. dev. of 7 runs, 100 loops each)\n",
      "Testing slice data[:, 450]\n",
      "24.1 ms ± 733 µs per loop (mean ± std. dev. of 7 runs, 1 loop each)\n",
      "Testing slice data[:, :, 700.0: 710]\n",
      "649 ms ± 17 ms per loop (mean ± std. dev. of 7 runs, 1 loop each)\n",
      "Testing slice data[:, :, :, 621.9: 622.1]\n",
      "110 ms ± 3.98 ms per loop (mean ± std. dev. of 7 runs, 1 loop each)\n",
      "\n",
      "Time to slice DDA_21:\n",
      "Testing slice data[100.0: 100.5]\n",
      "2.17 ms ± 267 µs per loop (mean ± std. dev. of 7 runs, 100 loops each)\n",
      "Testing slice data[:, 450]\n",
      "68.3 ms ± 6.7 ms per loop (mean ± std. dev. of 7 runs, 1 loop each)\n",
      "Testing slice data[:, :, 700.0: 710]\n",
      "106 ms ± 6.2 ms per loop (mean ± std. dev. of 7 runs, 10 loops each)\n",
      "Testing slice data[:, :, :, 621.9: 622.1]\n",
      "181 ms ± 8.26 ms per loop (mean ± std. dev. of 7 runs, 1 loop each)\n",
      "\n",
      "Time to slice DIA_21:\n",
      "Testing slice data[100.0: 100.5]\n",
      "860 µs ± 20.1 µs per loop (mean ± std. dev. of 7 runs, 1000 loops each)\n",
      "Testing slice data[:, 450]\n",
      "123 ms ± 3.59 ms per loop (mean ± std. dev. of 7 runs, 1 loop each)\n",
      "Testing slice data[:, :, 700.0: 710]\n",
      "4.91 s ± 157 ms per loop (mean ± std. dev. of 7 runs, 1 loop each)\n",
      "Testing slice data[:, :, :, 621.9: 622.1]\n",
      "392 ms ± 6.8 ms per loop (mean ± std. dev. of 7 runs, 1 loop each)\n",
      "\n",
      "Time to slice DDA_120:\n",
      "Testing slice data[100.0: 100.5]\n",
      "671 µs ± 6.51 µs per loop (mean ± std. dev. of 7 runs, 1000 loops each)\n",
      "Testing slice data[:, 450]\n",
      "338 ms ± 7.72 ms per loop (mean ± std. dev. of 7 runs, 1 loop each)\n",
      "Testing slice data[:, :, 700.0: 710]\n",
      "557 ms ± 6.78 ms per loop (mean ± std. dev. of 7 runs, 1 loop each)\n",
      "Testing slice data[:, :, :, 621.9: 622.1]\n",
      "1.1 s ± 11.3 ms per loop (mean ± std. dev. of 7 runs, 1 loop each)\n",
      "\n"
     ]
    }
   ],
   "source": [
    "import os\n",
    "for sample_id, data in timstof_objects.items():\n",
    "    print(f\"Time to slice {sample_id}:\")\n",
    "    \n",
    "    print(\"Testing slice data[100.0: 100.5]\")\n",
    "    %timeit tmp = data[100.:100.5]\n",
    "    \n",
    "    print(\"Testing slice data[:, 450]\")\n",
    "    %timeit tmp = data[:, 450]\n",
    "    \n",
    "    print(\"Testing slice data[:, :, 700.0: 710]\")\n",
    "    %timeit tmp = data[:, :, 700.0: 710]\n",
    "    \n",
    "    print(\"Testing slice data[:, :, :, 621.9: 622.1]\")\n",
    "    %timeit tmp = data[:, :, :, 621.9: 622.1]\n",
    "    \n",
    "    print(\"\")"
   ]
  },
  {
   "cell_type": "code",
   "execution_count": null,
   "metadata": {},
   "outputs": [],
   "source": []
  }
 ],
 "metadata": {
  "kernelspec": {
   "display_name": "Python [conda env:alphatims]",
   "language": "python",
   "name": "conda-env-alphatims-py"
  },
  "language_info": {
   "codemirror_mode": {
    "name": "ipython",
    "version": 3
   },
   "file_extension": ".py",
   "mimetype": "text/x-python",
   "name": "python",
   "nbconvert_exporter": "python",
   "pygments_lexer": "ipython3",
   "version": "3.8.8"
  },
  "toc": {
   "base_numbering": 1,
   "nav_menu": {},
   "number_sections": true,
   "sideBar": true,
   "skip_h1_title": false,
   "title_cell": "Table of Contents",
   "title_sidebar": "Contents",
   "toc_cell": false,
   "toc_position": {},
   "toc_section_display": true,
   "toc_window_display": false
  },
  "varInspector": {
   "cols": {
    "lenName": 16,
    "lenType": 16,
    "lenVar": 40
   },
   "kernels_config": {
    "python": {
     "delete_cmd_postfix": "",
     "delete_cmd_prefix": "del ",
     "library": "var_list.py",
     "varRefreshCmd": "print(var_dic_list())"
    },
    "r": {
     "delete_cmd_postfix": ") ",
     "delete_cmd_prefix": "rm(",
     "library": "var_list.r",
     "varRefreshCmd": "cat(var_dic_list()) "
    }
   },
   "types_to_exclude": [
    "module",
    "function",
    "builtin_function_or_method",
    "instance",
    "_Feature"
   ],
   "window_display": false
  }
 },
 "nbformat": 4,
 "nbformat_minor": 4
}
