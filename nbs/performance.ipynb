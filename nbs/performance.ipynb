{
 "cells": [
  {
   "cell_type": "markdown",
   "metadata": {},
   "source": [
    "# Performance"
   ]
  },
  {
   "cell_type": "markdown",
   "metadata": {},
   "source": [
    "This notebook is intended to demonstrate the performance of AlphaTIMS.\n",
    "It contains the following information:\n",
    "1. [**Samples**](#Samples)\n",
    "2. [**Reading raw Bruker .d folders**](#Reading-raw-Bruker-.d-folders)\n",
    "3. [**Saving HDF files**](#Saving-HDF-files)\n",
    "4. [**Reading HDF files**](#Reading-HDF-files)\n",
    "5. [**Slicing data**](#Slicing-data)\n",
    "6. [**Final overview**](#Final-overview)"
   ]
  },
  {
   "cell_type": "markdown",
   "metadata": {},
   "source": [
    "The following system was used:"
   ]
  },
  {
   "cell_type": "code",
   "execution_count": 1,
   "metadata": {},
   "outputs": [
    {
     "name": "stdout",
     "output_type": "stream",
     "text": [
      "2021-04-22 13:40:30> Platform information:\n",
      "2021-04-22 13:40:30> system     - Darwin\n",
      "2021-04-22 13:40:30> release    - 19.6.0\n",
      "2021-04-22 13:40:30> version    - 10.15.7\n",
      "2021-04-22 13:40:30> machine    - x86_64\n",
      "2021-04-22 13:40:30> processor  - i386\n",
      "2021-04-22 13:40:30> cpu count  - 8\n",
      "2021-04-22 13:40:30> ram        - 26.8/32.0 Gb (available/total)\n",
      "2021-04-22 13:40:30> \n",
      "2021-04-22 13:40:30> Python information:\n",
      "2021-04-22 13:40:30> alphatims  - 0.2.5\n",
      "2021-04-22 13:40:30> bokeh      - 2.2.3\n",
      "2021-04-22 13:40:30> click      - 7.1.2\n",
      "2021-04-22 13:40:30> datashader - 0.12.1\n",
      "2021-04-22 13:40:30> h5py       - 3.2.1\n",
      "2021-04-22 13:40:30> hvplot     - 0.7.1\n",
      "2021-04-22 13:40:30> numba      - 0.53.1\n",
      "2021-04-22 13:40:30> pandas     - 1.2.3\n",
      "2021-04-22 13:40:30> psutil     - 5.8.0\n",
      "2021-04-22 13:40:30> python     - 3.8.8\n",
      "2021-04-22 13:40:30> pyzstd     - 0.14.4\n",
      "2021-04-22 13:40:30> selenium   - 3.141.0\n",
      "2021-04-22 13:40:30> tqdm       - 4.59.0\n",
      "2021-04-22 13:40:30> \n"
     ]
    }
   ],
   "source": [
    "import alphatims.utils\n",
    "import pandas as pd\n",
    "import numpy as np\n",
    "\n",
    "alphatims.utils.set_threads(8)\n",
    "log_file_name = alphatims.utils.set_logger(\n",
    "    log_file_name=\"performance_log.txt\",\n",
    "    overwrite=True\n",
    ")\n",
    "alphatims.utils.show_platform_info()\n",
    "alphatims.utils.show_python_info()\n",
    "alphatims.utils.set_progress_callback(None)"
   ]
  },
  {
   "cell_type": "markdown",
   "metadata": {},
   "source": [
    "## Samples"
   ]
  },
  {
   "cell_type": "markdown",
   "metadata": {},
   "source": [
    "Five samples are used and compared:"
   ]
  },
  {
   "cell_type": "code",
   "execution_count": 2,
   "metadata": {},
   "outputs": [],
   "source": [
    "file_names = {\n",
    "    \"DDA_6\": \"/Users/swillems/Data/alphatims_testing/20201016_tims03_Evo03_PS_MA_HeLa_200ng_DDA_06-15_5_6min_4cm_S1-A1_1_21717.d\",\n",
    "    \"DIA_6\": \"/Users/swillems/Data/alphatims_testing/20201016_tims03_Evo03_PS_SA_HeLa_200ng_300-1200_2steps_16scans_06-15_5_6min_4cm_S1-A4_1_21720.d\",\n",
    "    \"DDA_21\": \"/Users/swillems/Data/alphatims_testing/20201207_tims03_Evo03_PS_SA_HeLa_200ng_EvoSep_prot_DDA_21min_8cm_S1-C10_1_22476.d\",\n",
    "    \"DIA_21\": \"/Users/swillems/Data/alphatims_testing/20201207_tims03_Evo03_PS_SA_HeLa_200ng_EvoSep_prot_high_speed_21min_8cm_S1-C8_1_22474.d\",\n",
    "    \"DDA_120\": \"/Users/swillems/Data/alphatims_testing/HeLa_200ng_1428.d\"\n",
    "}\n",
    "overview = pd.DataFrame(index=file_names.keys())\n",
    "overview[\"Type\"] = pd.Series({x: x.split(\"_\")[0] for x in file_names})\n",
    "overview[\"Gradient (min)\"] = pd.Series({x: x.split(\"_\")[1] for x in file_names})"
   ]
  },
  {
   "cell_type": "markdown",
   "metadata": {},
   "source": [
    "We first load all these files to show their basic statistics before we do the actual timing:"
   ]
  },
  {
   "cell_type": "code",
   "execution_count": 3,
   "metadata": {},
   "outputs": [
    {
     "name": "stdout",
     "output_type": "stream",
     "text": [
      "2021-04-22 13:40:30> WARNING: No Bruker libraries are available for this operating system. Intensities are uncalibrated, resulting in (very) small differences. However, mobility and m/z values need to be estimated. While this estimation often returns acceptable results with errors < 0.02 Th, huge errors (e.g. offsets of 6 Th) have already been observed for some samples!\n",
      "2021-04-22 13:40:30> \n",
      "2021-04-22 13:40:31> Initial loading of DDA_6\n",
      "2021-04-22 13:40:31> Importing data from /Users/swillems/Data/alphatims_testing/20201016_tims03_Evo03_PS_MA_HeLa_200ng_DDA_06-15_5_6min_4cm_S1-A1_1_21717.d\n",
      "2021-04-22 13:40:31> Reading frame metadata for /Users/swillems/Data/alphatims_testing/20201016_tims03_Evo03_PS_MA_HeLa_200ng_DDA_06-15_5_6min_4cm_S1-A1_1_21717.d\n",
      "2021-04-22 13:40:31> Reading 2,978 frames with 214,172,697 detector strikes for /Users/swillems/Data/alphatims_testing/20201016_tims03_Evo03_PS_MA_HeLa_200ng_DDA_06-15_5_6min_4cm_S1-A1_1_21717.d\n",
      "2021-04-22 13:40:33> Indexing /Users/swillems/Data/alphatims_testing/20201016_tims03_Evo03_PS_MA_HeLa_200ng_DDA_06-15_5_6min_4cm_S1-A1_1_21717.d...\n",
      "2021-04-22 13:40:33> Succesfully imported data from /Users/swillems/Data/alphatims_testing/20201016_tims03_Evo03_PS_MA_HeLa_200ng_DDA_06-15_5_6min_4cm_S1-A1_1_21717.d\n",
      "2021-04-22 13:40:33> \n",
      "2021-04-22 13:40:33> Initial loading of DIA_6\n",
      "2021-04-22 13:40:33> Importing data from /Users/swillems/Data/alphatims_testing/20201016_tims03_Evo03_PS_SA_HeLa_200ng_300-1200_2steps_16scans_06-15_5_6min_4cm_S1-A4_1_21720.d\n",
      "2021-04-22 13:40:33> Reading frame metadata for /Users/swillems/Data/alphatims_testing/20201016_tims03_Evo03_PS_SA_HeLa_200ng_300-1200_2steps_16scans_06-15_5_6min_4cm_S1-A4_1_21720.d\n",
      "2021-04-22 13:40:33> Reading 3,182 frames with 158,552,099 detector strikes for /Users/swillems/Data/alphatims_testing/20201016_tims03_Evo03_PS_SA_HeLa_200ng_300-1200_2steps_16scans_06-15_5_6min_4cm_S1-A4_1_21720.d\n",
      "2021-04-22 13:40:34> Indexing /Users/swillems/Data/alphatims_testing/20201016_tims03_Evo03_PS_SA_HeLa_200ng_300-1200_2steps_16scans_06-15_5_6min_4cm_S1-A4_1_21720.d...\n",
      "2021-04-22 13:40:34> Succesfully imported data from /Users/swillems/Data/alphatims_testing/20201016_tims03_Evo03_PS_SA_HeLa_200ng_300-1200_2steps_16scans_06-15_5_6min_4cm_S1-A4_1_21720.d\n",
      "2021-04-22 13:40:34> \n",
      "2021-04-22 13:40:34> Initial loading of DDA_21\n",
      "2021-04-22 13:40:34> Importing data from /Users/swillems/Data/alphatims_testing/20201207_tims03_Evo03_PS_SA_HeLa_200ng_EvoSep_prot_DDA_21min_8cm_S1-C10_1_22476.d\n",
      "2021-04-22 13:40:34> Reading frame metadata for /Users/swillems/Data/alphatims_testing/20201207_tims03_Evo03_PS_SA_HeLa_200ng_EvoSep_prot_DDA_21min_8cm_S1-C10_1_22476.d\n",
      "2021-04-22 13:40:35> Reading 11,886 frames with 295,251,252 detector strikes for /Users/swillems/Data/alphatims_testing/20201207_tims03_Evo03_PS_SA_HeLa_200ng_EvoSep_prot_DDA_21min_8cm_S1-C10_1_22476.d\n",
      "2021-04-22 13:40:38> Indexing /Users/swillems/Data/alphatims_testing/20201207_tims03_Evo03_PS_SA_HeLa_200ng_EvoSep_prot_DDA_21min_8cm_S1-C10_1_22476.d...\n",
      "2021-04-22 13:40:39> Succesfully imported data from /Users/swillems/Data/alphatims_testing/20201207_tims03_Evo03_PS_SA_HeLa_200ng_EvoSep_prot_DDA_21min_8cm_S1-C10_1_22476.d\n",
      "2021-04-22 13:40:39> \n",
      "2021-04-22 13:40:39> Initial loading of DIA_21\n",
      "2021-04-22 13:40:39> Importing data from /Users/swillems/Data/alphatims_testing/20201207_tims03_Evo03_PS_SA_HeLa_200ng_EvoSep_prot_high_speed_21min_8cm_S1-C8_1_22474.d\n",
      "2021-04-22 13:40:39> Reading frame metadata for /Users/swillems/Data/alphatims_testing/20201207_tims03_Evo03_PS_SA_HeLa_200ng_EvoSep_prot_high_speed_21min_8cm_S1-C8_1_22474.d\n",
      "2021-04-22 13:40:39> Reading 11,868 frames with 730,564,765 detector strikes for /Users/swillems/Data/alphatims_testing/20201207_tims03_Evo03_PS_SA_HeLa_200ng_EvoSep_prot_high_speed_21min_8cm_S1-C8_1_22474.d\n",
      "2021-04-22 13:40:44> Indexing /Users/swillems/Data/alphatims_testing/20201207_tims03_Evo03_PS_SA_HeLa_200ng_EvoSep_prot_high_speed_21min_8cm_S1-C8_1_22474.d...\n",
      "2021-04-22 13:40:44> Succesfully imported data from /Users/swillems/Data/alphatims_testing/20201207_tims03_Evo03_PS_SA_HeLa_200ng_EvoSep_prot_high_speed_21min_8cm_S1-C8_1_22474.d\n",
      "2021-04-22 13:40:44> \n",
      "2021-04-22 13:40:44> Initial loading of DDA_120\n",
      "2021-04-22 13:40:44> Importing data from /Users/swillems/Data/alphatims_testing/HeLa_200ng_1428.d\n",
      "2021-04-22 13:40:44> Reading frame metadata for /Users/swillems/Data/alphatims_testing/HeLa_200ng_1428.d\n",
      "2021-04-22 13:40:50> Reading 68,114 frames with 2,074,019,899 detector strikes for /Users/swillems/Data/alphatims_testing/HeLa_200ng_1428.d\n",
      "2021-04-22 13:41:10> Indexing /Users/swillems/Data/alphatims_testing/HeLa_200ng_1428.d...\n",
      "2021-04-22 13:41:13> Succesfully imported data from /Users/swillems/Data/alphatims_testing/HeLa_200ng_1428.d\n",
      "2021-04-22 13:41:13> \n"
     ]
    }
   ],
   "source": [
    "import logging\n",
    "import alphatims.bruker\n",
    "\n",
    "timstof_objects = {}\n",
    "detector_strikes = {}\n",
    "for sample_id, file_name in file_names.items():\n",
    "    logging.info(f\"Initial loading of {sample_id}\")\n",
    "    timstof_objects[sample_id] = alphatims.bruker.TimsTOF(file_name)\n",
    "    detector_strikes[sample_id] = len(timstof_objects[sample_id])\n",
    "    logging.info(\"\")"
   ]
  },
  {
   "cell_type": "code",
   "execution_count": 4,
   "metadata": {},
   "outputs": [],
   "source": [
    "overview[\"Detector strikes\"] = pd.Series(detector_strikes).apply(\n",
    "    lambda x : f\"{x:,}\"\n",
    ")"
   ]
  },
  {
   "cell_type": "markdown",
   "metadata": {},
   "source": [
    "In summary, we thus consider the following samples:"
   ]
  },
  {
   "cell_type": "code",
   "execution_count": 5,
   "metadata": {},
   "outputs": [
    {
     "data": {
      "text/html": [
       "<div>\n",
       "<style scoped>\n",
       "    .dataframe tbody tr th:only-of-type {\n",
       "        vertical-align: middle;\n",
       "    }\n",
       "\n",
       "    .dataframe tbody tr th {\n",
       "        vertical-align: top;\n",
       "    }\n",
       "\n",
       "    .dataframe thead th {\n",
       "        text-align: right;\n",
       "    }\n",
       "</style>\n",
       "<table border=\"1\" class=\"dataframe\">\n",
       "  <thead>\n",
       "    <tr style=\"text-align: right;\">\n",
       "      <th></th>\n",
       "      <th>Type</th>\n",
       "      <th>Gradient (min)</th>\n",
       "      <th>Detector strikes</th>\n",
       "    </tr>\n",
       "  </thead>\n",
       "  <tbody>\n",
       "    <tr>\n",
       "      <th>DDA_6</th>\n",
       "      <td>DDA</td>\n",
       "      <td>6</td>\n",
       "      <td>214,172,697</td>\n",
       "    </tr>\n",
       "    <tr>\n",
       "      <th>DIA_6</th>\n",
       "      <td>DIA</td>\n",
       "      <td>6</td>\n",
       "      <td>158,552,099</td>\n",
       "    </tr>\n",
       "    <tr>\n",
       "      <th>DDA_21</th>\n",
       "      <td>DDA</td>\n",
       "      <td>21</td>\n",
       "      <td>295,251,252</td>\n",
       "    </tr>\n",
       "    <tr>\n",
       "      <th>DIA_21</th>\n",
       "      <td>DIA</td>\n",
       "      <td>21</td>\n",
       "      <td>730,564,765</td>\n",
       "    </tr>\n",
       "    <tr>\n",
       "      <th>DDA_120</th>\n",
       "      <td>DDA</td>\n",
       "      <td>120</td>\n",
       "      <td>2,074,019,899</td>\n",
       "    </tr>\n",
       "  </tbody>\n",
       "</table>\n",
       "</div>"
      ],
      "text/plain": [
       "        Type Gradient (min) Detector strikes\n",
       "DDA_6    DDA              6      214,172,697\n",
       "DIA_6    DIA              6      158,552,099\n",
       "DDA_21   DDA             21      295,251,252\n",
       "DIA_21   DIA             21      730,564,765\n",
       "DDA_120  DDA            120    2,074,019,899"
      ]
     },
     "execution_count": 5,
     "metadata": {},
     "output_type": "execute_result"
    }
   ],
   "source": [
    "overview"
   ]
  },
  {
   "cell_type": "markdown",
   "metadata": {},
   "source": [
    "## Reading raw Bruker .d folders"
   ]
  },
  {
   "cell_type": "markdown",
   "metadata": {},
   "source": [
    "To avoid unwanted system inferences, we perform a `timeit` function to get a robust estimate of loading times for raw Bruker .d folders:"
   ]
  },
  {
   "cell_type": "code",
   "execution_count": 6,
   "metadata": {},
   "outputs": [
    {
     "name": "stdout",
     "output_type": "stream",
     "text": [
      "Time to load DDA_6 raw Bruker .d folder:\n",
      "1.82 s ± 28.5 ms per loop (mean ± std. dev. of 7 runs, 1 loop each)\n",
      "\n",
      "Time to load DIA_6 raw Bruker .d folder:\n",
      "1.24 s ± 18.2 ms per loop (mean ± std. dev. of 7 runs, 1 loop each)\n",
      "\n",
      "Time to load DDA_21 raw Bruker .d folder:\n",
      "3.38 s ± 60.5 ms per loop (mean ± std. dev. of 7 runs, 1 loop each)\n",
      "\n",
      "Time to load DIA_21 raw Bruker .d folder:\n",
      "5.33 s ± 288 ms per loop (mean ± std. dev. of 7 runs, 1 loop each)\n",
      "\n",
      "Time to load DDA_120 raw Bruker .d folder:\n",
      "23.9 s ± 3.06 s per loop (mean ± std. dev. of 7 runs, 1 loop each)\n",
      "\n"
     ]
    }
   ],
   "source": [
    "alphatims.utils.set_logger(stream=False)\n",
    "raw_load_times = {}\n",
    "for sample_id, file_name in file_names.items():\n",
    "    print(f\"Time to load {sample_id} raw Bruker .d folder:\")\n",
    "    raw_load_time = %timeit -o tmp = alphatims.bruker.TimsTOF(file_name)\n",
    "    raw_load_times[sample_id] = np.average(raw_load_time.timings)\n",
    "    print(\"\")\n",
    "overview[\"Load .d (s)\"] = pd.Series(raw_load_times).apply(\n",
    "    lambda x : f\"{x:#.3g}\"\n",
    ")"
   ]
  },
  {
   "cell_type": "code",
   "execution_count": 7,
   "metadata": {},
   "outputs": [],
   "source": [
    "overview[\"Load .d (s)\"] = pd.Series(raw_load_times).apply(\n",
    "    lambda x : f\"{x:#.3g}\"\n",
    ")"
   ]
  },
  {
   "cell_type": "markdown",
   "metadata": {},
   "source": [
    "## Saving HDF files"
   ]
  },
  {
   "cell_type": "markdown",
   "metadata": {},
   "source": [
    "Each of the data files can also be exported to HDF files:"
   ]
  },
  {
   "cell_type": "code",
   "execution_count": 8,
   "metadata": {},
   "outputs": [
    {
     "name": "stdout",
     "output_type": "stream",
     "text": [
      "Time to export DDA_6 to HDF file:\n",
      "572 ms ± 17.1 ms per loop (mean ± std. dev. of 7 runs, 1 loop each)\n",
      "\n",
      "Time to export DIA_6 to HDF file:\n",
      "415 ms ± 23.3 ms per loop (mean ± std. dev. of 7 runs, 1 loop each)\n",
      "\n",
      "Time to export DDA_21 to HDF file:\n",
      "810 ms ± 36.3 ms per loop (mean ± std. dev. of 7 runs, 1 loop each)\n",
      "\n",
      "Time to export DIA_21 to HDF file:\n",
      "1.86 s ± 106 ms per loop (mean ± std. dev. of 7 runs, 1 loop each)\n",
      "\n",
      "Time to export DDA_120 to HDF file:\n",
      "5.18 s ± 166 ms per loop (mean ± std. dev. of 7 runs, 1 loop each)\n",
      "\n"
     ]
    }
   ],
   "source": [
    "save_hdf_times = {}\n",
    "for sample_id, data in timstof_objects.items():\n",
    "    print(f\"Time to export {sample_id} to HDF file:\")\n",
    "    path = data.directory\n",
    "    file_name = f\"{data.sample_name}.hdf\"\n",
    "    save_hdf_time = %timeit -o tmp = data.save_as_hdf(path, file_name, overwrite=True)\n",
    "    save_hdf_times[sample_id] = np.average(save_hdf_time.timings)\n",
    "    print(\"\")"
   ]
  },
  {
   "cell_type": "code",
   "execution_count": 9,
   "metadata": {},
   "outputs": [],
   "source": [
    "overview[\"Save .hdf (s)\"] = pd.Series(save_hdf_times).apply(\n",
    "    lambda x : f\"{x:#.3g}\"\n",
    ")"
   ]
  },
  {
   "cell_type": "markdown",
   "metadata": {},
   "source": [
    "## Reading HDF files"
   ]
  },
  {
   "cell_type": "markdown",
   "metadata": {},
   "source": [
    "Once these HDF files are created, they can be loaded much faster than raw Bruker .d folders:"
   ]
  },
  {
   "cell_type": "code",
   "execution_count": 11,
   "metadata": {},
   "outputs": [
    {
     "name": "stdout",
     "output_type": "stream",
     "text": [
      "Time to load DDA_6 HDF file:\n",
      "508 ms ± 16.6 ms per loop (mean ± std. dev. of 7 runs, 1 loop each)\n",
      "\n",
      "Time to load DIA_6 HDF file:\n",
      "359 ms ± 20.8 ms per loop (mean ± std. dev. of 7 runs, 1 loop each)\n",
      "\n",
      "Time to load DDA_21 HDF file:\n",
      "871 ms ± 51.5 ms per loop (mean ± std. dev. of 7 runs, 1 loop each)\n",
      "\n",
      "Time to load DIA_21 HDF file:\n",
      "2.06 s ± 108 ms per loop (mean ± std. dev. of 7 runs, 1 loop each)\n",
      "\n",
      "Time to load DDA_120 HDF file:\n",
      "10.5 s ± 463 ms per loop (mean ± std. dev. of 7 runs, 1 loop each)\n",
      "\n"
     ]
    }
   ],
   "source": [
    "import os\n",
    "load_hdf_times = {}\n",
    "for sample_id, data in timstof_objects.items():\n",
    "    print(f\"Time to load {sample_id} HDF file:\")\n",
    "    file_name = os.path.join(data.directory, f\"{data.sample_name}.hdf\")\n",
    "    load_hdf_time = %timeit -o tmp = alphatims.bruker.TimsTOF(file_name)\n",
    "    load_hdf_times[sample_id] = np.average(load_hdf_time.timings)\n",
    "    print(\"\")"
   ]
  },
  {
   "cell_type": "code",
   "execution_count": 12,
   "metadata": {},
   "outputs": [],
   "source": [
    "overview[\"Load .hdf (s)\"] = pd.Series(load_hdf_times).apply(\n",
    "    lambda x : f\"{x:#.3g}\"\n",
    ")"
   ]
  },
  {
   "cell_type": "markdown",
   "metadata": {},
   "source": [
    "## Slicing data"
   ]
  },
  {
   "cell_type": "markdown",
   "metadata": {},
   "source": [
    "Lastly, we can slice this data. Since this uses Numba JIT compilation, we first compile the relevant functions with an initial slice call:"
   ]
  },
  {
   "cell_type": "code",
   "execution_count": 13,
   "metadata": {},
   "outputs": [],
   "source": [
    "tmp = timstof_objects[\"DDA_6\"][0]"
   ]
  },
  {
   "cell_type": "markdown",
   "metadata": {},
   "source": [
    "Now we can time how long it takes to slice in different dimensions:\n",
    "   * **LC:** $100.0 \\leq \\textrm{retention_time} \\lt 100.5$\n",
    "   * **TIMS:** $\\textrm{scan_index} = 450$\n",
    "   * **Quadrupole:** $700.0 \\leq \\textrm{quad_mz_values} \\lt 710.0$\n",
    "   * **TOF:** $621.9 \\leq \\textrm{tof_mz_values} \\lt 622.1$"
   ]
  },
  {
   "cell_type": "code",
   "execution_count": 14,
   "metadata": {},
   "outputs": [
    {
     "name": "stdout",
     "output_type": "stream",
     "text": [
      "Time to slice DDA_6:\n",
      "Testing slice data[100.0: 100.5]\n",
      "2 ms ± 142 µs per loop (mean ± std. dev. of 7 runs, 100 loops each)\n",
      "Testing slice data[:, 450]\n",
      "45.7 ms ± 3.52 ms per loop (mean ± std. dev. of 7 runs, 1 loop each)\n",
      "Testing slice data[:, :, 700.0: 710]\n",
      "28.4 ms ± 1.68 ms per loop (mean ± std. dev. of 7 runs, 10 loops each)\n",
      "Testing slice data[:, :, :, 621.9: 622.1]\n",
      "87.5 ms ± 1.05 ms per loop (mean ± std. dev. of 7 runs, 1 loop each)\n",
      "\n",
      "Time to slice DIA_6:\n",
      "Testing slice data[100.0: 100.5]\n",
      "8.47 ms ± 679 µs per loop (mean ± std. dev. of 7 runs, 100 loops each)\n",
      "Testing slice data[:, 450]\n",
      "33.5 ms ± 6.75 ms per loop (mean ± std. dev. of 7 runs, 1 loop each)\n",
      "Testing slice data[:, :, 700.0: 710]\n",
      "734 ms ± 18.5 ms per loop (mean ± std. dev. of 7 runs, 1 loop each)\n",
      "Testing slice data[:, :, :, 621.9: 622.1]\n",
      "106 ms ± 3.83 ms per loop (mean ± std. dev. of 7 runs, 1 loop each)\n",
      "\n",
      "Time to slice DDA_21:\n",
      "Testing slice data[100.0: 100.5]\n",
      "2.14 ms ± 188 µs per loop (mean ± std. dev. of 7 runs, 100 loops each)\n",
      "Testing slice data[:, 450]\n",
      "72.9 ms ± 3.06 ms per loop (mean ± std. dev. of 7 runs, 1 loop each)\n",
      "Testing slice data[:, :, 700.0: 710]\n",
      "115 ms ± 3.83 ms per loop (mean ± std. dev. of 7 runs, 1 loop each)\n",
      "Testing slice data[:, :, :, 621.9: 622.1]\n",
      "203 ms ± 7.16 ms per loop (mean ± std. dev. of 7 runs, 1 loop each)\n",
      "\n",
      "Time to slice DIA_21:\n",
      "Testing slice data[100.0: 100.5]\n",
      "1.02 ms ± 63.4 µs per loop (mean ± std. dev. of 7 runs, 1000 loops each)\n",
      "Testing slice data[:, 450]\n",
      "135 ms ± 6.47 ms per loop (mean ± std. dev. of 7 runs, 1 loop each)\n",
      "Testing slice data[:, :, 700.0: 710]\n",
      "5.58 s ± 186 ms per loop (mean ± std. dev. of 7 runs, 1 loop each)\n",
      "Testing slice data[:, :, :, 621.9: 622.1]\n",
      "414 ms ± 4.61 ms per loop (mean ± std. dev. of 7 runs, 1 loop each)\n",
      "\n",
      "Time to slice DDA_120:\n",
      "Testing slice data[100.0: 100.5]\n",
      "746 µs ± 51.9 µs per loop (mean ± std. dev. of 7 runs, 1000 loops each)\n",
      "Testing slice data[:, 450]\n",
      "364 ms ± 13.2 ms per loop (mean ± std. dev. of 7 runs, 1 loop each)\n",
      "Testing slice data[:, :, 700.0: 710]\n",
      "617 ms ± 15.5 ms per loop (mean ± std. dev. of 7 runs, 1 loop each)\n",
      "Testing slice data[:, :, :, 621.9: 622.1]\n",
      "1.25 s ± 26.6 ms per loop (mean ± std. dev. of 7 runs, 1 loop each)\n",
      "\n"
     ]
    }
   ],
   "source": [
    "import os\n",
    "frame_slice_times = {}\n",
    "scan_slice_times = {}\n",
    "quad_slice_times = {}\n",
    "tof_slice_times = {}\n",
    "for sample_id, data in timstof_objects.items():\n",
    "    print(f\"Time to slice {sample_id}:\")\n",
    "    \n",
    "    print(\"Testing slice data[100.0: 100.5]\")\n",
    "    frame_slice_time = %timeit -o tmp = data[100.:100.5]\n",
    "    frame_slice_times[sample_id] = np.average(frame_slice_time.timings)\n",
    "    \n",
    "    print(\"Testing slice data[:, 450]\")\n",
    "    scan_slice_time = %timeit -o tmp = data[:, 450]\n",
    "    scan_slice_times[sample_id] = np.average(scan_slice_time.timings)\n",
    "    \n",
    "    print(\"Testing slice data[:, :, 700.0: 710]\")\n",
    "    quad_slice_time = %timeit -o tmp = data[:, :, 700.0: 710]\n",
    "    quad_slice_times[sample_id] = np.average(quad_slice_time.timings)\n",
    "    \n",
    "    print(\"Testing slice data[:, :, :, 621.9: 622.1]\")\n",
    "    tof_slice_time = %timeit -o tmp = data[:, :, :, 621.9: 622.1]\n",
    "    tof_slice_times[sample_id] = np.average(tof_slice_time.timings)\n",
    "    \n",
    "    print(\"\")"
   ]
  },
  {
   "cell_type": "code",
   "execution_count": 26,
   "metadata": {},
   "outputs": [],
   "source": [
    "overview[\"Slice LC (s)\"] = pd.Series(frame_slice_times).apply(\n",
    "    lambda x : f\"{x:#.3g}\"\n",
    ")\n",
    "overview[\"Slice TIMS (s)\"] = pd.Series(scan_slice_times).apply(\n",
    "    lambda x : f\"{x:#.3g}\"\n",
    ")\n",
    "overview[\"Slice QUAD (s)\"] = pd.Series(quad_slice_times).apply(\n",
    "    lambda x : f\"{x:#.3g}\"\n",
    ")\n",
    "overview[\"Slice TOF (s)\"] = pd.Series(tof_slice_times).apply(\n",
    "    lambda x : f\"{x:#.3g}\"\n",
    ")"
   ]
  },
  {
   "cell_type": "markdown",
   "metadata": {},
   "source": [
    "## Final overview"
   ]
  },
  {
   "cell_type": "markdown",
   "metadata": {},
   "source": [
    "The final time performance can thus be summarized as follows:"
   ]
  },
  {
   "cell_type": "code",
   "execution_count": 37,
   "metadata": {},
   "outputs": [
    {
     "data": {
      "text/html": [
       "<div>\n",
       "<style scoped>\n",
       "    .dataframe tbody tr th:only-of-type {\n",
       "        vertical-align: middle;\n",
       "    }\n",
       "\n",
       "    .dataframe tbody tr th {\n",
       "        vertical-align: top;\n",
       "    }\n",
       "\n",
       "    .dataframe thead th {\n",
       "        text-align: right;\n",
       "    }\n",
       "</style>\n",
       "<table border=\"1\" class=\"dataframe\">\n",
       "  <thead>\n",
       "    <tr style=\"text-align: right;\">\n",
       "      <th></th>\n",
       "      <th>Type</th>\n",
       "      <th>Gradient (min)</th>\n",
       "      <th>Detector strikes</th>\n",
       "      <th>Load .d (s)</th>\n",
       "      <th>Save .hdf (s)</th>\n",
       "      <th>Load .hdf (s)</th>\n",
       "      <th>Slice frame (s)</th>\n",
       "      <th>Slice scan (s)</th>\n",
       "      <th>Slice quad (s)</th>\n",
       "      <th>Slice tof (s)</th>\n",
       "    </tr>\n",
       "  </thead>\n",
       "  <tbody>\n",
       "    <tr>\n",
       "      <th>DDA_6</th>\n",
       "      <td>DDA</td>\n",
       "      <td>6</td>\n",
       "      <td>214,172,697</td>\n",
       "      <td>1.82</td>\n",
       "      <td>0.572</td>\n",
       "      <td>0.508</td>\n",
       "      <td>0.00200</td>\n",
       "      <td>0.0457</td>\n",
       "      <td>0.0284</td>\n",
       "      <td>0.0875</td>\n",
       "    </tr>\n",
       "    <tr>\n",
       "      <th>DIA_6</th>\n",
       "      <td>DIA</td>\n",
       "      <td>6</td>\n",
       "      <td>158,552,099</td>\n",
       "      <td>1.24</td>\n",
       "      <td>0.415</td>\n",
       "      <td>0.359</td>\n",
       "      <td>0.00847</td>\n",
       "      <td>0.0335</td>\n",
       "      <td>0.734</td>\n",
       "      <td>0.106</td>\n",
       "    </tr>\n",
       "    <tr>\n",
       "      <th>DDA_21</th>\n",
       "      <td>DDA</td>\n",
       "      <td>21</td>\n",
       "      <td>295,251,252</td>\n",
       "      <td>3.38</td>\n",
       "      <td>0.810</td>\n",
       "      <td>0.871</td>\n",
       "      <td>0.00214</td>\n",
       "      <td>0.0729</td>\n",
       "      <td>0.115</td>\n",
       "      <td>0.203</td>\n",
       "    </tr>\n",
       "    <tr>\n",
       "      <th>DIA_21</th>\n",
       "      <td>DIA</td>\n",
       "      <td>21</td>\n",
       "      <td>730,564,765</td>\n",
       "      <td>5.33</td>\n",
       "      <td>1.86</td>\n",
       "      <td>2.06</td>\n",
       "      <td>0.00102</td>\n",
       "      <td>0.135</td>\n",
       "      <td>5.58</td>\n",
       "      <td>0.414</td>\n",
       "    </tr>\n",
       "    <tr>\n",
       "      <th>DDA_120</th>\n",
       "      <td>DDA</td>\n",
       "      <td>120</td>\n",
       "      <td>2,074,019,899</td>\n",
       "      <td>23.9</td>\n",
       "      <td>5.18</td>\n",
       "      <td>10.5</td>\n",
       "      <td>0.000746</td>\n",
       "      <td>0.364</td>\n",
       "      <td>0.617</td>\n",
       "      <td>1.25</td>\n",
       "    </tr>\n",
       "  </tbody>\n",
       "</table>\n",
       "</div>"
      ],
      "text/plain": [
       "        Type Gradient (min) Detector strikes Load .d (s) Save .hdf (s)  \\\n",
       "DDA_6    DDA              6      214,172,697        1.82         0.572   \n",
       "DIA_6    DIA              6      158,552,099        1.24         0.415   \n",
       "DDA_21   DDA             21      295,251,252        3.38         0.810   \n",
       "DIA_21   DIA             21      730,564,765        5.33          1.86   \n",
       "DDA_120  DDA            120    2,074,019,899        23.9          5.18   \n",
       "\n",
       "        Load .hdf (s) Slice frame (s) Slice scan (s) Slice quad (s)  \\\n",
       "DDA_6           0.508         0.00200         0.0457         0.0284   \n",
       "DIA_6           0.359         0.00847         0.0335          0.734   \n",
       "DDA_21          0.871         0.00214         0.0729          0.115   \n",
       "DIA_21           2.06         0.00102          0.135           5.58   \n",
       "DDA_120          10.5        0.000746          0.364          0.617   \n",
       "\n",
       "        Slice tof (s)  \n",
       "DDA_6          0.0875  \n",
       "DIA_6           0.106  \n",
       "DDA_21          0.203  \n",
       "DIA_21          0.414  \n",
       "DDA_120          1.25  "
      ]
     },
     "execution_count": 37,
     "metadata": {},
     "output_type": "execute_result"
    }
   ],
   "source": [
    "overview"
   ]
  },
  {
   "cell_type": "code",
   "execution_count": null,
   "metadata": {},
   "outputs": [],
   "source": []
  }
 ],
 "metadata": {
  "kernelspec": {
   "display_name": "Python [conda env:alphatims]",
   "language": "python",
   "name": "conda-env-alphatims-py"
  },
  "language_info": {
   "codemirror_mode": {
    "name": "ipython",
    "version": 3
   },
   "file_extension": ".py",
   "mimetype": "text/x-python",
   "name": "python",
   "nbconvert_exporter": "python",
   "pygments_lexer": "ipython3",
   "version": "3.8.8"
  },
  "toc": {
   "base_numbering": 1,
   "nav_menu": {},
   "number_sections": true,
   "sideBar": true,
   "skip_h1_title": false,
   "title_cell": "Table of Contents",
   "title_sidebar": "Contents",
   "toc_cell": false,
   "toc_position": {},
   "toc_section_display": true,
   "toc_window_display": true
  },
  "varInspector": {
   "cols": {
    "lenName": 16,
    "lenType": 16,
    "lenVar": 40
   },
   "kernels_config": {
    "python": {
     "delete_cmd_postfix": "",
     "delete_cmd_prefix": "del ",
     "library": "var_list.py",
     "varRefreshCmd": "print(var_dic_list())"
    },
    "r": {
     "delete_cmd_postfix": ") ",
     "delete_cmd_prefix": "rm(",
     "library": "var_list.r",
     "varRefreshCmd": "cat(var_dic_list()) "
    }
   },
   "types_to_exclude": [
    "module",
    "function",
    "builtin_function_or_method",
    "instance",
    "_Feature"
   ],
   "window_display": false
  }
 },
 "nbformat": 4,
 "nbformat_minor": 4
}
