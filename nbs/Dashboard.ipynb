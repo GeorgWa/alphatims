{
 "cells": [
  {
   "cell_type": "markdown",
   "metadata": {},
   "source": [
    "## AlphaTims"
   ]
  },
  {
   "cell_type": "code",
   "execution_count": null,
   "metadata": {},
   "outputs": [],
   "source": [
    "import os\n",
    "import re\n",
    "import numpy as np\n",
    "import pandas as pd\n",
    "import panel as pn\n",
    "\n",
    "pn.extension('bokeh')"
   ]
  },
  {
   "cell_type": "code",
   "execution_count": null,
   "metadata": {},
   "outputs": [],
   "source": [
    "css = '''\n",
    ".bk.opt {\n",
    "    position: relative;\n",
    "    display: block;\n",
    "    left: 75px;\n",
    "    top: 0px;\n",
    "    width: 80px;\n",
    "    height: 80px;\n",
    "}\n",
    "\n",
    "h1 {\n",
    "    color: #045082;\n",
    "    font-size: 45px;\n",
    "    line-height: 0.6;\n",
    "    text-align: center;\n",
    "}\n",
    "\n",
    "'''\n",
    "pn.extension(raw_css=[css])"
   ]
  },
  {
   "cell_type": "code",
   "execution_count": null,
   "metadata": {},
   "outputs": [],
   "source": [
    "### HEADER\n",
    "\n",
    "header_titel = pn.pane.Markdown(\n",
    "    '# AlphaTims', \n",
    "    width=1250\n",
    ")\n",
    "mpi_biochem_logo = pn.pane.PNG(\n",
    "    'img/mpi_logo.png', \n",
    "    link_url='https://www.biochem.mpg.de/en', \n",
    "    width=60, \n",
    "    height=60,\n",
    "    align='start'\n",
    ")\n",
    "mpi_logo = pn.pane.JPG(\n",
    "    'img/max-planck-gesellschaft.jpg', \n",
    "    link_url='https://www.biochem.mpg.de/en',\n",
    "    height=62,\n",
    "    embed=True,\n",
    "    width=62,\n",
    "    margin=(5, 0, 0, 5),\n",
    "    css_classes=['opt']\n",
    ")\n",
    "github_logo = pn.pane.PNG(\n",
    "    'img/github.png',\n",
    "    link_url='https://github.com/MannLabs/alphatims',\n",
    "    height=70,\n",
    ")\n",
    "\n",
    "header = pn.Row(\n",
    "    mpi_biochem_logo,\n",
    "    mpi_logo,\n",
    "    header_titel,\n",
    "    github_logo,\n",
    "    height=70\n",
    ")"
   ]
  },
  {
   "cell_type": "code",
   "execution_count": null,
   "metadata": {},
   "outputs": [],
   "source": [
    "layout = pn.Column(\n",
    "    header\n",
    ")\n",
    "layout.servable()"
   ]
  },
  {
   "cell_type": "code",
   "execution_count": null,
   "metadata": {},
   "outputs": [],
   "source": []
  },
  {
   "cell_type": "code",
   "execution_count": null,
   "metadata": {},
   "outputs": [],
   "source": []
  },
  {
   "cell_type": "code",
   "execution_count": null,
   "metadata": {},
   "outputs": [],
   "source": []
  },
  {
   "cell_type": "code",
   "execution_count": null,
   "metadata": {},
   "outputs": [],
   "source": []
  },
  {
   "cell_type": "code",
   "execution_count": null,
   "metadata": {},
   "outputs": [],
   "source": []
  },
  {
   "cell_type": "code",
   "execution_count": null,
   "metadata": {},
   "outputs": [],
   "source": []
  },
  {
   "cell_type": "code",
   "execution_count": null,
   "metadata": {},
   "outputs": [],
   "source": []
  }
 ],
 "metadata": {
  "kernelspec": {
   "display_name": "Python 3",
   "language": "python",
   "name": "python3"
  },
  "language_info": {
   "codemirror_mode": {
    "name": "ipython",
    "version": 3
   },
   "file_extension": ".py",
   "mimetype": "text/x-python",
   "name": "python",
   "nbconvert_exporter": "python",
   "pygments_lexer": "ipython3",
   "version": "3.7.6"
  }
 },
 "nbformat": 4,
 "nbformat_minor": 4
}
